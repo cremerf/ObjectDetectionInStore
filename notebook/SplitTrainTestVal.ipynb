{
 "cells": [
  {
   "cell_type": "code",
   "execution_count": 2,
   "metadata": {},
   "outputs": [],
   "source": [
    "import itertools\n",
    "import os\n",
    "import shutil\n",
    "import random"
   ]
  },
  {
   "cell_type": "code",
   "execution_count": 20,
   "metadata": {},
   "outputs": [],
   "source": [
    "if os.path.isdir('C:/Users/Fede/Desktop/FOCUS/AnyoneAI/FinalProject/data/train') is False:\n",
    "\n",
    "    for i in range(0, 10):\n",
    "        shutil.move(f'train/{i}')\n",
    "        os.mkdir(f'valid/{i}')\n",
    "        os.mkdir(f'test/{i}')\n",
    "\n",
    "        valid_samples = random.sample(os.listdir(f'train/{i}'), 30)\n",
    "        for j in valid_samples:\n",
    "            shutil.move(f'train/{i}/{j}', f'valid/{i}')\n",
    "\n",
    "        test_samples = random.sample(os.listdir(f'train/{i}'), 5)\n",
    "        for k in test_samples:\n",
    "            shutil.move(f'train/{i}/{k}', f'test/{i}')\n",
    "os.chdir('../..')"
   ]
  },
  {
   "cell_type": "code",
   "execution_count": null,
   "metadata": {},
   "outputs": [],
   "source": [
    "os.path.exists(img_path)"
   ]
  }
 ],
 "metadata": {
  "kernelspec": {
   "display_name": "Python 3.10.7 64-bit",
   "language": "python",
   "name": "python3"
  },
  "language_info": {
   "codemirror_mode": {
    "name": "ipython",
    "version": 3
   },
   "file_extension": ".py",
   "mimetype": "text/x-python",
   "name": "python",
   "nbconvert_exporter": "python",
   "pygments_lexer": "ipython3",
   "version": "3.10.7"
  },
  "orig_nbformat": 4,
  "vscode": {
   "interpreter": {
    "hash": "bf3fddaf5f16d859b6e8d0eeaf4cfc855ee191cae7b483f6b3cdefa4bf9da992"
   }
  }
 },
 "nbformat": 4,
 "nbformat_minor": 2
}
