{
 "cells": [
  {
   "cell_type": "code",
   "execution_count": 3,
   "metadata": {},
   "outputs": [],
   "source": [
    "import sys\n",
    "sys.path.append('../')"
   ]
  },
  {
   "cell_type": "code",
   "execution_count": 8,
   "metadata": {},
   "outputs": [],
   "source": [
    "%load_ext autoreload\n",
    "%autoreload 2"
   ]
  },
  {
   "cell_type": "code",
   "execution_count": 9,
   "metadata": {},
   "outputs": [],
   "source": [
    "%reload_ext autoreload"
   ]
  },
  {
   "cell_type": "code",
   "execution_count": 64,
   "metadata": {},
   "outputs": [],
   "source": [
    "from scripts.detect_voids import get_neightbours\n",
    "from packages.yolo_predict import YOLO_Pred\n",
    "import pandas as pd\n",
    "import cv2"
   ]
  },
  {
   "cell_type": "code",
   "execution_count": 13,
   "metadata": {},
   "outputs": [],
   "source": [
    "yolo = YOLO_Pred('/home/cremerf/FinalProject/data/first_training/weights/bestnoft.onnx', '/home/cremerf/FinalProject/data/config_blmodel.yaml')"
   ]
  },
  {
   "cell_type": "code",
   "execution_count": 95,
   "metadata": {},
   "outputs": [],
   "source": [
    "df_predictions = yolo.predictions('/home/cremerf/FinalProject/eudes-fede/test_imgs/test_7.jpg')"
   ]
  },
  {
   "cell_type": "code",
   "execution_count": 98,
   "metadata": {},
   "outputs": [
    {
     "data": {
      "text/plain": [
       "Center_X    329.663025\n",
       "Center_Y    538.918457\n",
       "Width        24.987236\n",
       "Height       23.199200\n",
       "Name: 187, dtype: float64"
      ]
     },
     "execution_count": 98,
     "metadata": {},
     "output_type": "execute_result"
    }
   ],
   "source": [
    "df_predictions.loc[187]"
   ]
  },
  {
   "cell_type": "code",
   "execution_count": 86,
   "metadata": {},
   "outputs": [],
   "source": [
    "dict_of_neightbours = get_neightbours(img_path='/home/cremerf/FinalProject/eudes-fede/test_imgs/test_7.jpg')"
   ]
  },
  {
   "cell_type": "code",
   "execution_count": 87,
   "metadata": {},
   "outputs": [
    {
     "data": {
      "text/plain": [
       "{'572': [571, 564, 273, 277, 275, 599, 600],\n",
       " '1059': [1054, 825, 1055],\n",
       " '581': [576, 577, 580, 579, 317, 20],\n",
       " '585': [581, 583, 580, 579, 20, 612],\n",
       " '1203': [1201, 430, 166, 428, 1198],\n",
       " '576': [572, 574, 571, 277],\n",
       " '432': [431, 430, 428, 1198, 1145],\n",
       " '1067': [581, 576, 577, 583, 574, 580, 1297, 1294, 1060, 579, 1296],\n",
       " '577': [572, 576, 574, 571],\n",
       " '583': [581, 577, 580, 579, 317, 20],\n",
       " '574': [572, 571, 277, 275],\n",
       " '1172': [432, 431, 430, 1145],\n",
       " '580': [576, 577, 574, 579, 317],\n",
       " '1205': [1203, 1201, 166, 428],\n",
       " '1054': [1053, 234],\n",
       " '1297': [1294, 1060, 1296],\n",
       " '496': [494, 1235, 1237],\n",
       " '571': [564, 273, 561, 277, 270, 275, 562, 304, 599, 600],\n",
       " '494': [1235, 1237, 1233],\n",
       " '586': [581, 585, 583, 580, 20, 612],\n",
       " '1294': [572, 1059, 576, 574, 571, 1060, 825, 277, 275],\n",
       " '431': [430, 428, 1198, 1145],\n",
       " '1235': [1233],\n",
       " '1237': [1235, 1233],\n",
       " '834': [1067, 1297, 1296],\n",
       " '89': [399, 1150, 1152, 99],\n",
       " '1060': [1059, 825, 273, 277, 275, 1055],\n",
       " '1201': [166, 1198],\n",
       " '459': [1203, 1205, 1201, 457],\n",
       " '425': [1174, 422, 420, 1176, 120],\n",
       " '457': [1203, 1205, 1201, 166],\n",
       " '579': [572, 576, 577, 574, 317],\n",
       " '564': [561, 270, 562, 303, 869, 304, 616, 328],\n",
       " '696': [108, 109, 687, 691, 965, 712],\n",
       " '825': [1054, 1053, 1055],\n",
       " '393': [89, 399, 391, 1150, 943, 1152, 99],\n",
       " '430': [428, 1198],\n",
       " '230': [225, 1260, 229, 227, 1262],\n",
       " '1174': [432, 1172, 431],\n",
       " '399': [397, 94, 1145],\n",
       " '66': [1132, 364],\n",
       " '391': [89, 399, 1150, 1152, 99],\n",
       " '587': [585, 583, 586],\n",
       " '273': [1054, 564, 270, 562, 328, 599],\n",
       " '489': [185, 187, 183, 768],\n",
       " '1053': [234, 841],\n",
       " '561': [325, 303, 869, 616, 1320],\n",
       " '143': [459, 457, 729, 461],\n",
       " '422': [1172, 1174, 420, 1176, 120],\n",
       " '225': [1260, 216, 1028, 1262],\n",
       " '277': [1054, 564, 273, 270, 275, 562, 1055, 599, 600],\n",
       " '185': [496, 498, 183, 768],\n",
       " '270': [1053, 561, 562, 303, 304, 328],\n",
       " '1132': [364],\n",
       " '1260': [216, 1028, 1027],\n",
       " '257': [581, 585, 1067, 583, 580, 1297, 586, 834, 579, 587, 1296],\n",
       " '1318': [257, 295, 838, 296, 298, 836, 310],\n",
       " '275': [1054, 564, 273, 270, 562, 1055, 599, 600],\n",
       " '562': [561, 303, 869, 304, 616, 328],\n",
       " '397': [94, 1145],\n",
       " '187': [185, 498, 183, 768],\n",
       " '446': [459, 143, 729, 461],\n",
       " '364': [1120, 379],\n",
       " '166': [1198],\n",
       " '420': [432, 1172, 431, 1174, 1176, 120],\n",
       " '216': [1028, 1027, 791],\n",
       " '83': [89, 393, 391, 943, 92],\n",
       " '428': [1198],\n",
       " '325': [889],\n",
       " '1233': [1250],\n",
       " '498': [496, 494, 1237],\n",
       " '1176': [432, 1172, 431, 1174],\n",
       " '1112': [1110, 333],\n",
       " '1028': [1027, 791],\n",
       " '1110': [333],\n",
       " '303': [325, 869, 616],\n",
       " '138': [425, 143, 422, 446, 149, 733, 691, 965],\n",
       " '139': [138, 149, 733, 691, 965, 712],\n",
       " '729': [1205, 459, 457, 461],\n",
       " '183': [496, 494, 498],\n",
       " '120': [1172, 1174, 399, 1176],\n",
       " '869': [325, 889, 841, 1320],\n",
       " '768': [496, 494, 1235, 1237, 498, 183],\n",
       " '1296': [572, 1059, 576, 577, 574, 571, 1294, 1060, 579],\n",
       " '1150': [399, 397, 94],\n",
       " '1100': [317, 20, 612],\n",
       " '175': [489, 143, 185, 187, 446, 729],\n",
       " '943': [89, 391, 1152, 99],\n",
       " '304': [561, 303, 869, 616],\n",
       " '654': [66, 1132, 364],\n",
       " '1027': [791, 506],\n",
       " '149': [143, 446, 733],\n",
       " '177': [489, 143, 187, 446, 175],\n",
       " '733': [143, 446, 729],\n",
       " '371': [66, 1132, 654],\n",
       " '1055': [1054, 273, 1053, 270, 234],\n",
       " '333': [1120, 328],\n",
       " '108': [89, 425, 393, 391, 422, 943, 691, 965],\n",
       " '229': [225, 227, 1262],\n",
       " '299': [296, 298, 310],\n",
       " '61': [59],\n",
       " '227': [225, 1260, 216, 1262],\n",
       " '1152': [399, 397, 1150],\n",
       " '1262': [1260, 216, 1028, 1027],\n",
       " '234': [841],\n",
       " '170': [175, 149, 177, 733, 178],\n",
       " '92': [89, 393, 391, 943],\n",
       " '351': [325, 889, 1124],\n",
       " '910': [1124, 382],\n",
       " '461': [1203, 1205, 459, 457],\n",
       " '109': [89, 425, 393, 391, 422, 943, 108, 92, 691, 965],\n",
       " '791': [506],\n",
       " '56': [371, 71],\n",
       " '20': [317],\n",
       " '815': [230, 229, 227],\n",
       " '612': [317, 20],\n",
       " '295': [585, 586, 587],\n",
       " '71': [66, 654, 371],\n",
       " '838': [834, 257, 836],\n",
       " '296': [310],\n",
       " '1120': [325, 351, 910, 889, 616, 1126, 1124, 1119],\n",
       " '99': [1150, 1152],\n",
       " '616': [325, 889],\n",
       " '298': [296, 310],\n",
       " '178': [489, 446, 175, 177, 733],\n",
       " '1126': [351, 910, 1124, 382],\n",
       " '631': [1114, 39, 628],\n",
       " '687': [425, 422, 108, 691, 965],\n",
       " '1114': [1112, 1110, 333],\n",
       " '691': [425, 422, 420, 120],\n",
       " '39': [1112, 1114, 628],\n",
       " '328': [325, 889, 616],\n",
       " '330': [23],\n",
       " '632': [631, 39],\n",
       " '1124': [889],\n",
       " '599': [564, 561, 270, 562, 303, 869, 304, 616, 328],\n",
       " '661': [371, 56, 71],\n",
       " '59': [661],\n",
       " '533': [221],\n",
       " '379': [351, 910, 1126, 1124, 382, 1119],\n",
       " '836': [1067, 834, 257],\n",
       " '23': [632],\n",
       " '628': [1112, 1110, 1114],\n",
       " '816': [230, 229, 815],\n",
       " '965': [89, 425, 393, 391, 422, 420],\n",
       " '221': [230, 815, 816],\n",
       " '1119': [325, 351, 910, 889, 1124, 382],\n",
       " '94': [1145],\n",
       " '712': [425, 422, 420, 1176, 120, 108, 691, 965],\n",
       " '310': [295],\n",
       " '600': [564, 273, 561, 270, 562, 303, 304, 616, 328, 599],\n",
       " '43': [632]}"
      ]
     },
     "execution_count": 87,
     "metadata": {},
     "output_type": "execute_result"
    }
   ],
   "source": [
    "dict_of_neightbours[0]"
   ]
  },
  {
   "cell_type": "code",
   "execution_count": 88,
   "metadata": {},
   "outputs": [
    {
     "data": {
      "text/plain": [
       "161"
      ]
     },
     "execution_count": 88,
     "metadata": {},
     "output_type": "execute_result"
    }
   ],
   "source": [
    "len(df_predictions)"
   ]
  },
  {
   "cell_type": "code",
   "execution_count": null,
   "metadata": {},
   "outputs": [],
   "source": [
    "for index in df_predictions.index:\n",
    "    print(index)\n",
    "    for list_ in dict_of_neightbours[0][str(index)]:\n",
    "        print(list_)"
   ]
  },
  {
   "cell_type": "code",
   "execution_count": 89,
   "metadata": {},
   "outputs": [
    {
     "data": {
      "text/plain": [
       "152"
      ]
     },
     "execution_count": 89,
     "metadata": {},
     "output_type": "execute_result"
    }
   ],
   "source": [
    "len(dict_of_neightbours[0])"
   ]
  },
  {
   "cell_type": "code",
   "execution_count": 23,
   "metadata": {},
   "outputs": [
    {
     "ename": "KeyError",
     "evalue": "'1145'",
     "output_type": "error",
     "traceback": [
      "\u001b[0;31m---------------------------------------------------------------------------\u001b[0m",
      "\u001b[0;31mKeyError\u001b[0m                                  Traceback (most recent call last)",
      "\u001b[0;32m<ipython-input-23-7c37b2d2fb8d>\u001b[0m in \u001b[0;36m<module>\u001b[0;34m\u001b[0m\n\u001b[0;32m----> 1\u001b[0;31m \u001b[0mdict_of_neightbours\u001b[0m\u001b[0;34m[\u001b[0m\u001b[0;36m0\u001b[0m\u001b[0;34m]\u001b[0m\u001b[0;34m[\u001b[0m\u001b[0;34m'1145'\u001b[0m\u001b[0;34m]\u001b[0m\u001b[0;34m\u001b[0m\u001b[0;34m\u001b[0m\u001b[0m\n\u001b[0m",
      "\u001b[0;31mKeyError\u001b[0m: '1145'"
     ]
    }
   ],
   "source": [
    "dict_of_neightbours[0]['1145']"
   ]
  },
  {
   "cell_type": "code",
   "execution_count": 63,
   "metadata": {},
   "outputs": [
    {
     "data": {
      "text/plain": [
       "[571, 564, 273, 277, 275, 599, 600]"
      ]
     },
     "execution_count": 63,
     "metadata": {},
     "output_type": "execute_result"
    }
   ],
   "source": [
    "dict_of_neightbours[0]['572']"
   ]
  },
  {
   "cell_type": "code",
   "execution_count": 82,
   "metadata": {},
   "outputs": [],
   "source": [
    "def bb_intersection_over_union(df_predictions: pd.DataFrame, index_key:int, index_neightbour:int) -> float:\n",
    "\n",
    "    a = index_key\n",
    "    xA1 = df_predictions.loc[a][0] - df_predictions.loc[a][2]/2\n",
    "    yA1 = df_predictions.loc[a][1] + df_predictions.loc[a][3]/2\n",
    "    xA2 = df_predictions.loc[a][0] + df_predictions.loc[a][2]/2\n",
    "    yA2 = df_predictions.loc[a][1] - df_predictions.loc[a][3]/2\n",
    "    boxA = [xA1, yA1, xA2, yA2 ]\n",
    "\n",
    "    b = index_neightbour # indices vecinos detectados que estan en el diccionario\n",
    "    xB1 = df_predictions.loc[b][0] - df_predictions.loc[b][2]/2\n",
    "    yB1 = df_predictions.loc[b][1] + df_predictions.loc[b][3]/2\n",
    "    xB2 = df_predictions.loc[b][0] + df_predictions.loc[b][2]/2\n",
    "    yB2 = df_predictions.loc[b][1] - df_predictions.loc[b][3]/2\n",
    "    boxB = [xB1, yB1,xB2, yB2 ]\n",
    "    \n",
    "    # determine the (x, y)-coordinates of the intersection rectangle\n",
    "    xA = max(boxA[0], boxB[0])\n",
    "    yA = max(boxA[1], boxB[1])\n",
    "    xB = min(boxA[2], boxB[2])\n",
    "    yB = min(boxA[3], boxB[3])\n",
    "\n",
    "\n",
    "    # compute the area of intersection rectangle\n",
    "    interArea = (xB - xA) * (yB - yA)\n",
    "\n",
    "    # compute the area of both the prediction and ground-truth\n",
    "    # rectangles\n",
    "    boxAArea = (boxA[2] - boxA[0]) * (boxA[3] - boxA[1])\n",
    "    boxBArea = (boxB[2] - boxB[0]) * (boxB[3] - boxB[1])\n",
    "\n",
    "    # compute the intersection over union by taking the intersection\n",
    "    # area and dividing it by the sum of prediction + ground-truth\n",
    "    # areas - the interesection area\n",
    "    iou = interArea / float(boxAArea + boxBArea - interArea)\n",
    "\n",
    "    # return the intersection over union value\n",
    "    return iou"
   ]
  },
  {
   "cell_type": "code",
   "execution_count": null,
   "metadata": {},
   "outputs": [],
   "source": [
    "# para left w = -w y h = 0\n",
    "# para right w = +w y h = 0\n",
    "# para top w = 0 y h = + h"
   ]
  },
  {
   "cell_type": "code",
   "execution_count": 90,
   "metadata": {},
   "outputs": [],
   "source": [
    "df_predictions_test = df_predictions.copy()"
   ]
  },
  {
   "cell_type": "code",
   "execution_count": 94,
   "metadata": {},
   "outputs": [
    {
     "data": {
      "text/plain": [
       "Center_X             194.691193\n",
       "Center_Y             139.134720\n",
       "Width                 22.782619\n",
       "Height                90.207382\n",
       "Height_over_image    184.238411\n",
       "Name: 1260, dtype: float64"
      ]
     },
     "execution_count": 94,
     "metadata": {},
     "output_type": "execute_result"
    }
   ],
   "source": [
    "df_predictions_test.loc[1260]"
   ]
  },
  {
   "cell_type": "code",
   "execution_count": 91,
   "metadata": {},
   "outputs": [],
   "source": [
    "df_predictions_test['Height_over_image'] =  df_predictions_test.Center_Y + (df_predictions_test.Height/2)"
   ]
  },
  {
   "cell_type": "code",
   "execution_count": 92,
   "metadata": {},
   "outputs": [
    {
     "data": {
      "text/html": [
       "<div>\n",
       "<style scoped>\n",
       "    .dataframe tbody tr th:only-of-type {\n",
       "        vertical-align: middle;\n",
       "    }\n",
       "\n",
       "    .dataframe tbody tr th {\n",
       "        vertical-align: top;\n",
       "    }\n",
       "\n",
       "    .dataframe thead th {\n",
       "        text-align: right;\n",
       "    }\n",
       "</style>\n",
       "<table border=\"1\" class=\"dataframe\">\n",
       "  <thead>\n",
       "    <tr style=\"text-align: right;\">\n",
       "      <th></th>\n",
       "      <th>Center_X</th>\n",
       "      <th>Center_Y</th>\n",
       "      <th>Width</th>\n",
       "      <th>Height</th>\n",
       "      <th>Height_over_image</th>\n",
       "    </tr>\n",
       "  </thead>\n",
       "  <tbody>\n",
       "    <tr>\n",
       "      <th>1250</th>\n",
       "      <td>18.964607</td>\n",
       "      <td>563.583618</td>\n",
       "      <td>26.012243</td>\n",
       "      <td>46.716412</td>\n",
       "      <td>586.941824</td>\n",
       "    </tr>\n",
       "  </tbody>\n",
       "</table>\n",
       "</div>"
      ],
      "text/plain": [
       "       Center_X    Center_Y      Width     Height  Height_over_image\n",
       "1250  18.964607  563.583618  26.012243  46.716412         586.941824"
      ]
     },
     "execution_count": 92,
     "metadata": {},
     "output_type": "execute_result"
    }
   ],
   "source": [
    "df_predictions_test[df_predictions_test['Height_over_image'] == df_predictions_test['Height_over_image'].max()]"
   ]
  },
  {
   "cell_type": "code",
   "execution_count": 60,
   "metadata": {},
   "outputs": [
    {
     "data": {
      "text/plain": [
       "23.51447868347168"
      ]
     },
     "execution_count": 60,
     "metadata": {},
     "output_type": "execute_result"
    }
   ],
   "source": [
    "df_predictions.loc[572][2]"
   ]
  },
  {
   "cell_type": "code",
   "execution_count": 65,
   "metadata": {},
   "outputs": [],
   "source": [
    "image = cv2.imread(filename='/home/cremerf/FinalProject/eudes-fede/test_imgs/test_7.jpg')"
   ]
  },
  {
   "cell_type": "code",
   "execution_count": 72,
   "metadata": {},
   "outputs": [
    {
     "data": {
      "text/plain": [
       "(3264, 2448)"
      ]
     },
     "execution_count": 72,
     "metadata": {},
     "output_type": "execute_result"
    }
   ],
   "source": [
    "image.shape[0:2]"
   ]
  },
  {
   "cell_type": "code",
   "execution_count": 99,
   "metadata": {},
   "outputs": [
    {
     "name": "stdout",
     "output_type": "stream",
     "text": [
      "This bb 572 has neightbours\n"
     ]
    },
    {
     "ename": "KeyError",
     "evalue": "'572'",
     "output_type": "error",
     "traceback": [
      "\u001b[0;31m---------------------------------------------------------------------------\u001b[0m",
      "\u001b[0;31mKeyError\u001b[0m                                  Traceback (most recent call last)",
      "\u001b[0;32m/usr/local/lib/python3.6/dist-packages/pandas/core/indexes/base.py\u001b[0m in \u001b[0;36mget_loc\u001b[0;34m(self, key, method, tolerance)\u001b[0m\n\u001b[1;32m   2897\u001b[0m             \u001b[0;32mtry\u001b[0m\u001b[0;34m:\u001b[0m\u001b[0;34m\u001b[0m\u001b[0;34m\u001b[0m\u001b[0m\n\u001b[0;32m-> 2898\u001b[0;31m                 \u001b[0;32mreturn\u001b[0m \u001b[0mself\u001b[0m\u001b[0;34m.\u001b[0m\u001b[0m_engine\u001b[0m\u001b[0;34m.\u001b[0m\u001b[0mget_loc\u001b[0m\u001b[0;34m(\u001b[0m\u001b[0mcasted_key\u001b[0m\u001b[0;34m)\u001b[0m\u001b[0;34m\u001b[0m\u001b[0;34m\u001b[0m\u001b[0m\n\u001b[0m\u001b[1;32m   2899\u001b[0m             \u001b[0;32mexcept\u001b[0m \u001b[0mKeyError\u001b[0m \u001b[0;32mas\u001b[0m \u001b[0merr\u001b[0m\u001b[0;34m:\u001b[0m\u001b[0;34m\u001b[0m\u001b[0;34m\u001b[0m\u001b[0m\n",
      "\u001b[0;32mpandas/_libs/index.pyx\u001b[0m in \u001b[0;36mpandas._libs.index.IndexEngine.get_loc\u001b[0;34m()\u001b[0m\n",
      "\u001b[0;32mpandas/_libs/index.pyx\u001b[0m in \u001b[0;36mpandas._libs.index.IndexEngine.get_loc\u001b[0;34m()\u001b[0m\n",
      "\u001b[0;32mpandas/_libs/index_class_helper.pxi\u001b[0m in \u001b[0;36mpandas._libs.index.Int64Engine._check_type\u001b[0;34m()\u001b[0m\n",
      "\u001b[0;31mKeyError\u001b[0m: '572'",
      "\nThe above exception was the direct cause of the following exception:\n",
      "\u001b[0;31mKeyError\u001b[0m                                  Traceback (most recent call last)",
      "\u001b[0;32m<ipython-input-99-56c782e1c0e6>\u001b[0m in \u001b[0;36m<module>\u001b[0;34m\u001b[0m\n\u001b[1;32m      2\u001b[0m     \u001b[0mprint\u001b[0m\u001b[0;34m(\u001b[0m\u001b[0;34mf'This bb {index_a} has neightbours'\u001b[0m\u001b[0;34m)\u001b[0m\u001b[0;34m\u001b[0m\u001b[0;34m\u001b[0m\u001b[0m\n\u001b[1;32m      3\u001b[0m     \u001b[0mh_image\u001b[0m\u001b[0;34m,\u001b[0m \u001b[0mw_image\u001b[0m \u001b[0;34m=\u001b[0m \u001b[0mimage\u001b[0m\u001b[0;34m.\u001b[0m\u001b[0mshape\u001b[0m\u001b[0;34m[\u001b[0m\u001b[0;36m0\u001b[0m\u001b[0;34m:\u001b[0m\u001b[0;36m2\u001b[0m\u001b[0;34m]\u001b[0m \u001b[0;31m# obtengo limites de la imagen\u001b[0m\u001b[0;34m\u001b[0m\u001b[0;34m\u001b[0m\u001b[0m\n\u001b[0;32m----> 4\u001b[0;31m     \u001b[0mw_index_a\u001b[0m \u001b[0;34m=\u001b[0m \u001b[0mdf_predictions\u001b[0m\u001b[0;34m.\u001b[0m\u001b[0mloc\u001b[0m\u001b[0;34m[\u001b[0m\u001b[0mindex_a\u001b[0m\u001b[0;34m]\u001b[0m\u001b[0;34m[\u001b[0m\u001b[0;36m2\u001b[0m\u001b[0;34m]\u001b[0m\u001b[0;34m\u001b[0m\u001b[0;34m\u001b[0m\u001b[0m\n\u001b[0m\u001b[1;32m      5\u001b[0m     \u001b[0mxA1\u001b[0m \u001b[0;34m=\u001b[0m \u001b[0mdf_predictions\u001b[0m\u001b[0;34m.\u001b[0m\u001b[0mloc\u001b[0m\u001b[0;34m[\u001b[0m\u001b[0mindex_a\u001b[0m\u001b[0;34m]\u001b[0m\u001b[0;34m[\u001b[0m\u001b[0;36m0\u001b[0m\u001b[0;34m]\u001b[0m \u001b[0;34m-\u001b[0m \u001b[0mdf_predictions\u001b[0m\u001b[0;34m.\u001b[0m\u001b[0mloc\u001b[0m\u001b[0;34m[\u001b[0m\u001b[0mindex_a\u001b[0m\u001b[0;34m]\u001b[0m\u001b[0;34m[\u001b[0m\u001b[0;36m2\u001b[0m\u001b[0;34m]\u001b[0m\u001b[0;34m/\u001b[0m\u001b[0;36m2\u001b[0m \u001b[0;34m-\u001b[0m \u001b[0mw_index_a\u001b[0m\u001b[0;34m\u001b[0m\u001b[0;34m\u001b[0m\u001b[0m\n\u001b[1;32m      6\u001b[0m     \u001b[0myA1\u001b[0m \u001b[0;34m=\u001b[0m \u001b[0mdf_predictions\u001b[0m\u001b[0;34m.\u001b[0m\u001b[0mloc\u001b[0m\u001b[0;34m[\u001b[0m\u001b[0mindex_a\u001b[0m\u001b[0;34m]\u001b[0m\u001b[0;34m[\u001b[0m\u001b[0;36m1\u001b[0m\u001b[0;34m]\u001b[0m \u001b[0;34m+\u001b[0m \u001b[0mdf_predictions\u001b[0m\u001b[0;34m.\u001b[0m\u001b[0mloc\u001b[0m\u001b[0;34m[\u001b[0m\u001b[0mindex_a\u001b[0m\u001b[0;34m]\u001b[0m\u001b[0;34m[\u001b[0m\u001b[0;36m3\u001b[0m\u001b[0;34m]\u001b[0m\u001b[0;34m/\u001b[0m\u001b[0;36m2\u001b[0m\u001b[0;34m\u001b[0m\u001b[0;34m\u001b[0m\u001b[0m\n",
      "\u001b[0;32m/usr/local/lib/python3.6/dist-packages/pandas/core/indexing.py\u001b[0m in \u001b[0;36m__getitem__\u001b[0;34m(self, key)\u001b[0m\n\u001b[1;32m    877\u001b[0m \u001b[0;34m\u001b[0m\u001b[0m\n\u001b[1;32m    878\u001b[0m             \u001b[0mmaybe_callable\u001b[0m \u001b[0;34m=\u001b[0m \u001b[0mcom\u001b[0m\u001b[0;34m.\u001b[0m\u001b[0mapply_if_callable\u001b[0m\u001b[0;34m(\u001b[0m\u001b[0mkey\u001b[0m\u001b[0;34m,\u001b[0m \u001b[0mself\u001b[0m\u001b[0;34m.\u001b[0m\u001b[0mobj\u001b[0m\u001b[0;34m)\u001b[0m\u001b[0;34m\u001b[0m\u001b[0;34m\u001b[0m\u001b[0m\n\u001b[0;32m--> 879\u001b[0;31m             \u001b[0;32mreturn\u001b[0m \u001b[0mself\u001b[0m\u001b[0;34m.\u001b[0m\u001b[0m_getitem_axis\u001b[0m\u001b[0;34m(\u001b[0m\u001b[0mmaybe_callable\u001b[0m\u001b[0;34m,\u001b[0m \u001b[0maxis\u001b[0m\u001b[0;34m=\u001b[0m\u001b[0maxis\u001b[0m\u001b[0;34m)\u001b[0m\u001b[0;34m\u001b[0m\u001b[0;34m\u001b[0m\u001b[0m\n\u001b[0m\u001b[1;32m    880\u001b[0m \u001b[0;34m\u001b[0m\u001b[0m\n\u001b[1;32m    881\u001b[0m     \u001b[0;32mdef\u001b[0m \u001b[0m_is_scalar_access\u001b[0m\u001b[0;34m(\u001b[0m\u001b[0mself\u001b[0m\u001b[0;34m,\u001b[0m \u001b[0mkey\u001b[0m\u001b[0;34m:\u001b[0m \u001b[0mTuple\u001b[0m\u001b[0;34m)\u001b[0m\u001b[0;34m:\u001b[0m\u001b[0;34m\u001b[0m\u001b[0;34m\u001b[0m\u001b[0m\n",
      "\u001b[0;32m/usr/local/lib/python3.6/dist-packages/pandas/core/indexing.py\u001b[0m in \u001b[0;36m_getitem_axis\u001b[0;34m(self, key, axis)\u001b[0m\n\u001b[1;32m   1108\u001b[0m         \u001b[0;31m# fall thru to straight lookup\u001b[0m\u001b[0;34m\u001b[0m\u001b[0;34m\u001b[0m\u001b[0;34m\u001b[0m\u001b[0m\n\u001b[1;32m   1109\u001b[0m         \u001b[0mself\u001b[0m\u001b[0;34m.\u001b[0m\u001b[0m_validate_key\u001b[0m\u001b[0;34m(\u001b[0m\u001b[0mkey\u001b[0m\u001b[0;34m,\u001b[0m \u001b[0maxis\u001b[0m\u001b[0;34m)\u001b[0m\u001b[0;34m\u001b[0m\u001b[0;34m\u001b[0m\u001b[0m\n\u001b[0;32m-> 1110\u001b[0;31m         \u001b[0;32mreturn\u001b[0m \u001b[0mself\u001b[0m\u001b[0;34m.\u001b[0m\u001b[0m_get_label\u001b[0m\u001b[0;34m(\u001b[0m\u001b[0mkey\u001b[0m\u001b[0;34m,\u001b[0m \u001b[0maxis\u001b[0m\u001b[0;34m=\u001b[0m\u001b[0maxis\u001b[0m\u001b[0;34m)\u001b[0m\u001b[0;34m\u001b[0m\u001b[0;34m\u001b[0m\u001b[0m\n\u001b[0m\u001b[1;32m   1111\u001b[0m \u001b[0;34m\u001b[0m\u001b[0m\n\u001b[1;32m   1112\u001b[0m     \u001b[0;32mdef\u001b[0m \u001b[0m_get_slice_axis\u001b[0m\u001b[0;34m(\u001b[0m\u001b[0mself\u001b[0m\u001b[0;34m,\u001b[0m \u001b[0mslice_obj\u001b[0m\u001b[0;34m:\u001b[0m \u001b[0mslice\u001b[0m\u001b[0;34m,\u001b[0m \u001b[0maxis\u001b[0m\u001b[0;34m:\u001b[0m \u001b[0mint\u001b[0m\u001b[0;34m)\u001b[0m\u001b[0;34m:\u001b[0m\u001b[0;34m\u001b[0m\u001b[0;34m\u001b[0m\u001b[0m\n",
      "\u001b[0;32m/usr/local/lib/python3.6/dist-packages/pandas/core/indexing.py\u001b[0m in \u001b[0;36m_get_label\u001b[0;34m(self, label, axis)\u001b[0m\n\u001b[1;32m   1057\u001b[0m     \u001b[0;32mdef\u001b[0m \u001b[0m_get_label\u001b[0m\u001b[0;34m(\u001b[0m\u001b[0mself\u001b[0m\u001b[0;34m,\u001b[0m \u001b[0mlabel\u001b[0m\u001b[0;34m,\u001b[0m \u001b[0maxis\u001b[0m\u001b[0;34m:\u001b[0m \u001b[0mint\u001b[0m\u001b[0;34m)\u001b[0m\u001b[0;34m:\u001b[0m\u001b[0;34m\u001b[0m\u001b[0;34m\u001b[0m\u001b[0m\n\u001b[1;32m   1058\u001b[0m         \u001b[0;31m# GH#5667 this will fail if the label is not present in the axis.\u001b[0m\u001b[0;34m\u001b[0m\u001b[0;34m\u001b[0m\u001b[0;34m\u001b[0m\u001b[0m\n\u001b[0;32m-> 1059\u001b[0;31m         \u001b[0;32mreturn\u001b[0m \u001b[0mself\u001b[0m\u001b[0;34m.\u001b[0m\u001b[0mobj\u001b[0m\u001b[0;34m.\u001b[0m\u001b[0mxs\u001b[0m\u001b[0;34m(\u001b[0m\u001b[0mlabel\u001b[0m\u001b[0;34m,\u001b[0m \u001b[0maxis\u001b[0m\u001b[0;34m=\u001b[0m\u001b[0maxis\u001b[0m\u001b[0;34m)\u001b[0m\u001b[0;34m\u001b[0m\u001b[0;34m\u001b[0m\u001b[0m\n\u001b[0m\u001b[1;32m   1060\u001b[0m \u001b[0;34m\u001b[0m\u001b[0m\n\u001b[1;32m   1061\u001b[0m     \u001b[0;32mdef\u001b[0m \u001b[0m_handle_lowerdim_multi_index_axis0\u001b[0m\u001b[0;34m(\u001b[0m\u001b[0mself\u001b[0m\u001b[0;34m,\u001b[0m \u001b[0mtup\u001b[0m\u001b[0;34m:\u001b[0m \u001b[0mTuple\u001b[0m\u001b[0;34m)\u001b[0m\u001b[0;34m:\u001b[0m\u001b[0;34m\u001b[0m\u001b[0;34m\u001b[0m\u001b[0m\n",
      "\u001b[0;32m/usr/local/lib/python3.6/dist-packages/pandas/core/generic.py\u001b[0m in \u001b[0;36mxs\u001b[0;34m(self, key, axis, level, drop_level)\u001b[0m\n\u001b[1;32m   3491\u001b[0m             \u001b[0mloc\u001b[0m\u001b[0;34m,\u001b[0m \u001b[0mnew_index\u001b[0m \u001b[0;34m=\u001b[0m \u001b[0mself\u001b[0m\u001b[0;34m.\u001b[0m\u001b[0mindex\u001b[0m\u001b[0;34m.\u001b[0m\u001b[0mget_loc_level\u001b[0m\u001b[0;34m(\u001b[0m\u001b[0mkey\u001b[0m\u001b[0;34m,\u001b[0m \u001b[0mdrop_level\u001b[0m\u001b[0;34m=\u001b[0m\u001b[0mdrop_level\u001b[0m\u001b[0;34m)\u001b[0m\u001b[0;34m\u001b[0m\u001b[0;34m\u001b[0m\u001b[0m\n\u001b[1;32m   3492\u001b[0m         \u001b[0;32melse\u001b[0m\u001b[0;34m:\u001b[0m\u001b[0;34m\u001b[0m\u001b[0;34m\u001b[0m\u001b[0m\n\u001b[0;32m-> 3493\u001b[0;31m             \u001b[0mloc\u001b[0m \u001b[0;34m=\u001b[0m \u001b[0mself\u001b[0m\u001b[0;34m.\u001b[0m\u001b[0mindex\u001b[0m\u001b[0;34m.\u001b[0m\u001b[0mget_loc\u001b[0m\u001b[0;34m(\u001b[0m\u001b[0mkey\u001b[0m\u001b[0;34m)\u001b[0m\u001b[0;34m\u001b[0m\u001b[0;34m\u001b[0m\u001b[0m\n\u001b[0m\u001b[1;32m   3494\u001b[0m \u001b[0;34m\u001b[0m\u001b[0m\n\u001b[1;32m   3495\u001b[0m             \u001b[0;32mif\u001b[0m \u001b[0misinstance\u001b[0m\u001b[0;34m(\u001b[0m\u001b[0mloc\u001b[0m\u001b[0;34m,\u001b[0m \u001b[0mnp\u001b[0m\u001b[0;34m.\u001b[0m\u001b[0mndarray\u001b[0m\u001b[0;34m)\u001b[0m\u001b[0;34m:\u001b[0m\u001b[0;34m\u001b[0m\u001b[0;34m\u001b[0m\u001b[0m\n",
      "\u001b[0;32m/usr/local/lib/python3.6/dist-packages/pandas/core/indexes/base.py\u001b[0m in \u001b[0;36mget_loc\u001b[0;34m(self, key, method, tolerance)\u001b[0m\n\u001b[1;32m   2898\u001b[0m                 \u001b[0;32mreturn\u001b[0m \u001b[0mself\u001b[0m\u001b[0;34m.\u001b[0m\u001b[0m_engine\u001b[0m\u001b[0;34m.\u001b[0m\u001b[0mget_loc\u001b[0m\u001b[0;34m(\u001b[0m\u001b[0mcasted_key\u001b[0m\u001b[0;34m)\u001b[0m\u001b[0;34m\u001b[0m\u001b[0;34m\u001b[0m\u001b[0m\n\u001b[1;32m   2899\u001b[0m             \u001b[0;32mexcept\u001b[0m \u001b[0mKeyError\u001b[0m \u001b[0;32mas\u001b[0m \u001b[0merr\u001b[0m\u001b[0;34m:\u001b[0m\u001b[0;34m\u001b[0m\u001b[0;34m\u001b[0m\u001b[0m\n\u001b[0;32m-> 2900\u001b[0;31m                 \u001b[0;32mraise\u001b[0m \u001b[0mKeyError\u001b[0m\u001b[0;34m(\u001b[0m\u001b[0mkey\u001b[0m\u001b[0;34m)\u001b[0m \u001b[0;32mfrom\u001b[0m \u001b[0merr\u001b[0m\u001b[0;34m\u001b[0m\u001b[0;34m\u001b[0m\u001b[0m\n\u001b[0m\u001b[1;32m   2901\u001b[0m \u001b[0;34m\u001b[0m\u001b[0m\n\u001b[1;32m   2902\u001b[0m         \u001b[0;32mif\u001b[0m \u001b[0mtolerance\u001b[0m \u001b[0;32mis\u001b[0m \u001b[0;32mnot\u001b[0m \u001b[0;32mNone\u001b[0m\u001b[0;34m:\u001b[0m\u001b[0;34m\u001b[0m\u001b[0;34m\u001b[0m\u001b[0m\n",
      "\u001b[0;31mKeyError\u001b[0m: '572'"
     ]
    }
   ],
   "source": [
    "for index_a, index_b in dict_of_neightbours[0].items():\n",
    "    print(f'This bb {index_a} has neightbours')\n",
    "    h_image, w_image = image.shape[0:2] # obtengo limites de la imagen\n",
    "    w_index_a = df_predictions.loc[index_a][2]\n",
    "    xA1 = df_predictions.loc[index_a][0] - df_predictions.loc[index_a][2]/2 - w_index_a\n",
    "    yA1 = df_predictions.loc[index_a][1] + df_predictions.loc[index_a][3]/2\n",
    "    xA2 = df_predictions.loc[index_a][0] + df_predictions.loc[index_a][2]/2 - w_index_a\n",
    "    yA2 = df_predictions.loc[index_a][1] - df_predictions.loc[index_a][3]/2\n",
    "    boxA = [xA1, yA1, xA2, yA2]\n",
    "    if 0 < xA1 < w_image and 0 < xA2 < w_image and 0 < yA1 < h_image and  0 < yA2 < h_image:\n",
    "        for item in index_b:\n",
    "            print(f'Neightbour bound box: {item}')\n",
    "            xB1 = df_predictions.loc[index_b][0] - df_predictions.loc[index_b][2]/2\n",
    "            yB1 = df_predictions.loc[index_b][1] + df_predictions.loc[index_b][3]/2\n",
    "            xB2 = df_predictions.loc[index_b][0] + df_predictions.loc[index_b][2]/2\n",
    "            yB2 = df_predictions.loc[index_b][1] - df_predictions.loc[index_b][3]/2\n",
    "            boxB = [xB1, yB1,xB2, yB2 ]\n",
    "\n",
    "            xA = max(boxA[0], boxB[0])\n",
    "            yA = max(boxA[1], boxB[1])\n",
    "            xB = min(boxA[2], boxB[2])\n",
    "            yB = min(boxA[3], boxB[3])\n",
    "\n",
    "            interArea = (xB - xA) * (yB - yA)\n",
    "\n",
    "            boxAArea = (boxA[2] - boxA[0]) * (boxA[3] - boxA[1])\n",
    "            boxBArea = (boxB[2] - boxB[0]) * (boxB[3] - boxB[1])\n",
    "\n",
    "            iou = interArea / float(boxAArea + boxBArea - interArea)\n",
    "            if iou <= 0.05:\n",
    "                print(f'Entre {index_b} y {index_a} hay un espacio vacio')\n",
    "\n",
    "\n",
    "\n",
    "\n"
   ]
  },
  {
   "cell_type": "code",
   "execution_count": null,
   "metadata": {},
   "outputs": [],
   "source": [
    "a = index_a\n",
    "xA1 = df_predictions.loc[a][0]-df_predictions.loc[a][2]/2\n",
    "yA1 = df_predictions.loc[a][1]+df_predictions.loc[a][3]/2\n",
    "xA2 = df_predictions.loc[a][0]+df_predictions.loc[a][2]/2\n",
    "yA2 = df_predictions.loc[a][1]-df_predictions.loc[a][3]/2\n",
    "boxA = [xA1, yA1, xA2, yA2 ]\n",
    "\n",
    "b = index_b # indices vecinos detectados que estan en el diccionario\n",
    "xB1 = df_predictions.loc[b][0]-df_predictions.loc[b][2]/2\n",
    "yB1 = df_predictions.loc[b][1]+df_predictions.loc[b][3]/2\n",
    "xB2 = df_predictions.loc[b][0]+df_predictions.loc[b][2]/2\n",
    "yB2 = df_predictions.loc[b][1]-df_predictions.loc[b][3]/2\n",
    "boxB = [xB1, yB1,xB2, yB2 ]\n",
    "# determine the (x, y)-coordinates of the intersection rectangle\n",
    "xA = max(boxA[0], boxB[0])\n",
    "yA = max(boxA[1], boxB[1])\n",
    "xB = min(boxA[2], boxB[2])\n",
    "yB = min(boxA[3], boxB[3])\n",
    "\n",
    "\n",
    "# compute the area of intersection rectangle\n",
    "interArea = (xB - xA) * (yB - yA)\n",
    "\n",
    "# compute the area of both the prediction and ground-truth\n",
    "# rectangles\n",
    "boxAArea = (boxA[2] - boxA[0]) * (boxA[3] - boxA[1])\n",
    "boxBArea = (boxB[2] - boxB[0]) * (boxB[3] - boxB[1])\n",
    "\n",
    "# compute the intersection over union by taking the intersection\n",
    "# area and dividing it by the sum of prediction + ground-truth\n",
    "# areas - the interesection area\n",
    "iou = interArea / float(boxAArea + boxBArea - interArea)"
   ]
  },
  {
   "cell_type": "code",
   "execution_count": null,
   "metadata": {},
   "outputs": [],
   "source": [
    "iou"
   ]
  }
 ],
 "metadata": {
  "kernelspec": {
   "display_name": "Python 3.6.9 64-bit",
   "language": "python",
   "name": "python3"
  },
  "language_info": {
   "codemirror_mode": {
    "name": "ipython",
    "version": 3
   },
   "file_extension": ".py",
   "mimetype": "text/x-python",
   "name": "python",
   "nbconvert_exporter": "python",
   "pygments_lexer": "ipython3",
   "version": "3.6.9"
  },
  "orig_nbformat": 4,
  "vscode": {
   "interpreter": {
    "hash": "31f2aee4e71d21fbe5cf8b01ff0e069b9275f58929596ceb00d14d90e3e16cd6"
   }
  }
 },
 "nbformat": 4,
 "nbformat_minor": 2
}
