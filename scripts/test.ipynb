{
 "cells": [
  {
   "cell_type": "code",
   "execution_count": 1,
   "metadata": {},
   "outputs": [],
   "source": [
    "import sys\n",
    "sys.path.append('../')"
   ]
  },
  {
   "cell_type": "code",
   "execution_count": 2,
   "metadata": {},
   "outputs": [],
   "source": [
    "%load_ext autoreload\n",
    "%autoreload 2"
   ]
  },
  {
   "cell_type": "code",
   "execution_count": 3,
   "metadata": {},
   "outputs": [],
   "source": [
    "%reload_ext autoreload"
   ]
  },
  {
   "cell_type": "code",
   "execution_count": 7,
   "metadata": {},
   "outputs": [],
   "source": [
    "from scripts.detect_voids import get_neightbours, search_voids_bb_neightbours\n",
    "from packages.yolo_predict import YOLO_Pred\n",
    "from concurrent.futures import ThreadPoolExecutor\n",
    "import pandas as pd\n",
    "import cv2\n",
    "import multiprocessing\n",
    "from functools import partial"
   ]
  },
  {
   "cell_type": "code",
   "execution_count": 5,
   "metadata": {},
   "outputs": [],
   "source": [
    "yolo = YOLO_Pred('/home/cremerf/FinalProject/data/first_training/weights/bestnoft.onnx', '/home/cremerf/FinalProject/data/config_blmodel.yaml')"
   ]
  },
  {
   "cell_type": "code",
   "execution_count": 69,
   "metadata": {},
   "outputs": [
    {
     "name": "stderr",
     "output_type": "stream",
     "text": [
      "[autoreload of scripts.detect_voids failed: Traceback (most recent call last):\n",
      "  File \"/usr/local/lib/python3.6/dist-packages/IPython/extensions/autoreload.py\", line 245, in check\n",
      "    superreload(m, reload, self.old_objects)\n",
      "  File \"/usr/local/lib/python3.6/dist-packages/IPython/extensions/autoreload.py\", line 394, in superreload\n",
      "    module = reload(module)\n",
      "  File \"/usr/lib/python3.6/imp.py\", line 315, in reload\n",
      "    return importlib.reload(module)\n",
      "  File \"/usr/lib/python3.6/importlib/__init__.py\", line 166, in reload\n",
      "    _bootstrap._exec(spec, module)\n",
      "  File \"<frozen importlib._bootstrap>\", line 618, in _exec\n",
      "  File \"<frozen importlib._bootstrap_external>\", line 678, in exec_module\n",
      "  File \"<frozen importlib._bootstrap>\", line 219, in _call_with_frames_removed\n",
      "  File \"../scripts/detect_voids.py\", line 1, in <module>\n",
      "    from scripts.detect_voids import get_neightbours, search_voids_bb_neightbours\n",
      "ImportError: cannot import name 'get_neightbours'\n",
      "]\n"
     ]
    }
   ],
   "source": [
    "image = cv2.imread('/home/cremerf/FinalProject/eudes-fede/test_imgs/test_7.jpg')"
   ]
  },
  {
   "cell_type": "code",
   "execution_count": 6,
   "metadata": {},
   "outputs": [],
   "source": [
    "df_predictions = yolo.predictions(image)"
   ]
  },
  {
   "cell_type": "code",
   "execution_count": 13,
   "metadata": {},
   "outputs": [],
   "source": [
    "def bb_intersection_over_union(df_predictions: pd.DataFrame, index_key:int, index_neightbour:int) -> float:\n",
    "\n",
    "    a = index_key\n",
    "    xA1 = df_predictions.loc[a][0] - df_predictions.loc[a][2]/2\n",
    "    yA1 = df_predictions.loc[a][1] + df_predictions.loc[a][3]/2\n",
    "    xA2 = df_predictions.loc[a][0] + df_predictions.loc[a][2]/2\n",
    "    yA2 = df_predictions.loc[a][1] - df_predictions.loc[a][3]/2\n",
    "    boxA = [xA1, yA1, xA2, yA2 ]\n",
    "\n",
    "    b = index_neightbour # indices vecinos detectados que estan en el diccionario\n",
    "    xB1 = df_predictions.loc[b][0] - df_predictions.loc[b][2]/2\n",
    "    yB1 = df_predictions.loc[b][1] + df_predictions.loc[b][3]/2\n",
    "    xB2 = df_predictions.loc[b][0] + df_predictions.loc[b][2]/2\n",
    "    yB2 = df_predictions.loc[b][1] - df_predictions.loc[b][3]/2\n",
    "    boxB = [xB1, yB1,xB2, yB2 ]\n",
    "    \n",
    "    # determine the (x, y)-coordinates of the intersection rectangle\n",
    "    xA = max(boxA[0], boxB[0])\n",
    "    yA = max(boxA[1], boxB[1])\n",
    "    xB = min(boxA[2], boxB[2])\n",
    "    yB = min(boxA[3], boxB[3])\n",
    "\n",
    "\n",
    "    # compute the area of intersection rectangle\n",
    "    interArea = (xB - xA) * (yB - yA)\n",
    "\n",
    "    # compute the area of both the prediction and ground-truth\n",
    "    # rectangles\n",
    "    boxAArea = (boxA[2] - boxA[0]) * (boxA[3] - boxA[1])\n",
    "    boxBArea = (boxB[2] - boxB[0]) * (boxB[3] - boxB[1])\n",
    "\n",
    "    # compute the intersection over union by taking the intersection\n",
    "    # area and dividing it by the sum of prediction + ground-truth\n",
    "    # areas - the interesection area\n",
    "    iou = interArea / float(boxAArea + boxBArea - interArea)\n",
    "\n",
    "    # return the intersection over union value\n",
    "    return iou"
   ]
  },
  {
   "cell_type": "code",
   "execution_count": null,
   "metadata": {},
   "outputs": [],
   "source": [
    "# para left w = -w y h = 0\n",
    "# para right w = +w y h = 0\n",
    "# para top w = 0 y h = + h"
   ]
  },
  {
   "cell_type": "code",
   "execution_count": 47,
   "metadata": {},
   "outputs": [],
   "source": [
    "image = cv2.imread(filename='/home/cremerf/FinalProject/eudes-fede/test_imgs/test_7.jpg')"
   ]
  },
  {
   "cell_type": "code",
   "execution_count": 18,
   "metadata": {},
   "outputs": [
    {
     "data": {
      "text/plain": [
       "(3264, 2448)"
      ]
     },
     "execution_count": 18,
     "metadata": {},
     "output_type": "execute_result"
    }
   ],
   "source": [
    "image.shape[0:2]"
   ]
  },
  {
   "cell_type": "code",
   "execution_count": 130,
   "metadata": {},
   "outputs": [
    {
     "data": {
      "text/plain": [
       "Center_X    210.405991\n",
       "Center_Y    233.077942\n",
       "Width        24.668375\n",
       "Height       70.583984\n",
       "Name: 1059, dtype: float64"
      ]
     },
     "execution_count": 130,
     "metadata": {},
     "output_type": "execute_result"
    }
   ],
   "source": [
    "df_predictions.loc[1059]"
   ]
  },
  {
   "cell_type": "code",
   "execution_count": 129,
   "metadata": {},
   "outputs": [
    {
     "data": {
      "text/plain": [
       "24.66837501525879"
      ]
     },
     "execution_count": 129,
     "metadata": {},
     "output_type": "execute_result"
    }
   ],
   "source": [
    "df_predictions.loc[1059][2]"
   ]
  },
  {
   "cell_type": "code",
   "execution_count": 123,
   "metadata": {},
   "outputs": [],
   "source": [
    "xA1 = df_predictions.loc[1059][0] - df_predictions.loc[1059][2]/2 - w_index_a\n",
    "yA1 = df_predictions.loc[1059][1] - df_predictions.loc[1059][3]/2\n",
    "xA2 = df_predictions.loc[1059][0] + df_predictions.loc[1059][2]/2 - w_index_a\n",
    "yA2 = df_predictions.loc[1059][1] + df_predictions.loc[1059][3]/2"
   ]
  },
  {
   "cell_type": "code",
   "execution_count": 125,
   "metadata": {},
   "outputs": [
    {
     "data": {
      "text/plain": [
       "(184.86670780181885,\n",
       " 268.36993408203125,\n",
       " 209.53508281707764,\n",
       " 197.78594970703125)"
      ]
     },
     "execution_count": 125,
     "metadata": {},
     "output_type": "execute_result"
    }
   ],
   "source": [
    "xA1, yA1, xA2, yA2"
   ]
  },
  {
   "cell_type": "code",
   "execution_count": 103,
   "metadata": {},
   "outputs": [],
   "source": [
    "def search_voids_bb_neightbours_left(df_predictions: pd.DataFrame, dict_of_neightbours: dict):\n",
    "    \n",
    "    list_of_voids = []\n",
    "    for index_a, index_b in dict_of_neightbours.items():\n",
    "\n",
    "        first_lists = []\n",
    "        h_image, w_image = image.shape[0:2] # obtengo limites de la imagen\n",
    "        w_index_a = df_predictions.loc[int(index_a)][2]\n",
    "        h_index_a = df_predictions.loc[int(index_a)][3]\n",
    "        \n",
    "        xA1 = df_predictions.loc[int(index_a)][0] - df_predictions.loc[int(index_a)][2]/2 - w_index_a\n",
    "        yA1 = df_predictions.loc[int(index_a)][1] - df_predictions.loc[int(index_a)][3]/2\n",
    "        xA2 = df_predictions.loc[int(index_a)][0] + df_predictions.loc[int(index_a)][2]/2 - w_index_a\n",
    "        yA2 = df_predictions.loc[int(index_a)][1] + df_predictions.loc[int(index_a)][3]/2\n",
    "        boxA = [xA1, yA1, xA2, yA2]\n",
    "\n",
    "        void_number = 1\n",
    "        void_text = f'Void number {void_number}'        \n",
    "        X_center_A = df_predictions.loc[int(index_a)][0] - df_predictions.loc[int(index_a)][2]  #X_center - Width\n",
    "        Y_center_A = df_predictions.loc[int(index_a)][1]  - df_predictions.loc[int(index_a)][2]  #Y_center - Width\n",
    "\n",
    "        print(f'Evaluating {index_a}...')\n",
    "        if 0 < xA1 < w_image and 0 < xA2 < w_image and 0 < yA1 < h_image and  0 < yA2 < h_image:\n",
    "                trigger = True\n",
    "                for item in index_b:\n",
    "                    xB1 = df_predictions.loc[item][0] - df_predictions.loc[item][2]/2\n",
    "                    yB1 = df_predictions.loc[item][1] - df_predictions.loc[item][3]/2\n",
    "                    xB2 = df_predictions.loc[item][0] + df_predictions.loc[item][2]/2\n",
    "                    yB2 = df_predictions.loc[item][1] + df_predictions.loc[item][3]/2\n",
    "                    boxB = [xB1, yB1,xB2, yB2]\n",
    "\n",
    "                    xA = max(boxA[0], boxB[0])\n",
    "                    yA = max(boxA[1], boxB[1])\n",
    "                    xB = min(boxA[2], boxB[2])\n",
    "                    yB = min(boxA[3], boxB[3])\n",
    "\n",
    "                    interArea = (xB - xA) * (yB - yA)\n",
    "\n",
    "                    boxAArea = (boxA[2] - boxA[0]) * (boxA[3] - boxA[1])\n",
    "                    boxBArea = (boxB[2] - boxB[0]) * (boxB[3] - boxB[1])\n",
    "\n",
    "                    iou = interArea / float(boxAArea + boxBArea - interArea)\n",
    "                    trigger = trigger and (iou < 0.1)\n",
    "                #print(f'Trigger: {trigger}')\n",
    "                if trigger == False:\n",
    "                    pass\n",
    "                    #print(f'No hay espacio vacio a la izquierda de {index_a}')\n",
    "                else:\n",
    "                    print(f'A la izquierda de {index_a} hay espacio vacio')\n",
    "                    \n",
    "                    list_of_voids.append(boxA)\n",
    "\n",
    "    return list_of_voids"
   ]
  },
  {
   "cell_type": "code",
   "execution_count": null,
   "metadata": {},
   "outputs": [],
   "source": [
    "# izquierda (-1)\n",
    "xA1 = df_predictions.loc[int(index_a)][0] - df_predictions.loc[int(index_a)][2]/2 - k * w_index_a\n",
    "yA1 = df_predictions.loc[int(index_a)][1] - df_predictions.loc[int(index_a)][3]/2\n",
    "xA2 = df_predictions.loc[int(index_a)][0] + df_predictions.loc[int(index_a)][2]/2 - k * w_index_a\n",
    "yA2 = df_predictions.loc[int(index_a)][1] + df_predictions.loc[int(index_a)][3]/2"
   ]
  },
  {
   "cell_type": "code",
   "execution_count": null,
   "metadata": {},
   "outputs": [],
   "source": [
    "# derecha (+1)\n",
    "xA1 = df_predictions.loc[int(index_a)][0] - df_predictions.loc[int(index_a)][2]/2 + k * w_index_a\n",
    "yA1 = df_predictions.loc[int(index_a)][1] - df_predictions.loc[int(index_a)][3]/2\n",
    "xA2 = df_predictions.loc[int(index_a)][0] + df_predictions.loc[int(index_a)][2]/2 + k * w_index_a\n",
    "yA2 = df_predictions.loc[int(index_a)][1] + df_predictions.loc[int(index_a)][3]/2"
   ]
  },
  {
   "cell_type": "code",
   "execution_count": null,
   "metadata": {},
   "outputs": [],
   "source": [
    "# arriba \n",
    "xA1 = df_predictions.loc[int(index_a)][0] - df_predictions.loc[int(index_a)][2]/2 \n",
    "yA1 = df_predictions.loc[int(index_a)][1] - df_predictions.loc[int(index_a)][3]/2 - h_index_a\n",
    "xA2 = df_predictions.loc[int(index_a)][0] + df_predictions.loc[int(index_a)][2]/2 \n",
    "yA2 = df_predictions.loc[int(index_a)][1] + df_predictions.loc[int(index_a)][3]/2 - h_index_a"
   ]
  },
  {
   "cell_type": "code",
   "execution_count": null,
   "metadata": {},
   "outputs": [],
   "source": [
    "# arriba \n",
    "xA1 = df_predictions.loc[int(index_a)][0] - df_predictions.loc[int(index_a)][2]/2 + k * w_index_a # Para izquierda: (-1) / Para derecha: (1) / Para arriba: 0\n",
    "yA1 = df_predictions.loc[int(index_a)][1] - df_predictions.loc[int(index_a)][3]/2 + k * h_index_a # Para izquierda: 0 / Para derecha: 0 / Para arriba: -1\n",
    "xA2 = df_predictions.loc[int(index_a)][0] + df_predictions.loc[int(index_a)][2]/2 + k * w_index_a # Para izquierda: (-1) / Para derecha: (1) / Para arriba: 0\n",
    "yA2 = df_predictions.loc[int(index_a)][1] + df_predictions.loc[int(index_a)][3]/2 + K * h_index_a # Para izquierda: 0 / Para derecha: 0 / Para arriba: -1"
   ]
  },
  {
   "cell_type": "code",
   "execution_count": 102,
   "metadata": {},
   "outputs": [
    {
     "name": "stdout",
     "output_type": "stream",
     "text": [
      "Evaluating 572...\n",
      "Evaluating 1059...\n",
      "Evaluating 581...\n",
      "Evaluating 585...\n",
      "Evaluating 1203...\n",
      "Evaluating 576...\n",
      "Evaluating 432...\n",
      "Evaluating 1067...\n",
      "Evaluating 577...\n",
      "Evaluating 583...\n",
      "Evaluating 574...\n",
      "Evaluating 1172...\n",
      "Evaluating 580...\n",
      "Evaluating 1205...\n",
      "Evaluating 1054...\n",
      "Evaluating 1297...\n",
      "Evaluating 496...\n",
      "Evaluating 571...\n",
      "Evaluating 494...\n",
      "Evaluating 586...\n",
      "Evaluating 1294...\n",
      "Evaluating 431...\n",
      "Evaluating 1235...\n",
      "Evaluating 1237...\n",
      "Evaluating 834...\n",
      "Evaluating 89...\n",
      "Evaluating 1060...\n",
      "Evaluating 1201...\n",
      "Evaluating 459...\n",
      "Evaluating 425...\n",
      "Evaluating 457...\n",
      "Evaluating 579...\n",
      "Evaluating 564...\n",
      "Evaluating 696...\n",
      "Evaluating 825...\n",
      "Evaluating 393...\n",
      "Evaluating 430...\n",
      "Evaluating 230...\n",
      "Evaluating 1174...\n",
      "Evaluating 399...\n",
      "Evaluating 66...\n",
      "Evaluating 391...\n",
      "Evaluating 587...\n",
      "Evaluating 273...\n",
      "Evaluating 489...\n",
      "Evaluating 1053...\n",
      "Evaluating 561...\n",
      "Evaluating 143...\n",
      "Evaluating 422...\n",
      "Evaluating 225...\n",
      "Evaluating 277...\n",
      "Evaluating 185...\n",
      "Evaluating 270...\n",
      "Evaluating 1132...\n",
      "Evaluating 1260...\n",
      "Evaluating 257...\n",
      "Evaluating 1318...\n",
      "Evaluating 275...\n",
      "Evaluating 562...\n",
      "Evaluating 397...\n",
      "Evaluating 187...\n",
      "Evaluating 446...\n",
      "Evaluating 364...\n",
      "A la izquierda de 364 hay espacio vacio\n",
      "Evaluating 166...\n",
      "Evaluating 420...\n",
      "Evaluating 216...\n",
      "Evaluating 83...\n",
      "Evaluating 428...\n",
      "Evaluating 325...\n",
      "Evaluating 1233...\n",
      "A la izquierda de 1233 hay espacio vacio\n",
      "Evaluating 498...\n",
      "Evaluating 1176...\n",
      "Evaluating 1112...\n",
      "Evaluating 1028...\n",
      "Evaluating 1110...\n",
      "Evaluating 303...\n",
      "Evaluating 138...\n",
      "Evaluating 139...\n",
      "Evaluating 729...\n",
      "Evaluating 183...\n",
      "Evaluating 120...\n",
      "Evaluating 869...\n",
      "Evaluating 768...\n",
      "Evaluating 1296...\n",
      "Evaluating 1150...\n",
      "Evaluating 1100...\n",
      "Evaluating 175...\n",
      "Evaluating 943...\n",
      "Evaluating 304...\n",
      "Evaluating 654...\n",
      "Evaluating 1027...\n",
      "Evaluating 149...\n",
      "Evaluating 177...\n",
      "Evaluating 733...\n",
      "Evaluating 371...\n",
      "Evaluating 1055...\n",
      "Evaluating 333...\n",
      "A la izquierda de 333 hay espacio vacio\n",
      "Evaluating 108...\n",
      "Evaluating 229...\n",
      "Evaluating 299...\n",
      "Evaluating 61...\n",
      "Evaluating 227...\n",
      "Evaluating 1152...\n",
      "Evaluating 1262...\n",
      "Evaluating 234...\n",
      "A la izquierda de 234 hay espacio vacio\n",
      "Evaluating 170...\n",
      "Evaluating 92...\n",
      "A la izquierda de 92 hay espacio vacio\n",
      "Evaluating 351...\n",
      "Evaluating 910...\n",
      "Evaluating 461...\n",
      "Evaluating 109...\n",
      "Evaluating 791...\n",
      "A la izquierda de 791 hay espacio vacio\n",
      "Evaluating 56...\n",
      "Evaluating 20...\n",
      "Evaluating 815...\n",
      "Evaluating 612...\n",
      "Evaluating 295...\n",
      "Evaluating 71...\n",
      "Evaluating 838...\n",
      "Evaluating 296...\n",
      "Evaluating 1120...\n",
      "Evaluating 99...\n",
      "Evaluating 616...\n",
      "Evaluating 298...\n",
      "Evaluating 178...\n",
      "Evaluating 1126...\n",
      "Evaluating 631...\n",
      "Evaluating 687...\n",
      "Evaluating 1114...\n",
      "Evaluating 691...\n",
      "Evaluating 39...\n",
      "Evaluating 328...\n",
      "Evaluating 330...\n",
      "Evaluating 632...\n",
      "Evaluating 1124...\n",
      "Evaluating 599...\n",
      "Evaluating 661...\n",
      "Evaluating 59...\n",
      "A la izquierda de 59 hay espacio vacio\n",
      "Evaluating 533...\n",
      "A la izquierda de 533 hay espacio vacio\n",
      "Evaluating 379...\n",
      "Evaluating 836...\n",
      "Evaluating 23...\n",
      "A la izquierda de 23 hay espacio vacio\n",
      "Evaluating 628...\n",
      "Evaluating 816...\n",
      "Evaluating 965...\n",
      "Evaluating 221...\n",
      "Evaluating 1119...\n",
      "Evaluating 94...\n",
      "Evaluating 712...\n",
      "Evaluating 310...\n",
      "A la izquierda de 310 hay espacio vacio\n",
      "Evaluating 600...\n",
      "Evaluating 43...\n",
      "A la izquierda de 43 hay espacio vacio\n"
     ]
    }
   ],
   "source": [
    "list_of_voids = search_voids_bb_neightbours(df_predictions= df_predictions, dict_of_neightbours= dict_of_neightbours[0])"
   ]
  },
  {
   "cell_type": "code",
   "execution_count": 11,
   "metadata": {},
   "outputs": [],
   "source": [
    "img_path = '/home/cremerf/FinalProject/eudes-fede/test_imgs/test_7.jpg'"
   ]
  },
  {
   "cell_type": "code",
   "execution_count": 14,
   "metadata": {},
   "outputs": [],
   "source": [
    "list_of_dicts = get_neightbours(img_path= img_path, df_predictions= df_predictions)"
   ]
  },
  {
   "cell_type": "code",
   "execution_count": 24,
   "metadata": {},
   "outputs": [
    {
     "data": {
      "text/plain": [
       "X_center    221.571442\n",
       "Y_center    307.081207\n",
       "Width        23.514479\n",
       "Height       68.048775\n",
       "Name: 572, dtype: float64"
      ]
     },
     "execution_count": 24,
     "metadata": {},
     "output_type": "execute_result"
    }
   ],
   "source": [
    "df_predictions.loc[572]"
   ]
  },
  {
   "cell_type": "code",
   "execution_count": 36,
   "metadata": {},
   "outputs": [],
   "source": [
    "def get_neightbours_test(img_path:str, df_predictions:pd.DataFrame, neightbour:str=('left','right','up')) -> list:\n",
    "\n",
    "    dict_l_n = {} # neigh left\n",
    "    dict_r_n = {} # neigh right\n",
    "    dict_h_n= {}  # alone right\n",
    "\n",
    "    for index_bb in df_predictions.index:\n",
    "        print(index_bb)\n",
    "        list_of_neightbours_l = []\n",
    "        list_of_neightbours_r = []\n",
    "        list_of_neightbours_h = [] \n",
    "        list_of_alones_l = []\n",
    "        list_of_alones_r = []\n",
    "        list_of_alones_h=[]\n",
    "        for index in df_predictions.index:\n",
    "            print(index)\n",
    "\n",
    "            X_center_0 = df_predictions.loc[index_bb][0]\n",
    "            Y_center_0 = df_predictions.loc[index_bb][1]\n",
    "            Width_0 = df_predictions.loc[index_bb][2]\n",
    "            height_0 = df_predictions.loc[index_bb][3]\n",
    "            threshold_x_0 = 0.8 * Width_0\n",
    "            threshold_y_0 = 0.8 * height_0\n",
    "\n",
    "            X_center_neightbour = df_predictions.loc[index][0]\n",
    "            Y_center_neightbour = df_predictions.loc[index][1]\n",
    "            a=4\n",
    "            k=1.2\n",
    "\n",
    "        if neightbour == 'left':\n",
    "            ### Neightbor Left\n",
    "            x_min_l = X_center_0 - Width_0 - (a*threshold_x_0)\n",
    "            x_max_l = X_center_0 - Width_0 + (k*threshold_x_0)\n",
    "\n",
    "            y_min_l = Y_center_0 - (k*threshold_y_0)\n",
    "            y_max_l = Y_center_0 + (k*threshold_y_0)\n",
    "\n",
    "        elif neightbour == 'right': \n",
    "            ### Neightbor Right\n",
    "            x_min_r = X_center_0 + Width_0 - (k*threshold_x_0)\n",
    "            x_max_r = X_center_0 + Width_0 + (a*threshold_x_0)\n",
    "\n",
    "            y_min_r = Y_center_0 - (k*threshold_y_0)\n",
    "            y_max_r = Y_center_0 + (k*threshold_y_0)\n",
    "\n",
    "        else:\n",
    "            ### Neightbor High\n",
    "            x_min_h = X_center_0 - (k*threshold_x_0)\n",
    "            x_max_h = X_center_0 + (2*k*threshold_x_0)\n",
    "\n",
    "            y_min_h = Y_center_0 + height_0 - (0.8*threshold_y_0)\n",
    "            y_max_h = Y_center_0 + height_0 + (2*a*threshold_y_0)\n",
    "            \n",
    "            ### Search neig left\n",
    "            if (x_min_l < X_center_neightbour < x_max_l and y_min_l < Y_center_neightbour < y_max_l )  :\n",
    "                list_of_neightbours_l.append([index])\n",
    "                try:\n",
    "                    dict_l_n[str(index_bb)].append(index)\n",
    "                except KeyError:\n",
    "                    dict_l_n[str(index_bb)]=[]\n",
    "                    dict_l_n[str(index_bb)].append(index)\n",
    "                \n",
    "            else:\n",
    "                list_of_alones_l.append([index])\n",
    "            if (x_min_r < X_center_neightbour < x_max_r and y_min_r < Y_center_neightbour < y_max_r ):\n",
    "                list_of_neightbours_r.append([index])\n",
    "                try:\n",
    "                    dict_r_n[str(index_bb)].append(index)\n",
    "                except KeyError:\n",
    "                    dict_r_n[str(index_bb)]=[]\n",
    "                    dict_r_n[str(index_bb)].append(index)\n",
    "            else:\n",
    "\n",
    "                list_of_alones_r.append([index_bb, index])\n",
    "                \n",
    "            # Search neig hight    \n",
    "            if (x_min_h < X_center_neightbour < x_max_h and y_min_h < Y_center_neightbour < y_max_h ):\n",
    "                list_of_neightbours_h.append([index])\n",
    "                try:\n",
    "                    dict_h_n[str(index_bb)].append(index)\n",
    "                except KeyError:\n",
    "                    dict_h_n[str(index_bb)]=[]\n",
    "                    dict_h_n[str(index_bb)].append(index)\n",
    "            else:\n",
    "                list_of_alones_h.append([index_bb, index])\n",
    "    print('listo primer loop')\n",
    "\n",
    "    return [dict_l_n, dict_r_n, dict_h_n]"
   ]
  },
  {
   "cell_type": "code",
   "execution_count": null,
   "metadata": {},
   "outputs": [],
   "source": [
    "for i in df_predictions.index:\n",
    "    print(type(i))"
   ]
  },
  {
   "cell_type": "code",
   "execution_count": 57,
   "metadata": {},
   "outputs": [
    {
     "data": {
      "text/plain": [
       "array([221.57144165, 307.08120728,  23.51447868,  68.04877472])"
      ]
     },
     "execution_count": 57,
     "metadata": {},
     "output_type": "execute_result"
    }
   ],
   "source": [
    "df_predictions.loc[572].values"
   ]
  },
  {
   "cell_type": "code",
   "execution_count": 76,
   "metadata": {},
   "outputs": [
    {
     "data": {
      "text/plain": [
       "array([[221.57144165, 307.08120728,  23.51447868,  68.04877472]])"
      ]
     },
     "execution_count": 76,
     "metadata": {},
     "output_type": "execute_result"
    }
   ],
   "source": [
    "df_predictions.loc[df_predictions.index == 572].values"
   ]
  },
  {
   "cell_type": "code",
   "execution_count": 241,
   "metadata": {},
   "outputs": [],
   "source": [
    "X_center_0 = df_predictions.loc[572][0]\n",
    "Y_center_0 = df_predictions.loc[572][1]\n",
    "INPUT_WH_YOLO = 640"
   ]
  },
  {
   "cell_type": "code",
   "execution_count": 232,
   "metadata": {},
   "outputs": [
    {
     "data": {
      "text/plain": [
       "381.5714416503906"
      ]
     },
     "execution_count": 232,
     "metadata": {},
     "output_type": "execute_result"
    }
   ],
   "source": [
    "X_center_0 + 160"
   ]
  },
  {
   "cell_type": "code",
   "execution_count": 221,
   "metadata": {},
   "outputs": [],
   "source": [
    "filter_1 = (df_predictions.loc[:, 'X_center'] > (X_center_0 - INPUT_WH_YOLO/4))"
   ]
  },
  {
   "cell_type": "code",
   "execution_count": 222,
   "metadata": {},
   "outputs": [],
   "source": [
    "filter_2 = ((df_predictions.loc[:, 'X_center'] < (X_center_0 + INPUT_WH_YOLO/4)))"
   ]
  },
  {
   "cell_type": "code",
   "execution_count": 223,
   "metadata": {},
   "outputs": [],
   "source": [
    "df_predictions_pre = df_predictions[filter_1]"
   ]
  },
  {
   "cell_type": "code",
   "execution_count": 225,
   "metadata": {},
   "outputs": [],
   "source": [
    "df_predictions_last =  df_predictions[filter_2]"
   ]
  },
  {
   "cell_type": "code",
   "execution_count": 242,
   "metadata": {},
   "outputs": [],
   "source": [
    "df_predictions_final = df_predictions[(df_predictions.loc[:, 'X_center'] < (X_center_0 + INPUT_WH_YOLO/8)) & (df_predictions.loc[:, 'X_center'] > (X_center_0 - INPUT_WH_YOLO/8)) & (df_predictions.loc[:, 'Y_center'] > (Y_center_0 - INPUT_WH_YOLO/8)) & (df_predictions.loc[:, 'Y_center'] < (Y_center_0 + INPUT_WH_YOLO/8))]"
   ]
  },
  {
   "cell_type": "code",
   "execution_count": 245,
   "metadata": {},
   "outputs": [],
   "source": [
    "filter_1 = (df_predictions.loc[:, 'X_center'] < (X_center_0 + INPUT_WH_YOLO/8))\n",
    "filter_2 = (df_predictions.loc[:, 'X_center'] > (X_center_0 - INPUT_WH_YOLO/8))\n",
    "filter_3 = (df_predictions.loc[:, 'Y_center'] > (Y_center_0 - INPUT_WH_YOLO/8))\n",
    "filter_4 = (df_predictions.loc[:, 'Y_center'] < (Y_center_0 + INPUT_WH_YOLO/8))\n",
    "filter_final = (filter_1 & filter_2) & (filter_3 & filter_4)"
   ]
  },
  {
   "cell_type": "code",
   "execution_count": 248,
   "metadata": {},
   "outputs": [],
   "source": [
    "df_predictions_final_2 = df_predictions[filter_final]"
   ]
  },
  {
   "cell_type": "code",
   "execution_count": 249,
   "metadata": {},
   "outputs": [
    {
     "data": {
      "text/plain": [
       "20"
      ]
     },
     "execution_count": 249,
     "metadata": {},
     "output_type": "execute_result"
    }
   ],
   "source": [
    "len(df_predictions_final_2)"
   ]
  },
  {
   "cell_type": "code",
   "execution_count": 42,
   "metadata": {},
   "outputs": [],
   "source": [
    "def get_neightbours_test(df_predictions:pd.DataFrame, neightbour:str, index_it:int) -> dict:\n",
    "\n",
    "    dict_of_neightbours = {} \n",
    "\n",
    "    X_center_0 = df_predictions.loc[index_it][0]\n",
    "    Y_center_0 = df_predictions.loc[index_it][1]\n",
    "    Width_0 = df_predictions.loc[index_it][2]\n",
    "    height_0 = df_predictions.loc[index_it][3]\n",
    "    threshold_x_0 = 0.8 * Width_0\n",
    "    threshold_y_0 = 0.8 * height_0\n",
    "\n",
    "    INPUT_WH_YOLO = 640\n",
    "    filter_1 = (df_predictions.loc[:, 'X_center'] < (X_center_0 + INPUT_WH_YOLO/8))\n",
    "    filter_2 = (df_predictions.loc[:, 'X_center'] > (X_center_0 - INPUT_WH_YOLO/8))\n",
    "    filter_3 = (df_predictions.loc[:, 'Y_center'] > (Y_center_0 - INPUT_WH_YOLO/8))\n",
    "    filter_4 = (df_predictions.loc[:, 'Y_center'] < (Y_center_0 + INPUT_WH_YOLO/8))\n",
    "    filter_final = (filter_1 & filter_2) & (filter_3 & filter_4)\n",
    "\n",
    "    df_predictions_final_2 = df_predictions[filter_final]\n",
    "\n",
    "    for index_bb in df_predictions_final_2.index:\n",
    "\n",
    "        list_of_neightbours_l = []\n",
    "        list_of_neightbours_r = []\n",
    "        list_of_neightbours_h = [] \n",
    "        list_of_alones_l = []\n",
    "        list_of_alones_r = []\n",
    "        list_of_alones_h=[]\n",
    "\n",
    "        X_center_neightbour = df_predictions.loc[index_bb][0]\n",
    "        Y_center_neightbour = df_predictions.loc[index_bb][1]\n",
    "        a = 4\n",
    "        k = 1.2\n",
    "\n",
    "        ### Neightbor Left\n",
    "        if neightbour == 'left':\n",
    "            \n",
    "            x_min_l = X_center_0 - Width_0 - (a*threshold_x_0)\n",
    "            x_max_l = X_center_0 - Width_0 + (k*threshold_x_0)\n",
    "\n",
    "            y_min_l = Y_center_0 - (k*threshold_y_0)\n",
    "            y_max_l = Y_center_0 + (k*threshold_y_0)\n",
    "\n",
    "            if (x_min_l < X_center_neightbour < x_max_l and y_min_l < Y_center_neightbour < y_max_l )  :\n",
    "                list_of_neightbours_l.append([index_bb])\n",
    "                try:\n",
    "                    dict_of_neightbours[str(index_it)].append(index_bb)\n",
    "                except KeyError:\n",
    "                    dict_of_neightbours[str(index_it)]= []\n",
    "                    dict_of_neightbours[str(index_it)].append(index_bb)\n",
    "            else:\n",
    "                list_of_alones_l.append([index_bb])\n",
    "\n",
    "        ### Neightbor Right\n",
    "        elif neightbour == 'right':\n",
    "\n",
    "            x_min_r = X_center_0 + Width_0 - (k*threshold_x_0)\n",
    "            x_max_r = X_center_0 + Width_0 + (a*threshold_x_0)\n",
    "\n",
    "            y_min_r = Y_center_0 - (k*threshold_y_0)\n",
    "            y_max_r = Y_center_0 + (k*threshold_y_0)\n",
    "\n",
    "            if (x_min_r < X_center_neightbour < x_max_r and y_min_r < Y_center_neightbour < y_max_r ):\n",
    "                list_of_neightbours_r.append([index_bb])\n",
    "                try:\n",
    "                    dict_of_neightbours[str(index_it)].append(index_bb)\n",
    "                except KeyError:\n",
    "                    dict_of_neightbours[str(index_it)]= []\n",
    "                    dict_of_neightbours[str(index_it)].append(index_bb)\n",
    "            else:\n",
    "                list_of_alones_r.append([index_it, index_bb])\n",
    "\n",
    "        ### Neightbor High\n",
    "        else:\n",
    "            x_min_h = X_center_0 - (k*threshold_x_0)\n",
    "            x_max_h = X_center_0 + (2*k*threshold_x_0)\n",
    "\n",
    "            y_min_h = Y_center_0 + height_0 - (0.8*threshold_y_0)\n",
    "            y_max_h = Y_center_0 + height_0 + (2*a*threshold_y_0)\n",
    "\n",
    "            if (x_min_h < X_center_neightbour < x_max_h and y_min_h < Y_center_neightbour < y_max_h ):\n",
    "                list_of_neightbours_h.append([index_bb])\n",
    "                try:\n",
    "                    dict_of_neightbours[str(index_it)].append(index_bb)\n",
    "                except KeyError:\n",
    "                    dict_of_neightbours[str(index_it)]= []\n",
    "                    dict_of_neightbours[str(index_it)].append(index_bb)\n",
    "            else:\n",
    "                list_of_alones_h.append([index_it, index_bb])\n",
    "\n",
    "    return dict_of_neightbours"
   ]
  },
  {
   "cell_type": "code",
   "execution_count": 43,
   "metadata": {},
   "outputs": [],
   "source": [
    "pool = multiprocessing.Pool()\n",
    "neightbour = 'left'\n",
    "func = partial(get_neightbours_test, df_predictions, neightbour)\n",
    "dict_of_neightbours_left = pool.map(func, list(df_predictions.index))\n",
    "pool.close()\n",
    "pool.join()\n",
    "\n",
    "dict_of_neightbours_left = list(filter(None, dict_of_neightbours_left))\n",
    "\n",
    "pool = multiprocessing.Pool()\n",
    "neightbour = 'right'\n",
    "func = partial(get_neightbours_test, df_predictions, neightbour)\n",
    "dict_of_neightbours_right = pool.map(func, list(df_predictions.index))\n",
    "pool.close()\n",
    "pool.join()\n",
    "\n",
    "dict_of_neightbours_right = list(filter(None, dict_of_neightbours_right))\n",
    "\n",
    "pool = multiprocessing.Pool()\n",
    "neightbour = 'up'\n",
    "func = partial(get_neightbours_test, df_predictions, neightbour)\n",
    "dict_of_neightbours_up = pool.map(func, list(df_predictions.index))\n",
    "pool.close()\n",
    "pool.join()\n",
    "\n",
    "dict_of_neightbours_up = list(filter(None, dict_of_neightbours_up))"
   ]
  },
  {
   "cell_type": "code",
   "execution_count": 45,
   "metadata": {},
   "outputs": [
    {
     "data": {
      "text/plain": [
       "[{'572': [571, 273, 277, 275, 599, 600]},\n",
       " {'1059': [1054, 825, 1055]},\n",
       " {'581': [576, 577, 580, 579, 317, 20]},\n",
       " {'585': [581, 583, 580, 579, 20, 612]},\n",
       " {'1203': [1201, 430, 166, 428]},\n",
       " {'576': [572, 574, 571, 277]},\n",
       " {'432': [431, 430, 1145]},\n",
       " {'1067': [581, 577, 583, 580, 1297, 1294, 579, 1296]},\n",
       " {'577': [572, 576, 574, 571]},\n",
       " {'583': [581, 577, 580, 579, 317, 20]},\n",
       " {'574': [572, 571, 277, 275]},\n",
       " {'1172': [432, 431]},\n",
       " {'580': [576, 577, 574, 579, 317]},\n",
       " {'1205': [1203, 1201]},\n",
       " {'1054': [1053, 234]},\n",
       " {'1297': [1294, 1060, 1296]},\n",
       " {'496': [494, 1237]},\n",
       " {'571': [564, 273, 277, 270, 275, 562, 599, 600]},\n",
       " {'494': [1235, 1237]},\n",
       " {'586': [581, 585, 583, 580, 20, 612]},\n",
       " {'1294': [572, 1059, 576, 574, 571, 1060, 825, 277]},\n",
       " {'431': [430, 428, 1145]},\n",
       " {'1235': [1233]},\n",
       " {'1237': [1235, 1233]},\n",
       " {'834': [1067, 1297, 1296]},\n",
       " {'89': [1152, 99]},\n",
       " {'1060': [1059, 825, 277, 275, 1055]},\n",
       " {'1201': [166, 1198]},\n",
       " {'459': [1205, 457]},\n",
       " {'425': [422, 420, 120]},\n",
       " {'457': [1203, 1205]},\n",
       " {'579': [572, 576, 577, 574, 317]},\n",
       " {'564': [561, 270, 562, 303, 869, 304, 616, 328]},\n",
       " {'696': [108, 109, 687, 691, 712]},\n",
       " {'825': [1054, 1053, 1055]},\n",
       " {'393': [89, 391, 943, 99]},\n",
       " {'430': [428, 1198]},\n",
       " {'230': [229, 227]},\n",
       " {'1174': [432, 1172]},\n",
       " {'399': [397, 94]},\n",
       " {'66': [1132, 364]},\n",
       " {'391': [89, 1152, 99]},\n",
       " {'587': [585, 583, 586]},\n",
       " {'273': [1054, 564, 270, 562, 328, 599]},\n",
       " {'489': [185, 187]},\n",
       " {'1053': [234]},\n",
       " {'561': [325, 303, 869, 616]},\n",
       " {'143': [729, 461]},\n",
       " {'422': [420, 1176, 120]},\n",
       " {'225': [1260, 1262]},\n",
       " {'277': [1054, 564, 273, 270, 275, 562, 1055, 599, 600]},\n",
       " {'185': [498, 183, 768]},\n",
       " {'270': [1053, 561, 562, 303, 304, 328]},\n",
       " {'1132': [364]},\n",
       " {'1260': [216, 1028]},\n",
       " {'257': [581, 585, 1067, 583, 1297, 586, 834, 587]},\n",
       " {'1318': [257, 295, 838, 296, 298, 836, 310]},\n",
       " {'275': [1054, 564, 273, 270, 562, 1055, 599, 600]},\n",
       " {'562': [561, 303, 869, 304, 616, 328]},\n",
       " {'397': [94, 1145]},\n",
       " {'187': [185, 183, 768]},\n",
       " {'446': [143, 729]},\n",
       " {'166': [1198]},\n",
       " {'420': [1174, 1176, 120]},\n",
       " {'216': [1028, 1027]},\n",
       " {'83': [393, 943, 92]},\n",
       " {'428': [1198]},\n",
       " {'325': [889]},\n",
       " {'1233': [1250]},\n",
       " {'498': [496, 494]},\n",
       " {'1176': [1172, 1174]},\n",
       " {'1112': [1110, 333]},\n",
       " {'1028': [1027, 791]},\n",
       " {'1110': [333]},\n",
       " {'303': [325, 869, 616]},\n",
       " {'138': [149, 733, 691, 965]},\n",
       " {'139': [138, 149, 733, 691, 965, 712]},\n",
       " {'729': [459, 461]},\n",
       " {'183': [496, 498]},\n",
       " {'120': [1174, 1176]},\n",
       " {'869': [325, 889, 841, 1320]},\n",
       " {'768': [496, 498, 183]},\n",
       " {'1296': [572, 1059, 576, 577, 574, 1294, 1060, 579]},\n",
       " {'1150': [399, 397]},\n",
       " {'1100': [20, 612]},\n",
       " {'175': [489, 143, 187, 446]},\n",
       " {'943': [89, 391, 99]},\n",
       " {'304': [561, 303, 869, 616]},\n",
       " {'654': [66, 1132]},\n",
       " {'1027': [791]},\n",
       " {'149': [446, 733]},\n",
       " {'177': [489, 446, 175]},\n",
       " {'733': [143, 446]},\n",
       " {'371': [66, 654]},\n",
       " {'1055': [1054, 273, 1053, 270]},\n",
       " {'108': [425, 393, 943, 691, 965]},\n",
       " {'229': [225, 227]},\n",
       " {'299': [296, 298, 310]},\n",
       " {'61': [59]},\n",
       " {'227': [225, 1262]},\n",
       " {'1152': [399, 1150]},\n",
       " {'1262': [1260, 216]},\n",
       " {'234': [841]},\n",
       " {'170': [175, 149, 177, 733, 178]},\n",
       " {'92': [393, 943]},\n",
       " {'351': [325, 889, 1124]},\n",
       " {'910': [1124, 382]},\n",
       " {'461': [459, 457]},\n",
       " {'109': [393, 108, 92, 691, 965]},\n",
       " {'791': [506]},\n",
       " {'56': [371, 71]},\n",
       " {'20': [317]},\n",
       " {'815': [230, 229]},\n",
       " {'612': [317, 20]},\n",
       " {'295': [585, 586, 587]},\n",
       " {'71': [654, 371]},\n",
       " {'838': [834, 257, 836]},\n",
       " {'296': [310]},\n",
       " {'1120': [325, 351, 910, 616, 1126, 1119]},\n",
       " {'99': [1150, 1152]},\n",
       " {'616': [325, 889]},\n",
       " {'298': [296, 310]},\n",
       " {'178': [489, 446, 175, 177, 733]},\n",
       " {'1126': [351, 910, 1124, 382]},\n",
       " {'631': [39, 628]},\n",
       " {'687': [108, 691, 965]},\n",
       " {'1114': [1112, 1110]},\n",
       " {'691': [425, 422]},\n",
       " {'39': [1114, 628]},\n",
       " {'328': [325, 616]},\n",
       " {'330': [23]},\n",
       " {'632': [631, 39]},\n",
       " {'1124': [889]},\n",
       " {'599': [564, 561, 270, 562, 303, 304, 616, 328]},\n",
       " {'661': [56, 71]},\n",
       " {'59': [661]},\n",
       " {'533': [221]},\n",
       " {'379': [351, 910, 1126, 1119]},\n",
       " {'836': [1067, 834, 257]},\n",
       " {'23': [632]},\n",
       " {'628': [1112, 1114]},\n",
       " {'816': [230, 229, 815]},\n",
       " {'965': [89, 425, 393, 391, 422]},\n",
       " {'221': [815, 816]},\n",
       " {'1119': [325, 351, 910, 889, 1124, 382]},\n",
       " {'94': [1145]},\n",
       " {'712': [108, 691, 965]},\n",
       " {'310': [295]},\n",
       " {'600': [564, 273, 561, 270, 562, 303, 304, 328, 599]},\n",
       " {'43': [632]}]"
      ]
     },
     "execution_count": 45,
     "metadata": {},
     "output_type": "execute_result"
    }
   ],
   "source": [
    "dict_of_neightbours_left"
   ]
  },
  {
   "cell_type": "code",
   "execution_count": 66,
   "metadata": {},
   "outputs": [],
   "source": [
    "h_image, w_image = image.shape[0:2]"
   ]
  },
  {
   "cell_type": "code",
   "execution_count": 64,
   "metadata": {},
   "outputs": [
    {
     "data": {
      "text/plain": [
       "int"
      ]
     },
     "execution_count": 64,
     "metadata": {},
     "output_type": "execute_result"
    }
   ],
   "source": [
    "type(h_image)"
   ]
  },
  {
   "cell_type": "code",
   "execution_count": 65,
   "metadata": {},
   "outputs": [],
   "source": [
    "def search_voids_bb_neightbours(df_predictions: pd.DataFrame, dict_of_neightbours: dict, h_image:int, w_image:int, neightbour:str=('left','right','up')):\n",
    "    \n",
    "    list_of_voids = []\n",
    "\n",
    "    k = 0\n",
    "    z = 0\n",
    "    if neightbour == 'left':\n",
    "        k = -1\n",
    "        z = 0\n",
    "    elif neightbour == 'right':\n",
    "        k = 1\n",
    "        z = 0\n",
    "    else:\n",
    "        k = 0\n",
    "        z = -1\n",
    "\n",
    "    # iterate over all dicts in list\n",
    "    for dic in dict_of_neightbours:\n",
    "\n",
    "        # iterate over key and value pairs of dict (index_a = key // index_b = value pair)\n",
    "        for index_a, index_b in dic.items():\n",
    "\n",
    "            #h_image, w_image = image.shape[0:2] # limits of the image\n",
    "            w_index_a = df_predictions.loc[int(index_a)][2]\n",
    "            h_index_a = df_predictions.loc[int(index_a)][3]\n",
    "\n",
    "            \n",
    "            # Virtual bounding box to evaluate neightbours \n",
    "            xA1 = df_predictions.loc[int(index_a)][0] - df_predictions.loc[int(index_a)][2]/2 + (k * w_index_a) # Para izquierda: (-1) / Para derecha: 1 / Para arriba: 0\n",
    "            yA1 = df_predictions.loc[int(index_a)][1] - df_predictions.loc[int(index_a)][3]/2 + (z * h_index_a) # Para izquierda: 0 / Para derecha: 0 / Para arriba: (-1)\n",
    "            xA2 = df_predictions.loc[int(index_a)][0] + df_predictions.loc[int(index_a)][2]/2 + (k * w_index_a) # Para izquierda: (-1) / Para derecha: 1 / Para arriba: 0\n",
    "            yA2 = df_predictions.loc[int(index_a)][1] + df_predictions.loc[int(index_a)][3]/2 + (z * h_index_a) # Para izquierda: 0 / Para derecha: 0 / Para arriba: -1\n",
    "            boxA = [xA1, yA1, xA2, yA2]\n",
    "\n",
    "\n",
    "            X_center_A = df_predictions.loc[int(index_a)][0] - k * df_predictions.loc[int(index_a)][2]  # Left X_center - Width  // Right X_center + Width\n",
    "            Y_center_A = df_predictions.loc[int(index_a)][1]  - k * df_predictions.loc[int(index_a)][2]  # Left Y_center - Width // Right Y_center + Width\n",
    "\n",
    "            print(f'Evaluating {index_a}...')\n",
    "            \n",
    "\n",
    "            # Limits of the image\n",
    "            if 0 < xA1 < w_image and 0 < xA2 < w_image and 0 < yA1 < h_image and  0 < yA2 < h_image:\n",
    "                    trigger = True\n",
    "                    void_number = 0\n",
    "\n",
    "                    # Iterate over each neightbour: neightbour vs virtual bounding box\n",
    "                    for item in index_b:\n",
    "                        \n",
    "                        first_list = []\n",
    "                        xB1 = df_predictions.loc[item][0] - df_predictions.loc[item][2]/2\n",
    "                        yB1 = df_predictions.loc[item][1] - df_predictions.loc[item][3]/2\n",
    "                        xB2 = df_predictions.loc[item][0] + df_predictions.loc[item][2]/2\n",
    "                        yB2 = df_predictions.loc[item][1] + df_predictions.loc[item][3]/2\n",
    "                        boxB = [xB1, yB1,xB2, yB2]\n",
    "\n",
    "                        xA = max(boxA[0], boxB[0])\n",
    "                        yA = max(boxA[1], boxB[1])\n",
    "                        xB = min(boxA[2], boxB[2])\n",
    "                        yB = min(boxA[3], boxB[3])\n",
    "\n",
    "                        interArea = (xB - xA) * (yB - yA)\n",
    "\n",
    "                        boxAArea = (boxA[2] - boxA[0]) * (boxA[3] - boxA[1])\n",
    "                        boxBArea = (boxB[2] - boxB[0]) * (boxB[3] - boxB[1])\n",
    "\n",
    "                        iou = interArea / float(boxAArea + boxBArea - interArea)\n",
    "                        trigger = trigger and (iou < 0.1)\n",
    "                    #print(f'Trigger: {trigger}')\n",
    "\n",
    "                    if trigger == False:\n",
    "                        pass\n",
    "                        #print(f'No hay espacio vacio a la izquierda de {index_a}')\n",
    "                    else:\n",
    "                        print(f'A la izquierda de {index_a} hay espacio vacio')\n",
    "                        void_number += 1\n",
    "                        void_text = f'{neightbour} void #{void_number}'\n",
    "                        first_list.append(index_a)\n",
    "                        first_list.append(void_text)\n",
    "                        first_list.append(X_center_A)\n",
    "                        first_list.append(Y_center_A)\n",
    "                        list_of_voids.append(first_list)\n",
    "                    \n",
    "\n",
    "    return list_of_voids"
   ]
  },
  {
   "cell_type": "code",
   "execution_count": 67,
   "metadata": {},
   "outputs": [
    {
     "name": "stdout",
     "output_type": "stream",
     "text": [
      "Evaluating 572...\n",
      "Evaluating 1059...\n",
      "Evaluating 581...\n",
      "Evaluating 585...\n",
      "Evaluating 1203...\n",
      "Evaluating 576...\n",
      "Evaluating 432...\n",
      "Evaluating 1067...\n",
      "Evaluating 577...\n",
      "Evaluating 583...\n",
      "Evaluating 574...\n",
      "Evaluating 1172...\n",
      "Evaluating 580...\n",
      "Evaluating 1205...\n",
      "Evaluating 1054...\n",
      "Evaluating 1297...\n",
      "Evaluating 496...\n",
      "Evaluating 571...\n",
      "Evaluating 494...\n",
      "Evaluating 586...\n",
      "Evaluating 1294...\n",
      "Evaluating 431...\n",
      "Evaluating 1235...\n",
      "Evaluating 1237...\n",
      "Evaluating 834...\n",
      "Evaluating 89...\n",
      "Evaluating 1060...\n",
      "Evaluating 1201...\n",
      "Evaluating 459...\n",
      "Evaluating 425...\n",
      "Evaluating 457...\n",
      "Evaluating 579...\n",
      "Evaluating 564...\n",
      "Evaluating 696...\n",
      "Evaluating 825...\n",
      "Evaluating 393...\n",
      "Evaluating 430...\n",
      "Evaluating 230...\n",
      "Evaluating 1174...\n",
      "Evaluating 399...\n",
      "Evaluating 66...\n",
      "Evaluating 391...\n",
      "Evaluating 587...\n",
      "Evaluating 273...\n",
      "Evaluating 489...\n",
      "Evaluating 1053...\n",
      "Evaluating 561...\n",
      "Evaluating 143...\n",
      "Evaluating 422...\n",
      "Evaluating 225...\n",
      "Evaluating 277...\n",
      "Evaluating 185...\n",
      "Evaluating 270...\n",
      "Evaluating 1132...\n",
      "Evaluating 1260...\n",
      "Evaluating 257...\n",
      "Evaluating 1318...\n",
      "Evaluating 275...\n",
      "Evaluating 562...\n",
      "Evaluating 397...\n",
      "Evaluating 187...\n",
      "Evaluating 446...\n",
      "Evaluating 166...\n",
      "Evaluating 420...\n",
      "Evaluating 216...\n",
      "Evaluating 83...\n",
      "Evaluating 428...\n",
      "Evaluating 325...\n",
      "Evaluating 1233...\n",
      "A la izquierda de 1233 hay espacio vacio\n",
      "Evaluating 498...\n",
      "Evaluating 1176...\n",
      "Evaluating 1112...\n",
      "Evaluating 1028...\n",
      "Evaluating 1110...\n",
      "Evaluating 303...\n",
      "Evaluating 138...\n",
      "Evaluating 139...\n",
      "Evaluating 729...\n",
      "Evaluating 183...\n",
      "Evaluating 120...\n",
      "Evaluating 869...\n",
      "Evaluating 768...\n",
      "Evaluating 1296...\n",
      "Evaluating 1150...\n",
      "Evaluating 1100...\n",
      "Evaluating 175...\n",
      "Evaluating 943...\n",
      "Evaluating 304...\n",
      "Evaluating 654...\n",
      "Evaluating 1027...\n",
      "Evaluating 149...\n",
      "Evaluating 177...\n",
      "Evaluating 733...\n",
      "Evaluating 371...\n",
      "Evaluating 1055...\n",
      "Evaluating 108...\n",
      "Evaluating 229...\n",
      "Evaluating 299...\n",
      "Evaluating 61...\n",
      "Evaluating 227...\n",
      "Evaluating 1152...\n",
      "Evaluating 1262...\n",
      "Evaluating 234...\n",
      "A la izquierda de 234 hay espacio vacio\n",
      "Evaluating 170...\n",
      "Evaluating 92...\n",
      "A la izquierda de 92 hay espacio vacio\n",
      "Evaluating 351...\n",
      "Evaluating 910...\n",
      "Evaluating 461...\n",
      "Evaluating 109...\n",
      "Evaluating 791...\n",
      "A la izquierda de 791 hay espacio vacio\n",
      "Evaluating 56...\n",
      "Evaluating 20...\n",
      "Evaluating 815...\n",
      "Evaluating 612...\n",
      "Evaluating 295...\n",
      "Evaluating 71...\n",
      "Evaluating 838...\n",
      "Evaluating 296...\n",
      "Evaluating 1120...\n",
      "Evaluating 99...\n",
      "Evaluating 616...\n",
      "Evaluating 298...\n",
      "Evaluating 178...\n",
      "Evaluating 1126...\n",
      "Evaluating 631...\n",
      "Evaluating 687...\n",
      "Evaluating 1114...\n",
      "Evaluating 691...\n",
      "Evaluating 39...\n",
      "Evaluating 328...\n",
      "Evaluating 330...\n",
      "Evaluating 632...\n",
      "Evaluating 1124...\n",
      "Evaluating 599...\n",
      "Evaluating 661...\n",
      "Evaluating 59...\n",
      "A la izquierda de 59 hay espacio vacio\n",
      "Evaluating 533...\n",
      "A la izquierda de 533 hay espacio vacio\n",
      "Evaluating 379...\n",
      "Evaluating 836...\n",
      "Evaluating 23...\n",
      "A la izquierda de 23 hay espacio vacio\n",
      "Evaluating 628...\n",
      "Evaluating 816...\n",
      "Evaluating 965...\n",
      "Evaluating 221...\n",
      "Evaluating 1119...\n",
      "Evaluating 94...\n",
      "Evaluating 712...\n",
      "Evaluating 310...\n",
      "A la izquierda de 310 hay espacio vacio\n",
      "Evaluating 600...\n",
      "Evaluating 43...\n",
      "A la izquierda de 43 hay espacio vacio\n"
     ]
    }
   ],
   "source": [
    "list_of_voids_left = search_voids_bb_neightbours(df_predictions=df_predictions, dict_of_neightbours=dict_of_neightbours_left, h_image=h_image, w_image=w_image, neightbour='left')"
   ]
  },
  {
   "cell_type": "code",
   "execution_count": 68,
   "metadata": {},
   "outputs": [
    {
     "data": {
      "text/plain": [
       "[['1233', 'left void #1', 106.61637687683105, 573.5148296356201],\n",
       " ['234', 'left void #1', 111.32217407226562, 258.05506896972656],\n",
       " ['92', 'left void #1', 437.14215660095215, 471.32013511657715],\n",
       " ['791', 'left void #1', 99.01019668579102, 160.16558456420898],\n",
       " ['59', 'left void #1', 458.86724281311035, 427.8168888092041],\n",
       " ['533', 'left void #1', 475.07324409484863, 162.59886360168457],\n",
       " ['23', 'left void #1', 470.9087085723877, 381.87278938293457],\n",
       " ['310', 'left void #1', 437.86330699920654, 328.39715099334717],\n",
       " ['43', 'left void #1', 474.26671028137207, 405.9255847930908]]"
      ]
     },
     "execution_count": 68,
     "metadata": {},
     "output_type": "execute_result"
    }
   ],
   "source": [
    "list_of_voids_left"
   ]
  }
 ],
 "metadata": {
  "kernelspec": {
   "display_name": "Python 3.6.9 64-bit",
   "language": "python",
   "name": "python3"
  },
  "language_info": {
   "codemirror_mode": {
    "name": "ipython",
    "version": 3
   },
   "file_extension": ".py",
   "mimetype": "text/x-python",
   "name": "python",
   "nbconvert_exporter": "python",
   "pygments_lexer": "ipython3",
   "version": "3.6.9"
  },
  "orig_nbformat": 4,
  "vscode": {
   "interpreter": {
    "hash": "31f2aee4e71d21fbe5cf8b01ff0e069b9275f58929596ceb00d14d90e3e16cd6"
   }
  }
 },
 "nbformat": 4,
 "nbformat_minor": 2
}
