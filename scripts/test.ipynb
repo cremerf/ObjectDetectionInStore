{
 "cells": [
  {
   "cell_type": "code",
   "execution_count": 17,
   "metadata": {},
   "outputs": [],
   "source": [
    "import sys\n",
    "sys.path.append('../')"
   ]
  },
  {
   "cell_type": "code",
   "execution_count": 14,
   "metadata": {},
   "outputs": [
    {
     "name": "stdout",
     "output_type": "stream",
     "text": [
      "The autoreload extension is already loaded. To reload it, use:\n",
      "  %reload_ext autoreload\n"
     ]
    }
   ],
   "source": [
    "%load_ext autoreload\n",
    "%autoreload 2"
   ]
  },
  {
   "cell_type": "code",
   "execution_count": 15,
   "metadata": {},
   "outputs": [],
   "source": [
    "%reload_ext autoreload"
   ]
  },
  {
   "cell_type": "code",
   "execution_count": 21,
   "metadata": {},
   "outputs": [],
   "source": [
    "from scripts.detect_voids import get_neightbours, search_voids_bb_neightbours\n",
    "from packages.yolo_predict import YOLO_Pred\n",
    "from concurrent.futures import ThreadPoolExecutor\n",
    "import pandas as pd\n",
    "import cv2\n",
    "import multiprocessing\n",
    "from functools import partial\n",
    "import itertools"
   ]
  },
  {
   "cell_type": "code",
   "execution_count": 22,
   "metadata": {},
   "outputs": [],
   "source": [
    "yolo = YOLO_Pred('/home/cremerf/FinalProject/data/first_training/weights/bestnoft.onnx', '/home/cremerf/FinalProject/data/config_blmodel.yaml')"
   ]
  },
  {
   "cell_type": "code",
   "execution_count": 23,
   "metadata": {},
   "outputs": [],
   "source": [
    "image = cv2.imread('/home/cremerf/FinalProject/eudes-fede/test_imgs/test_7.jpg')"
   ]
  },
  {
   "cell_type": "code",
   "execution_count": 24,
   "metadata": {},
   "outputs": [],
   "source": [
    "df_predictions = yolo.predictions(image)"
   ]
  },
  {
   "cell_type": "code",
   "execution_count": 13,
   "metadata": {},
   "outputs": [],
   "source": [
    "def bb_intersection_over_union(df_predictions: pd.DataFrame, index_key:int, index_neightbour:int) -> float:\n",
    "\n",
    "    a = index_key\n",
    "    xA1 = df_predictions.loc[a][0] - df_predictions.loc[a][2]/2\n",
    "    yA1 = df_predictions.loc[a][1] + df_predictions.loc[a][3]/2\n",
    "    xA2 = df_predictions.loc[a][0] + df_predictions.loc[a][2]/2\n",
    "    yA2 = df_predictions.loc[a][1] - df_predictions.loc[a][3]/2\n",
    "    boxA = [xA1, yA1, xA2, yA2 ]\n",
    "\n",
    "    b = index_neightbour # indices vecinos detectados que estan en el diccionario\n",
    "    xB1 = df_predictions.loc[b][0] - df_predictions.loc[b][2]/2\n",
    "    yB1 = df_predictions.loc[b][1] + df_predictions.loc[b][3]/2\n",
    "    xB2 = df_predictions.loc[b][0] + df_predictions.loc[b][2]/2\n",
    "    yB2 = df_predictions.loc[b][1] - df_predictions.loc[b][3]/2\n",
    "    boxB = [xB1, yB1,xB2, yB2 ]\n",
    "    \n",
    "    # determine the (x, y)-coordinates of the intersection rectangle\n",
    "    xA = max(boxA[0], boxB[0])\n",
    "    yA = max(boxA[1], boxB[1])\n",
    "    xB = min(boxA[2], boxB[2])\n",
    "    yB = min(boxA[3], boxB[3])\n",
    "\n",
    "\n",
    "    # compute the area of intersection rectangle\n",
    "    interArea = (xB - xA) * (yB - yA)\n",
    "\n",
    "    # compute the area of both the prediction and ground-truth\n",
    "    # rectangles\n",
    "    boxAArea = (boxA[2] - boxA[0]) * (boxA[3] - boxA[1])\n",
    "    boxBArea = (boxB[2] - boxB[0]) * (boxB[3] - boxB[1])\n",
    "\n",
    "    # compute the intersection over union by taking the intersection\n",
    "    # area and dividing it by the sum of prediction + ground-truth\n",
    "    # areas - the interesection area\n",
    "    iou = interArea / float(boxAArea + boxBArea - interArea)\n",
    "\n",
    "    # return the intersection over union value\n",
    "    return iou"
   ]
  },
  {
   "cell_type": "code",
   "execution_count": null,
   "metadata": {},
   "outputs": [],
   "source": [
    "# para left w = -w y h = 0\n",
    "# para right w = +w y h = 0\n",
    "# para top w = 0 y h = + h"
   ]
  },
  {
   "cell_type": "code",
   "execution_count": 47,
   "metadata": {},
   "outputs": [],
   "source": [
    "image = cv2.imread(filename='/home/cremerf/FinalProject/eudes-fede/test_imgs/test_7.jpg')"
   ]
  },
  {
   "cell_type": "code",
   "execution_count": 18,
   "metadata": {},
   "outputs": [
    {
     "data": {
      "text/plain": [
       "(3264, 2448)"
      ]
     },
     "execution_count": 18,
     "metadata": {},
     "output_type": "execute_result"
    }
   ],
   "source": [
    "image.shape[0:2]"
   ]
  },
  {
   "cell_type": "code",
   "execution_count": 130,
   "metadata": {},
   "outputs": [
    {
     "data": {
      "text/plain": [
       "Center_X    210.405991\n",
       "Center_Y    233.077942\n",
       "Width        24.668375\n",
       "Height       70.583984\n",
       "Name: 1059, dtype: float64"
      ]
     },
     "execution_count": 130,
     "metadata": {},
     "output_type": "execute_result"
    }
   ],
   "source": [
    "df_predictions.loc[1059]"
   ]
  },
  {
   "cell_type": "code",
   "execution_count": 129,
   "metadata": {},
   "outputs": [
    {
     "data": {
      "text/plain": [
       "24.66837501525879"
      ]
     },
     "execution_count": 129,
     "metadata": {},
     "output_type": "execute_result"
    }
   ],
   "source": [
    "df_predictions.loc[1059][2]"
   ]
  },
  {
   "cell_type": "code",
   "execution_count": 123,
   "metadata": {},
   "outputs": [],
   "source": [
    "xA1 = df_predictions.loc[1059][0] - df_predictions.loc[1059][2]/2 - w_index_a\n",
    "yA1 = df_predictions.loc[1059][1] - df_predictions.loc[1059][3]/2\n",
    "xA2 = df_predictions.loc[1059][0] + df_predictions.loc[1059][2]/2 - w_index_a\n",
    "yA2 = df_predictions.loc[1059][1] + df_predictions.loc[1059][3]/2"
   ]
  },
  {
   "cell_type": "code",
   "execution_count": 125,
   "metadata": {},
   "outputs": [
    {
     "data": {
      "text/plain": [
       "(184.86670780181885,\n",
       " 268.36993408203125,\n",
       " 209.53508281707764,\n",
       " 197.78594970703125)"
      ]
     },
     "execution_count": 125,
     "metadata": {},
     "output_type": "execute_result"
    }
   ],
   "source": [
    "xA1, yA1, xA2, yA2"
   ]
  },
  {
   "cell_type": "code",
   "execution_count": 103,
   "metadata": {},
   "outputs": [],
   "source": [
    "def search_voids_bb_neightbours_left(df_predictions: pd.DataFrame, dict_of_neightbours: dict):\n",
    "    \n",
    "    list_of_voids = []\n",
    "    for index_a, index_b in dict_of_neightbours.items():\n",
    "\n",
    "        first_lists = []\n",
    "        h_image, w_image = image.shape[0:2] # obtengo limites de la imagen\n",
    "        w_index_a = df_predictions.loc[int(index_a)][2]\n",
    "        h_index_a = df_predictions.loc[int(index_a)][3]\n",
    "        \n",
    "        xA1 = df_predictions.loc[int(index_a)][0] - df_predictions.loc[int(index_a)][2]/2 - w_index_a\n",
    "        yA1 = df_predictions.loc[int(index_a)][1] - df_predictions.loc[int(index_a)][3]/2\n",
    "        xA2 = df_predictions.loc[int(index_a)][0] + df_predictions.loc[int(index_a)][2]/2 - w_index_a\n",
    "        yA2 = df_predictions.loc[int(index_a)][1] + df_predictions.loc[int(index_a)][3]/2\n",
    "        boxA = [xA1, yA1, xA2, yA2]\n",
    "\n",
    "        void_number = 1\n",
    "        void_text = f'Void number {void_number}'        \n",
    "        X_center_A = df_predictions.loc[int(index_a)][0] - df_predictions.loc[int(index_a)][2]  #X_center - Width\n",
    "        Y_center_A = df_predictions.loc[int(index_a)][1]  - df_predictions.loc[int(index_a)][2]  #Y_center - Width\n",
    "\n",
    "        print(f'Evaluating {index_a}...')\n",
    "        if 0 < xA1 < w_image and 0 < xA2 < w_image and 0 < yA1 < h_image and  0 < yA2 < h_image:\n",
    "                trigger = True\n",
    "                for item in index_b:\n",
    "                    xB1 = df_predictions.loc[item][0] - df_predictions.loc[item][2]/2\n",
    "                    yB1 = df_predictions.loc[item][1] - df_predictions.loc[item][3]/2\n",
    "                    xB2 = df_predictions.loc[item][0] + df_predictions.loc[item][2]/2\n",
    "                    yB2 = df_predictions.loc[item][1] + df_predictions.loc[item][3]/2\n",
    "                    boxB = [xB1, yB1,xB2, yB2]\n",
    "\n",
    "                    xA = max(boxA[0], boxB[0])\n",
    "                    yA = max(boxA[1], boxB[1])\n",
    "                    xB = min(boxA[2], boxB[2])\n",
    "                    yB = min(boxA[3], boxB[3])\n",
    "\n",
    "                    interArea = (xB - xA) * (yB - yA)\n",
    "\n",
    "                    boxAArea = (boxA[2] - boxA[0]) * (boxA[3] - boxA[1])\n",
    "                    boxBArea = (boxB[2] - boxB[0]) * (boxB[3] - boxB[1])\n",
    "\n",
    "                    iou = interArea / float(boxAArea + boxBArea - interArea)\n",
    "                    trigger = trigger and (iou < 0.1)\n",
    "                #print(f'Trigger: {trigger}')\n",
    "                if trigger == False:\n",
    "                    pass\n",
    "                    #print(f'No hay espacio vacio a la izquierda de {index_a}')\n",
    "                else:\n",
    "                    print(f'A la izquierda de {index_a} hay espacio vacio')\n",
    "                    \n",
    "                    list_of_voids.append(boxA)\n",
    "\n",
    "    return list_of_voids"
   ]
  },
  {
   "cell_type": "code",
   "execution_count": null,
   "metadata": {},
   "outputs": [],
   "source": [
    "# izquierda (-1)\n",
    "xA1 = df_predictions.loc[int(index_a)][0] - df_predictions.loc[int(index_a)][2]/2 - k * w_index_a\n",
    "yA1 = df_predictions.loc[int(index_a)][1] - df_predictions.loc[int(index_a)][3]/2\n",
    "xA2 = df_predictions.loc[int(index_a)][0] + df_predictions.loc[int(index_a)][2]/2 - k * w_index_a\n",
    "yA2 = df_predictions.loc[int(index_a)][1] + df_predictions.loc[int(index_a)][3]/2"
   ]
  },
  {
   "cell_type": "code",
   "execution_count": null,
   "metadata": {},
   "outputs": [],
   "source": [
    "# derecha (+1)\n",
    "xA1 = df_predictions.loc[int(index_a)][0] - df_predictions.loc[int(index_a)][2]/2 + k * w_index_a\n",
    "yA1 = df_predictions.loc[int(index_a)][1] - df_predictions.loc[int(index_a)][3]/2\n",
    "xA2 = df_predictions.loc[int(index_a)][0] + df_predictions.loc[int(index_a)][2]/2 + k * w_index_a\n",
    "yA2 = df_predictions.loc[int(index_a)][1] + df_predictions.loc[int(index_a)][3]/2"
   ]
  },
  {
   "cell_type": "code",
   "execution_count": null,
   "metadata": {},
   "outputs": [],
   "source": [
    "# arriba \n",
    "xA1 = df_predictions.loc[int(index_a)][0] - df_predictions.loc[int(index_a)][2]/2 \n",
    "yA1 = df_predictions.loc[int(index_a)][1] - df_predictions.loc[int(index_a)][3]/2 - h_index_a\n",
    "xA2 = df_predictions.loc[int(index_a)][0] + df_predictions.loc[int(index_a)][2]/2 \n",
    "yA2 = df_predictions.loc[int(index_a)][1] + df_predictions.loc[int(index_a)][3]/2 - h_index_a"
   ]
  },
  {
   "cell_type": "code",
   "execution_count": null,
   "metadata": {},
   "outputs": [],
   "source": [
    "# arriba \n",
    "xA1 = df_predictions.loc[int(index_a)][0] - df_predictions.loc[int(index_a)][2]/2 + k * w_index_a # Para izquierda: (-1) / Para derecha: (1) / Para arriba: 0\n",
    "yA1 = df_predictions.loc[int(index_a)][1] - df_predictions.loc[int(index_a)][3]/2 + k * h_index_a # Para izquierda: 0 / Para derecha: 0 / Para arriba: -1\n",
    "xA2 = df_predictions.loc[int(index_a)][0] + df_predictions.loc[int(index_a)][2]/2 + k * w_index_a # Para izquierda: (-1) / Para derecha: (1) / Para arriba: 0\n",
    "yA2 = df_predictions.loc[int(index_a)][1] + df_predictions.loc[int(index_a)][3]/2 + K * h_index_a # Para izquierda: 0 / Para derecha: 0 / Para arriba: -1"
   ]
  },
  {
   "cell_type": "code",
   "execution_count": 11,
   "metadata": {},
   "outputs": [],
   "source": [
    "img_path = '/home/cremerf/FinalProject/eudes-fede/test_imgs/test_7.jpg'"
   ]
  },
  {
   "cell_type": "code",
   "execution_count": 14,
   "metadata": {},
   "outputs": [],
   "source": [
    "list_of_dicts = get_neightbours(img_path= img_path, df_predictions= df_predictions)"
   ]
  },
  {
   "cell_type": "code",
   "execution_count": 241,
   "metadata": {},
   "outputs": [],
   "source": [
    "X_center_0 = df_predictions.loc[572][0]\n",
    "Y_center_0 = df_predictions.loc[572][1]\n",
    "INPUT_WH_YOLO = 640"
   ]
  },
  {
   "cell_type": "code",
   "execution_count": 232,
   "metadata": {},
   "outputs": [
    {
     "data": {
      "text/plain": [
       "381.5714416503906"
      ]
     },
     "execution_count": 232,
     "metadata": {},
     "output_type": "execute_result"
    }
   ],
   "source": [
    "X_center_0 + 160"
   ]
  },
  {
   "cell_type": "code",
   "execution_count": 221,
   "metadata": {},
   "outputs": [],
   "source": [
    "filter_1 = (df_predictions.loc[:, 'X_center'] > (X_center_0 - INPUT_WH_YOLO/4))"
   ]
  },
  {
   "cell_type": "code",
   "execution_count": 222,
   "metadata": {},
   "outputs": [],
   "source": [
    "filter_2 = ((df_predictions.loc[:, 'X_center'] < (X_center_0 + INPUT_WH_YOLO/4)))"
   ]
  },
  {
   "cell_type": "code",
   "execution_count": 223,
   "metadata": {},
   "outputs": [],
   "source": [
    "df_predictions_pre = df_predictions[filter_1]"
   ]
  },
  {
   "cell_type": "code",
   "execution_count": 225,
   "metadata": {},
   "outputs": [],
   "source": [
    "df_predictions_last =  df_predictions[filter_2]"
   ]
  },
  {
   "cell_type": "code",
   "execution_count": 242,
   "metadata": {},
   "outputs": [],
   "source": [
    "df_predictions_final = df_predictions[(df_predictions.loc[:, 'X_center'] < (X_center_0 + INPUT_WH_YOLO/8)) & (df_predictions.loc[:, 'X_center'] > (X_center_0 - INPUT_WH_YOLO/8)) & (df_predictions.loc[:, 'Y_center'] > (Y_center_0 - INPUT_WH_YOLO/8)) & (df_predictions.loc[:, 'Y_center'] < (Y_center_0 + INPUT_WH_YOLO/8))]"
   ]
  },
  {
   "cell_type": "code",
   "execution_count": 245,
   "metadata": {},
   "outputs": [],
   "source": [
    "filter_1 = (df_predictions.loc[:, 'X_center'] < (X_center_0 + INPUT_WH_YOLO/8))\n",
    "filter_2 = (df_predictions.loc[:, 'X_center'] > (X_center_0 - INPUT_WH_YOLO/8))\n",
    "filter_3 = (df_predictions.loc[:, 'Y_center'] > (Y_center_0 - INPUT_WH_YOLO/8))\n",
    "filter_4 = (df_predictions.loc[:, 'Y_center'] < (Y_center_0 + INPUT_WH_YOLO/8))\n",
    "filter_final = (filter_1 & filter_2) & (filter_3 & filter_4)"
   ]
  },
  {
   "cell_type": "code",
   "execution_count": 248,
   "metadata": {},
   "outputs": [],
   "source": [
    "df_predictions_final_2 = df_predictions[filter_final]"
   ]
  },
  {
   "cell_type": "code",
   "execution_count": 80,
   "metadata": {},
   "outputs": [],
   "source": [
    "def get_neightbours(df_predictions:pd.DataFrame, neightbour:str, index_it:int) -> dict:\n",
    "\n",
    "    dict_of_neightbours = {} \n",
    "\n",
    "    X_center_0 = df_predictions.loc[index_it][0]\n",
    "    Y_center_0 = df_predictions.loc[index_it][1]\n",
    "    Width_0 = df_predictions.loc[index_it][2]\n",
    "    height_0 = df_predictions.loc[index_it][3]\n",
    "    threshold_x_0 = 0.8 * Width_0\n",
    "    threshold_y_0 = 0.8 * height_0\n",
    "\n",
    "    INPUT_WH_YOLO = 640\n",
    "    filter_1 = (df_predictions.loc[:, 'X_center'] < (X_center_0 + INPUT_WH_YOLO/8))\n",
    "    filter_2 = (df_predictions.loc[:, 'X_center'] > (X_center_0 - INPUT_WH_YOLO/8))\n",
    "    filter_3 = (df_predictions.loc[:, 'Y_center'] > (Y_center_0 - INPUT_WH_YOLO/8))\n",
    "    filter_4 = (df_predictions.loc[:, 'Y_center'] < (Y_center_0 + INPUT_WH_YOLO/8))\n",
    "    filter_final = (filter_1 & filter_2) & (filter_3 & filter_4)\n",
    "\n",
    "    df_predictions_final_2 = df_predictions[filter_final]\n",
    "\n",
    "    for index_bb in df_predictions_final_2.index:\n",
    "\n",
    "        list_of_neightbours_l = []\n",
    "        list_of_neightbours_r = []\n",
    "        list_of_neightbours_h = [] \n",
    "        list_of_alones_l = []\n",
    "        list_of_alones_r = []\n",
    "        list_of_alones_h=[]\n",
    "\n",
    "        X_center_neightbour = df_predictions.loc[index_bb][0]\n",
    "        Y_center_neightbour = df_predictions.loc[index_bb][1]\n",
    "        a = 4\n",
    "        k = 1.2\n",
    "\n",
    "        ### Neightbor Left\n",
    "        if neightbour == 'left':\n",
    "            \n",
    "            x_min_l = X_center_0 - Width_0 - (a*threshold_x_0)\n",
    "            x_max_l = X_center_0 - Width_0 + (k*threshold_x_0)\n",
    "\n",
    "            y_min_l = Y_center_0 - (k*threshold_y_0)\n",
    "            y_max_l = Y_center_0 + (k*threshold_y_0)\n",
    "\n",
    "            if (x_min_l < X_center_neightbour < x_max_l and y_min_l < Y_center_neightbour < y_max_l )  :\n",
    "                list_of_neightbours_l.append([index_bb])\n",
    "                try:\n",
    "                    dict_of_neightbours[str(index_it)+'_l'].append(index_bb)\n",
    "                except KeyError:\n",
    "                    dict_of_neightbours[str(index_it)+'_l']= []\n",
    "                    dict_of_neightbours[str(index_it)+'_l'].append(index_bb)\n",
    "            else:\n",
    "                list_of_alones_l.append([index_bb])\n",
    "\n",
    "        ### Neightbor Right\n",
    "        elif neightbour == 'right':\n",
    "\n",
    "            x_min_r = X_center_0 + Width_0 - (k*threshold_x_0)\n",
    "            x_max_r = X_center_0 + Width_0 + (a*threshold_x_0)\n",
    "\n",
    "            y_min_r = Y_center_0 - (k*threshold_y_0)\n",
    "            y_max_r = Y_center_0 + (k*threshold_y_0)\n",
    "\n",
    "            if (x_min_r < X_center_neightbour < x_max_r and y_min_r < Y_center_neightbour < y_max_r ):\n",
    "                list_of_neightbours_r.append([index_bb])\n",
    "                try:\n",
    "                    dict_of_neightbours[str(index_it)+'_r'].append(index_bb)\n",
    "                except KeyError:\n",
    "                    dict_of_neightbours[str(index_it)+'_r']= []\n",
    "                    dict_of_neightbours[str(index_it)+'_r'].append(index_bb)\n",
    "            else:\n",
    "                list_of_alones_r.append([index_it, index_bb])\n",
    "\n",
    "        ### Neightbor High\n",
    "        else:\n",
    "            x_min_h = X_center_0 - (k*threshold_x_0)\n",
    "            x_max_h = X_center_0 + (2*k*threshold_x_0)\n",
    "\n",
    "            y_min_h = Y_center_0 + height_0 - (0.8*threshold_y_0)\n",
    "            y_max_h = Y_center_0 + height_0 + (2*a*threshold_y_0)\n",
    "\n",
    "            if (x_min_h < X_center_neightbour < x_max_h and y_min_h < Y_center_neightbour < y_max_h ):\n",
    "                list_of_neightbours_h.append([index_bb])\n",
    "                try:\n",
    "                    dict_of_neightbours[str(index_it)+'_h'].append(index_bb)\n",
    "                except KeyError:\n",
    "                    dict_of_neightbours[str(index_it)+'_h']= []\n",
    "                    dict_of_neightbours[str(index_it)+'_h'].append(index_bb)\n",
    "            else:\n",
    "                list_of_alones_h.append([index_it, index_bb])\n",
    "\n",
    "    return dict_of_neightbours"
   ]
  },
  {
   "cell_type": "code",
   "execution_count": 81,
   "metadata": {},
   "outputs": [],
   "source": [
    "pool = multiprocessing.Pool()\n",
    "neightbour = 'left'\n",
    "func = partial(get_neightbours, df_predictions, neightbour)\n",
    "dict_of_neightbours_left = pool.map(func, list(df_predictions.index))\n",
    "pool.close()\n",
    "pool.join()\n",
    "\n",
    "dict_of_neightbours_left = list(filter(None, dict_of_neightbours_left))\n",
    "\n",
    "pool = multiprocessing.Pool()\n",
    "neightbour = 'right'\n",
    "func = partial(get_neightbours, df_predictions, neightbour)\n",
    "dict_of_neightbours_right = pool.map(func, list(df_predictions.index))\n",
    "pool.close()\n",
    "pool.join()\n",
    "\n",
    "dict_of_neightbours_right = list(filter(None, dict_of_neightbours_right))\n",
    "\n",
    "pool = multiprocessing.Pool()\n",
    "neightbour = 'up'\n",
    "func = partial(get_neightbours, df_predictions, neightbour)\n",
    "dict_of_neightbours_up = pool.map(func, list(df_predictions.index))\n",
    "pool.close()\n",
    "pool.join()\n",
    "\n",
    "dict_of_neightbours_up = list(filter(None, dict_of_neightbours_up))"
   ]
  },
  {
   "cell_type": "code",
   "execution_count": null,
   "metadata": {},
   "outputs": [],
   "source": [
    "h_image, w_image = image.shape[0:2]"
   ]
  },
  {
   "cell_type": "code",
   "execution_count": null,
   "metadata": {},
   "outputs": [],
   "source": [
    "dict_of_neightbours_left\n",
    "dict_of_neightbours_right\n",
    "dict_of_neightbours_up"
   ]
  },
  {
   "cell_type": "code",
   "execution_count": 124,
   "metadata": {},
   "outputs": [],
   "source": [
    "list2d = [dict_of_neightbours_left, dict_of_neightbours_right, dict_of_neightbours_up]\n",
    "merged = list(itertools.chain.from_iterable(list2d))"
   ]
  },
  {
   "cell_type": "code",
   "execution_count": 126,
   "metadata": {},
   "outputs": [],
   "source": [
    "def search_voids_bb_neightbours(df_predictions: pd.DataFrame, merged_list: list, h_image:int, w_image:int):\n",
    "    \n",
    "    list_of_voids = []\n",
    "\n",
    "    k = 0\n",
    "    z = 0\n",
    "    \n",
    "    # iterate over all dicts in list\n",
    "    for dicts in merged_list:\n",
    "\n",
    "        # iterate over key and value pairs of dict (index_a = key // index_b = value pair)\n",
    "        for index_a, index_b in dicts.items():\n",
    "\n",
    "            if index_a[-1] == 'l':\n",
    "                k = -1\n",
    "                z = 0\n",
    "            elif index_a[-1] == 'r':\n",
    "                k = 1\n",
    "                z = 0\n",
    "            else:\n",
    "                k = 0\n",
    "                z = -1\n",
    "\n",
    "            index_a = index_a[0:-2]\n",
    "\n",
    "            #h_image, w_image = image.shape[0:2] # limits of the image\n",
    "            w_index_a = df_predictions.loc[int(index_a)][2]\n",
    "            h_index_a = df_predictions.loc[int(index_a)][3]\n",
    "\n",
    "            \n",
    "            # Virtual bounding box to evaluate neightbours \n",
    "            xA1 = df_predictions.loc[int(index_a)][0] - df_predictions.loc[int(index_a)][2]/2 + (k * w_index_a) # Para izquierda: (-1) / Para derecha: 1 / Para arriba: 0\n",
    "            yA1 = df_predictions.loc[int(index_a)][1] - df_predictions.loc[int(index_a)][3]/2 + (z * h_index_a) # Para izquierda: 0 / Para derecha: 0 / Para arriba: (-1)\n",
    "            xA2 = df_predictions.loc[int(index_a)][0] + df_predictions.loc[int(index_a)][2]/2 + (k * w_index_a) # Para izquierda: (-1) / Para derecha: 1 / Para arriba: 0\n",
    "            yA2 = df_predictions.loc[int(index_a)][1] + df_predictions.loc[int(index_a)][3]/2 + (z * h_index_a) # Para izquierda: 0 / Para derecha: 0 / Para arriba: -1\n",
    "            boxA = [xA1, yA1, xA2, yA2]\n",
    "\n",
    "\n",
    "            X_center_A = df_predictions.loc[int(index_a)][0] - k * df_predictions.loc[int(index_a)][2]  # Left X_center - Width  // Right X_center + Width\n",
    "            Y_center_A = df_predictions.loc[int(index_a)][1]  - k * df_predictions.loc[int(index_a)][2]  # Left Y_center - Width // Right Y_center + Width\n",
    "\n",
    "            print(f'Evaluating {index_a}...')\n",
    "            \n",
    "\n",
    "            # Limits of the image\n",
    "            if 0 < xA1 < w_image and 0 < xA2 < w_image and 0 < yA1 < h_image and  0 < yA2 < h_image:\n",
    "                    trigger = True\n",
    "                    void_number = 0\n",
    "\n",
    "                    # Iterate over each neightbour: neightbour vs virtual bounding box\n",
    "                    for item in index_b:\n",
    "                        \n",
    "                        first_list = []\n",
    "                        xB1 = df_predictions.loc[item][0] - df_predictions.loc[item][2]/2\n",
    "                        yB1 = df_predictions.loc[item][1] - df_predictions.loc[item][3]/2\n",
    "                        xB2 = df_predictions.loc[item][0] + df_predictions.loc[item][2]/2\n",
    "                        yB2 = df_predictions.loc[item][1] + df_predictions.loc[item][3]/2\n",
    "                        boxB = [xB1, yB1,xB2, yB2]\n",
    "\n",
    "                        xA = max(boxA[0], boxB[0])\n",
    "                        yA = max(boxA[1], boxB[1])\n",
    "                        xB = min(boxA[2], boxB[2])\n",
    "                        yB = min(boxA[3], boxB[3])\n",
    "\n",
    "                        interArea = (xB - xA) * (yB - yA)\n",
    "\n",
    "                        boxAArea = (boxA[2] - boxA[0]) * (boxA[3] - boxA[1])\n",
    "                        boxBArea = (boxB[2] - boxB[0]) * (boxB[3] - boxB[1])\n",
    "\n",
    "                        iou = interArea / float(boxAArea + boxBArea - interArea)\n",
    "                        trigger = trigger and (iou < 0.1)\n",
    "                    #print(f'Trigger: {trigger}')\n",
    "\n",
    "                    if trigger == False:\n",
    "                        pass\n",
    "                        #print(f'No hay espacio vacio a la izquierda de {index_a}')\n",
    "                    else:\n",
    "                        print(f'A la izquierda de {index_a} hay espacio vacio')\n",
    "                        void_number += 1\n",
    "                        void_text = f'{index_a} void #{void_number}'\n",
    "                        first_list.append(index_a)\n",
    "                        first_list.append(void_text)\n",
    "                        first_list.append(X_center_A)\n",
    "                        first_list.append(Y_center_A)\n",
    "                        first_list.append(w_index_a)\n",
    "                        first_list.append(h_index_a)\n",
    "                        list_of_voids.append(first_list)\n",
    "                    \n",
    "\n",
    "    return list_of_voids"
   ]
  },
  {
   "cell_type": "code",
   "execution_count": null,
   "metadata": {},
   "outputs": [],
   "source": [
    "list_of_voids = search_voids_bb_neightbours(df_predictions=df_predictions, merged_list=merged, h_image=h_image, w_image=w_image)"
   ]
  },
  {
   "cell_type": "code",
   "execution_count": null,
   "metadata": {},
   "outputs": [],
   "source": [
    "list_of_voids"
   ]
  },
  {
   "cell_type": "code",
   "execution_count": null,
   "metadata": {},
   "outputs": [],
   "source": [
    "pd.DataFrame(list_of_voids, columns=['Neightbour','Label','X_center','Y_center','Width','Height'])"
   ]
  }
 ],
 "metadata": {
  "kernelspec": {
   "display_name": "Python 3.6.9 64-bit",
   "language": "python",
   "name": "python3"
  },
  "language_info": {
   "codemirror_mode": {
    "name": "ipython",
    "version": 3
   },
   "file_extension": ".py",
   "mimetype": "text/x-python",
   "name": "python",
   "nbconvert_exporter": "python",
   "pygments_lexer": "ipython3",
   "version": "3.6.9"
  },
  "orig_nbformat": 4,
  "vscode": {
   "interpreter": {
    "hash": "31f2aee4e71d21fbe5cf8b01ff0e069b9275f58929596ceb00d14d90e3e16cd6"
   }
  }
 },
 "nbformat": 4,
 "nbformat_minor": 2
}
