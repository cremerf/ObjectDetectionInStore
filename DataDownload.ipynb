{
 "cells": [
  {
   "cell_type": "code",
   "execution_count": null,
   "metadata": {},
   "outputs": [],
   "source": [
    "from dotenv import load_dotenv\n",
    "import boto3\n",
    "load_dotenv()\n",
    "import os\n",
    "print(os.getenv(\"AWS_ACCESS_KEY_ID\"))\n"
   ]
  },
  {
   "cell_type": "code",
   "execution_count": null,
   "metadata": {},
   "outputs": [],
   "source": [
    "AWS_ACCESS_KEY_ID = os.getenv(\"AWS_ACCESS_KEY_ID\")\n",
    "AWS_SECRET_ACCESS_KEY = os.getenv(\"AWS_SECRET_ACCESS_KEY\")"
   ]
  },
  {
   "cell_type": "code",
   "execution_count": null,
   "metadata": {},
   "outputs": [],
   "source": [
    "s3_resource = boto3.resource('s3',aws_access_key_id=AWS_ACCESS_KEY_ID,aws_secret_access_key=AWS_SECRET_ACCESS_KEY)"
   ]
  },
  {
   "cell_type": "code",
   "execution_count": null,
   "metadata": {},
   "outputs": [],
   "source": [
    "bucket = s3_resource.Bucket('anyoneai-datasets')"
   ]
  },
  {
   "cell_type": "code",
   "execution_count": null,
   "metadata": {},
   "outputs": [],
   "source": [
    "DATA_FOLDER = os.getenv('LOCATION_DIR')"
   ]
  },
  {
   "cell_type": "code",
   "execution_count": null,
   "metadata": {},
   "outputs": [],
   "source": [
    "for object_summary in bucket.objects.filter(Prefix=\"SKU-110K/SKU110K_fixed\"):\n",
    "    try:\n",
    "        with open(os.path.join(DATA_FOLDER, os.path.split(object_summary.key)[-1]), 'wb') as data:\n",
    "            bucket.download_fileobj(object_summary.key, data)\n",
    "    except IsADirectoryError:\n",
    "        continue"
   ]
  },
  {
   "cell_type": "code",
   "execution_count": null,
   "metadata": {},
   "outputs": [],
   "source": []
  },
  {
   "cell_type": "code",
   "execution_count": null,
   "metadata": {},
   "outputs": [],
   "source": [
    "print(DATA_FOLDER)"
   ]
  },
  {
   "cell_type": "code",
   "execution_count": null,
   "metadata": {},
   "outputs": [],
   "source": [
    "os.getcwd()"
   ]
  },
  {
   "cell_type": "code",
   "execution_count": null,
   "metadata": {},
   "outputs": [],
   "source": [
    "import pandas as pd\n",
    "import cv2"
   ]
  },
  {
   "cell_type": "code",
   "execution_count": null,
   "metadata": {},
   "outputs": [],
   "source": [
    "DATA_FOLDER = os.getenv('LOCATION_DIR')"
   ]
  },
  {
   "cell_type": "code",
   "execution_count": null,
   "metadata": {},
   "outputs": [],
   "source": [
    "subset = 'train'"
   ]
  },
  {
   "cell_type": "code",
   "execution_count": null,
   "metadata": {},
   "outputs": [],
   "source": [
    "data = pd.read_csv(f'{DATA_FOLDER}/annotations_'+subset+'.csv', names=[\"image_name\", \"x1\", \"y1\", \"x2\", \"y2\",\"class\", \"image_width\", \"image_height\" ])"
   ]
  },
  {
   "cell_type": "code",
   "execution_count": null,
   "metadata": {},
   "outputs": [],
   "source": [
    "data"
   ]
  },
  {
   "cell_type": "code",
   "execution_count": null,
   "metadata": {},
   "outputs": [],
   "source": [
    "print(subset+\"_df shape: \", data.shape)\n",
    "filenames = data['image_name'].unique().tolist()"
   ]
  },
  {
   "cell_type": "code",
   "execution_count": null,
   "metadata": {},
   "outputs": [],
   "source": [
    "data.head(5)"
   ]
  },
  {
   "cell_type": "code",
   "execution_count": null,
   "metadata": {},
   "outputs": [],
   "source": [
    "index = data[data['image_name'] == 'train_22.jpg'].index.tolist()"
   ]
  },
  {
   "cell_type": "code",
   "execution_count": null,
   "metadata": {},
   "outputs": [],
   "source": [
    "img_path = os.path.join('data_v1/train/train_22.jpg')\n",
    "image = cv2.imread(img_path)"
   ]
  },
  {
   "cell_type": "code",
   "execution_count": null,
   "metadata": {},
   "outputs": [],
   "source": [
    "img_path = os.path.join('data_v1/train/train_22.jpg')\n",
    "image = cv2.imread(img_path)\n",
    "for idx in index:\n",
    "    x1=int(data.iloc[idx]['x1'])\n",
    "    y1=int(data.iloc[idx]['y1'])\n",
    "    x2=int(data.iloc[idx]['x2'])\n",
    "    y2=int(data.iloc[idx]['y2'])\n",
    "\n",
    "    window_name = 'Image'\n",
    "    # # represents the top left corner of rectangle\n",
    "    start_point=(x1,y1)\n",
    "    end_point=(x2,y2)\n",
    "    print(start_point, end_point)\n",
    "\n",
    "    # # Blue color in BGR\n",
    "    color = (0, 0, 255)\n",
    "    # # Line thickness of 2 px\n",
    "    thickness = 2\n",
    "\n",
    "    image = cv2.rectangle(image, start_point, end_point, color, thickness)\n",
    "    cv2.imwrite('data_v1/data_bb/'+'train_22.jpg',image)"
   ]
  },
  {
   "cell_type": "code",
   "execution_count": null,
   "metadata": {},
   "outputs": [],
   "source": [
    "for filename in filenames:\n",
    "    img_path=os.path.join('data_v1/train/', filename)\n",
    "    if os.path.exists(img_path):\n",
    "        index = data[data['image_name']==filename].index.tolist()\n",
    "        #print(len(index))\n",
    "        image = cv2.imread(img_path)\n",
    "        for idx in index:\n",
    "            x1=int(data.iloc[idx]['x1'])\n",
    "            y1=int(data.iloc[idx]['y1'])\n",
    "            x2=int(data.iloc[idx]['x2'])\n",
    "            y2=int(data.iloc[idx]['y2'])\n",
    "\n",
    "            # read image\n",
    "            #bounding box\n",
    "            #train_1076.jpg,836,1382,912,1534,object,1920,2560\n",
    "\n",
    "            # # Window name in which image is displayed\n",
    "            window_name = 'Image'\n",
    "            # # represents the top left corner of rectangle\n",
    "            start_point=(x1,y1)\n",
    "            end_point=(x2,y2)\n",
    "            print(start_point, end_point)\n",
    "\n",
    "            # # Blue color in BGR\n",
    "            color = (0, 0, 255)\n",
    "            # # Line thickness of 2 px\n",
    "            thickness = 3\n",
    "\n",
    "            image = cv2.rectangle(image, start_point, end_point, color, thickness)\n",
    "            cv2.imwrite('data_v1/data_bb/'+filename, image)"
   ]
  },
  {
   "cell_type": "code",
   "execution_count": null,
   "metadata": {},
   "outputs": [],
   "source": [
    "AWS_ACCESS_KEY_ID = os.getenv(\"AWS_ACCESS_KEY_ID\")\n",
    "AWS_SECRET_ACCESS_KEY = os.getenv(\"AWS_SECRET_ACCESS_KEY\")\n",
    "BUCKET_NAME = os.getenv('BUCKET_NAME')\n",
    "BUCKET_PREFIX = os.getenv('BUCKET_PREFIX')\n",
    "\n",
    "DATA_FOLDER = os.getenv('LOCATION_DIR')\n",
    "OUTPUT_DATA_FOLDER = os.getenv('OUTPUT_DATA_FOLDER')\n",
    "OUTPUT_DATA_BB_FOLDER = os.getenv('OUTPUT_DATA_FOLDER')"
   ]
  },
  {
   "cell_type": "code",
   "execution_count": 18,
   "metadata": {},
   "outputs": [
    {
     "data": {
      "text/plain": [
       "'c:\\\\Users\\\\Fede\\\\Desktop\\\\FOCUS\\\\AnyoneAI\\\\FinalProject'"
      ]
     },
     "execution_count": 18,
     "metadata": {},
     "output_type": "execute_result"
    }
   ],
   "source": [
    "os.getcwd()"
   ]
  },
  {
   "cell_type": "code",
   "execution_count": 20,
   "metadata": {},
   "outputs": [],
   "source": [
    "from PIL import Image"
   ]
  },
  {
   "cell_type": "code",
   "execution_count": 26,
   "metadata": {},
   "outputs": [],
   "source": [
    "import cv2\n",
    "import numpy as np\n",
    "\n",
    "img = cv2.imread('data_v1/train/train_22.jpg')\n",
    "res = cv2.resize(img, dsize=(54, 140), interpolation=cv2.INTER_CUBIC)"
   ]
  },
  {
   "cell_type": "code",
   "execution_count": 37,
   "metadata": {},
   "outputs": [
    {
     "name": "stdout",
     "output_type": "stream",
     "text": [
      "Original Dimensions : (2560, 1920, 3)\n",
      "Resized Dimensions : (416, 416, 3)\n"
     ]
    },
    {
     "data": {
      "text/plain": [
       "True"
      ]
     },
     "execution_count": 37,
     "metadata": {},
     "output_type": "execute_result"
    }
   ],
   "source": [
    "import cv2\n",
    "\n",
    "img = cv2.imread('data_v1/train/train_22.jpg')\n",
    "\n",
    "# Get original height and width\n",
    "print(f\"Original Dimensions : {img.shape}\")\n",
    "\n",
    "# resize image by specifying custom width and height\n",
    "resized = cv2.resize(img, (416, 416))\n",
    "\n",
    "print(f\"Resized Dimensions : {resized.shape}\")\n",
    "cv2.imwrite('resized_imaged2.jpg', resized)"
   ]
  },
  {
   "cell_type": "code",
   "execution_count": 34,
   "metadata": {},
   "outputs": [
    {
     "data": {
      "text/plain": [
       "(416, 416, 3)"
      ]
     },
     "execution_count": 34,
     "metadata": {},
     "output_type": "execute_result"
    }
   ],
   "source": []
  }
 ],
 "metadata": {
  "kernelspec": {
   "display_name": "Python 3.10.7 64-bit",
   "language": "python",
   "name": "python3"
  },
  "language_info": {
   "codemirror_mode": {
    "name": "ipython",
    "version": 3
   },
   "file_extension": ".py",
   "mimetype": "text/x-python",
   "name": "python",
   "nbconvert_exporter": "python",
   "pygments_lexer": "ipython3",
   "version": "3.10.7"
  },
  "orig_nbformat": 4,
  "vscode": {
   "interpreter": {
    "hash": "bf3fddaf5f16d859b6e8d0eeaf4cfc855ee191cae7b483f6b3cdefa4bf9da992"
   }
  }
 },
 "nbformat": 4,
 "nbformat_minor": 2
}
