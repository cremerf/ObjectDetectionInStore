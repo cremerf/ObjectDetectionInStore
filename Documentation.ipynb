{
 "cells": [
  {
   "attachments": {},
   "cell_type": "markdown",
   "metadata": {},
   "source": [
    "#### Welcome to the Object Detection In-Store Project!\n",
    "\n",
    "* Before deep-diving into the developed algorithm and the model(Yolov5) we are tackling the contents of the structure. However, you will find docstrings and comments (#) in each script. We strongly recommend you to carefully read this docs as well as the file you will find inside \"Tutorial_HowTo\"."
   ]
  },
  {
   "attachments": {},
   "cell_type": "markdown",
   "metadata": {},
   "source": [
    "### Root's folder structure of our service."
   ]
  },
  {
   "attachments": {},
   "cell_type": "markdown",
   "metadata": {},
   "source": [
    "* This is the root folder of our application:\n",
    "\n",
    "![](rootfolder.PNG)\n",
    "\n",
    "\n",
    "We are going to go over and explain each folder, what contains and what role plays in our service.\n",
    "\n",
    "### Tutorial_HowTo\n",
    "\n",
    "* In this folder you will find everything related to the deployment and assembly of the application as well as **how** you can use it.\n",
    "***\n",
    "### notebooks_blackboards\n",
    "\n",
    "* This folder is where all the prototyped code is. You can use it to test isolated parts of the algorithm.\n",
    "***\n",
    "### model\n",
    "\n",
    "* model is the folder that contains our **algorithm** or **backend** service. \n",
    "\n",
    "![](model_structure.PNG)\n",
    "\n",
    "* In **model-level** you will find scripts folder and the following files:\n",
    "\n",
    "        - .env: Enviroment variables to use in order to connect to AWS and download datasets or manage the S3. \n",
    "        - Dockerfile: All related to the Docker Container in where will be running the backend.\n",
    "        - ml_service.py: Python file that communicates Redis to our algorithm (main_detect.py)\n",
    "        - requirements.txt: Dependencies needed to be installed by the Dockerfile\n",
    "        - testpaths.py: Test the paths needed. (weights folder, weights, yaml file)\n",
    "\n",
    "* In **scripts-level** you will find packages folder and two files:\n",
    "\n",
    "        - main_detect.py: Main of the service. Wrap up of the functions that enables the algorithm to predict.\n",
    "        - main_setup.py: Main that wrap ups two mains:\n",
    "                - main_prepare_labels(): prepare the labels needed by Yolov5 to train and obtain the weights.\n",
    "                - main_prepare_dataset(): download and split the dataset into train / test / val.\n",
    "\n",
    "* In **packages-level** you will find all the python files that give life to our algorithm:\n",
    "\n",
    "        - yolo_predict.py: Python script developed in OOP using Yolov5 weights and OpenCV to predict objects in images. Each object will have a bounding box around them in green colour. \n",
    "        - settings.py: some Reddis settings.\n",
    "        - prepare_labels.py: this script create subset dirs and splits each label in their corresponding subset. The values of each label are normalized.\n",
    "        - prepare_dataset.py: download + split (train/test/val) + plot dataset. \n",
    "        - paths.py: Class to define working dirs.\n",
    "        - detect_voids.py: In this script you will find the functions that detect voids. If you want to know further, you can check each docstring's function. We used Multiprocessing to detect neightbours bounding boxes and OpenCV to plot detected objects and voids.\n",
    "***\n",
    "### data_downloaded & data_bb are in .gitignore but:\n",
    "\n",
    "        - data_downloaded: the dataset we used to obtain the weights in Yolov5.\n",
    "        - data_bb: images with plotted bounding boxes.\n",
    "***\n",
    "### data\n",
    "\n",
    "* This folder holds predicted and uploaded images from the website, weights to be used by the model & more.\n",
    "\n",
    "![](data_folder_structure.PNG)\n",
    "\n",
    "* In **weights-level** you will find all the training folders with several files related to each one:\n",
    "\n",
    "        - in this folder you will find the folders named \"xxxxx_training\", in this case, **first_training**. Inside the folder, you will find \"weights\" with .pt/.onnx.\n",
    "\n",
    "* **uploads** folder receives the images from the website. This folder will stored those images that will be predicted by the algorithm.\n",
    "\n",
    "* **predictions** the output of our service. The image will show the detected objects(green) and detected voids(red)\n",
    "***\n",
    "### api\n",
    "\n",
    "* api folder holds all the related stuff to our API developed with FastAPI.\n",
    "\n",
    "![](api_structure.PNG)\n",
    "\n",
    "* In **api-level** we will find the main.py script, but also diverse files that involves our API:\n",
    "\n",
    "        - views.py\n",
    "        - utils.py\n",
    "        - testpaths.py\n",
    "        - paths.py\n",
    "        - middleware.py\n",
    "        - main.py\n",
    "        - Dockerfile\n",
    "\n",
    "* In **front-level** \n",
    "\n",
    "![](front_folder_structure.PNG)\n",
    "\n",
    "\n",
    "\n"
   ]
  },
  {
   "attachments": {},
   "cell_type": "markdown",
   "metadata": {},
   "source": [
    "### Our algorithm - How our service works?"
   ]
  },
  {
   "cell_type": "markdown",
   "metadata": {},
   "source": []
  },
  {
   "cell_type": "markdown",
   "metadata": {},
   "source": []
  }
 ],
 "metadata": {
  "kernelspec": {
   "display_name": "Python 3",
   "language": "python",
   "name": "python3"
  },
  "language_info": {
   "name": "python",
   "version": "3.10.7 (tags/v3.10.7:6cc6b13, Sep  5 2022, 14:08:36) [MSC v.1933 64 bit (AMD64)]"
  },
  "orig_nbformat": 4,
  "vscode": {
   "interpreter": {
    "hash": "bf3fddaf5f16d859b6e8d0eeaf4cfc855ee191cae7b483f6b3cdefa4bf9da992"
   }
  }
 },
 "nbformat": 4,
 "nbformat_minor": 2
}
