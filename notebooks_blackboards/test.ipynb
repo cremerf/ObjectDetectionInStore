{
 "cells": [
  {
   "cell_type": "code",
   "execution_count": 2,
   "metadata": {},
   "outputs": [],
   "source": [
    "import sys\n",
    "sys.path.append('../')"
   ]
  },
  {
   "cell_type": "code",
   "execution_count": 14,
   "metadata": {},
   "outputs": [
    {
     "name": "stdout",
     "output_type": "stream",
     "text": [
      "The autoreload extension is already loaded. To reload it, use:\n",
      "  %reload_ext autoreload\n"
     ]
    }
   ],
   "source": [
    "%load_ext autoreload\n",
    "%autoreload 2"
   ]
  },
  {
   "cell_type": "code",
   "execution_count": 3,
   "metadata": {},
   "outputs": [],
   "source": [
    "%reload_ext autoreload"
   ]
  },
  {
   "cell_type": "code",
   "execution_count": 4,
   "metadata": {},
   "outputs": [],
   "source": [
    "from scripts.detect_voids import get_neightbours, search_voids_bb_neightbours\n",
    "from packages.yolo_predict import YOLO_Pred\n",
    "from concurrent.futures import ThreadPoolExecutor\n",
    "import pandas as pd\n",
    "import cv2\n",
    "import multiprocessing\n",
    "from functools import partial\n",
    "import itertools"
   ]
  },
  {
   "cell_type": "code",
   "execution_count": 5,
   "metadata": {},
   "outputs": [],
   "source": [
    "yolo = YOLO_Pred('/home/cremerf/FinalProject/data/first_training/weights/bestnoft.onnx', '/home/cremerf/FinalProject/data/config_blmodel.yaml')"
   ]
  },
  {
   "cell_type": "code",
   "execution_count": 7,
   "metadata": {},
   "outputs": [],
   "source": [
    "image = cv2.imread('/home/cremerf/FinalProject/eudes-fede/test_imgs/test_7.jpg')"
   ]
  },
  {
   "cell_type": "code",
   "execution_count": 8,
   "metadata": {},
   "outputs": [],
   "source": [
    "df_predictions = yolo.predictions(image)"
   ]
  },
  {
   "cell_type": "code",
   "execution_count": 13,
   "metadata": {},
   "outputs": [],
   "source": [
    "def bb_intersection_over_union(df_predictions: pd.DataFrame, index_key:int, index_neightbour:int) -> float:\n",
    "\n",
    "    a = index_key\n",
    "    xA1 = df_predictions.loc[a][0] - df_predictions.loc[a][2]/2\n",
    "    yA1 = df_predictions.loc[a][1] + df_predictions.loc[a][3]/2\n",
    "    xA2 = df_predictions.loc[a][0] + df_predictions.loc[a][2]/2\n",
    "    yA2 = df_predictions.loc[a][1] - df_predictions.loc[a][3]/2\n",
    "    boxA = [xA1, yA1, xA2, yA2 ]\n",
    "\n",
    "    b = index_neightbour # indices vecinos detectados que estan en el diccionario\n",
    "    xB1 = df_predictions.loc[b][0] - df_predictions.loc[b][2]/2\n",
    "    yB1 = df_predictions.loc[b][1] + df_predictions.loc[b][3]/2\n",
    "    xB2 = df_predictions.loc[b][0] + df_predictions.loc[b][2]/2\n",
    "    yB2 = df_predictions.loc[b][1] - df_predictions.loc[b][3]/2\n",
    "    boxB = [xB1, yB1,xB2, yB2 ]\n",
    "    \n",
    "    # determine the (x, y)-coordinates of the intersection rectangle\n",
    "    xA = max(boxA[0], boxB[0])\n",
    "    yA = max(boxA[1], boxB[1])\n",
    "    xB = min(boxA[2], boxB[2])\n",
    "    yB = min(boxA[3], boxB[3])\n",
    "\n",
    "\n",
    "    # compute the area of intersection rectangle\n",
    "    interArea = (xB - xA) * (yB - yA)\n",
    "\n",
    "    # compute the area of both the prediction and ground-truth\n",
    "    # rectangles\n",
    "    boxAArea = (boxA[2] - boxA[0]) * (boxA[3] - boxA[1])\n",
    "    boxBArea = (boxB[2] - boxB[0]) * (boxB[3] - boxB[1])\n",
    "\n",
    "    # compute the intersection over union by taking the intersection\n",
    "    # area and dividing it by the sum of prediction + ground-truth\n",
    "    # areas - the interesection area\n",
    "    iou = interArea / float(boxAArea + boxBArea - interArea)\n",
    "\n",
    "    # return the intersection over union value\n",
    "    return iou"
   ]
  },
  {
   "cell_type": "code",
   "execution_count": null,
   "metadata": {},
   "outputs": [],
   "source": [
    "# para left w = -w y h = 0\n",
    "# para right w = +w y h = 0\n",
    "# para top w = 0 y h = + h"
   ]
  },
  {
   "cell_type": "code",
   "execution_count": 47,
   "metadata": {},
   "outputs": [],
   "source": [
    "image = cv2.imread(filename='/home/cremerf/FinalProject/eudes-fede/test_imgs/test_7.jpg')"
   ]
  },
  {
   "cell_type": "code",
   "execution_count": 18,
   "metadata": {},
   "outputs": [
    {
     "data": {
      "text/plain": [
       "(3264, 2448)"
      ]
     },
     "execution_count": 18,
     "metadata": {},
     "output_type": "execute_result"
    }
   ],
   "source": [
    "image.shape[0:2]"
   ]
  },
  {
   "cell_type": "code",
   "execution_count": 130,
   "metadata": {},
   "outputs": [
    {
     "data": {
      "text/plain": [
       "Center_X    210.405991\n",
       "Center_Y    233.077942\n",
       "Width        24.668375\n",
       "Height       70.583984\n",
       "Name: 1059, dtype: float64"
      ]
     },
     "execution_count": 130,
     "metadata": {},
     "output_type": "execute_result"
    }
   ],
   "source": [
    "df_predictions.loc[1059]"
   ]
  },
  {
   "cell_type": "code",
   "execution_count": 129,
   "metadata": {},
   "outputs": [
    {
     "data": {
      "text/plain": [
       "24.66837501525879"
      ]
     },
     "execution_count": 129,
     "metadata": {},
     "output_type": "execute_result"
    }
   ],
   "source": [
    "df_predictions.loc[1059][2]"
   ]
  },
  {
   "cell_type": "code",
   "execution_count": 123,
   "metadata": {},
   "outputs": [],
   "source": [
    "xA1 = df_predictions.loc[1059][0] - df_predictions.loc[1059][2]/2 - w_index_a\n",
    "yA1 = df_predictions.loc[1059][1] - df_predictions.loc[1059][3]/2\n",
    "xA2 = df_predictions.loc[1059][0] + df_predictions.loc[1059][2]/2 - w_index_a\n",
    "yA2 = df_predictions.loc[1059][1] + df_predictions.loc[1059][3]/2"
   ]
  },
  {
   "cell_type": "code",
   "execution_count": 125,
   "metadata": {},
   "outputs": [
    {
     "data": {
      "text/plain": [
       "(184.86670780181885,\n",
       " 268.36993408203125,\n",
       " 209.53508281707764,\n",
       " 197.78594970703125)"
      ]
     },
     "execution_count": 125,
     "metadata": {},
     "output_type": "execute_result"
    }
   ],
   "source": [
    "xA1, yA1, xA2, yA2"
   ]
  },
  {
   "cell_type": "code",
   "execution_count": 103,
   "metadata": {},
   "outputs": [],
   "source": [
    "def search_voids_bb_neightbours_left(df_predictions: pd.DataFrame, dict_of_neightbours: dict):\n",
    "    \n",
    "    list_of_voids = []\n",
    "    for index_a, index_b in dict_of_neightbours.items():\n",
    "\n",
    "        first_lists = []\n",
    "        h_image, w_image = image.shape[0:2] # obtengo limites de la imagen\n",
    "        w_index_a = df_predictions.loc[int(index_a)][2]\n",
    "        h_index_a = df_predictions.loc[int(index_a)][3]\n",
    "        \n",
    "        xA1 = df_predictions.loc[int(index_a)][0] - df_predictions.loc[int(index_a)][2]/2 - w_index_a\n",
    "        yA1 = df_predictions.loc[int(index_a)][1] - df_predictions.loc[int(index_a)][3]/2\n",
    "        xA2 = df_predictions.loc[int(index_a)][0] + df_predictions.loc[int(index_a)][2]/2 - w_index_a\n",
    "        yA2 = df_predictions.loc[int(index_a)][1] + df_predictions.loc[int(index_a)][3]/2\n",
    "        boxA = [xA1, yA1, xA2, yA2]\n",
    "\n",
    "        void_number = 1\n",
    "        void_text = f'Void number {void_number}'        \n",
    "        X_center_A = df_predictions.loc[int(index_a)][0] - df_predictions.loc[int(index_a)][2]  #X_center - Width\n",
    "        Y_center_A = df_predictions.loc[int(index_a)][1]  - df_predictions.loc[int(index_a)][2]  #Y_center - Width\n",
    "\n",
    "        print(f'Evaluating {index_a}...')\n",
    "        if 0 < xA1 < w_image and 0 < xA2 < w_image and 0 < yA1 < h_image and  0 < yA2 < h_image:\n",
    "                trigger = True\n",
    "                for item in index_b:\n",
    "                    xB1 = df_predictions.loc[item][0] - df_predictions.loc[item][2]/2\n",
    "                    yB1 = df_predictions.loc[item][1] - df_predictions.loc[item][3]/2\n",
    "                    xB2 = df_predictions.loc[item][0] + df_predictions.loc[item][2]/2\n",
    "                    yB2 = df_predictions.loc[item][1] + df_predictions.loc[item][3]/2\n",
    "                    boxB = [xB1, yB1,xB2, yB2]\n",
    "\n",
    "                    xA = max(boxA[0], boxB[0])\n",
    "                    yA = max(boxA[1], boxB[1])\n",
    "                    xB = min(boxA[2], boxB[2])\n",
    "                    yB = min(boxA[3], boxB[3])\n",
    "\n",
    "                    interArea = (xB - xA) * (yB - yA)\n",
    "\n",
    "                    boxAArea = (boxA[2] - boxA[0]) * (boxA[3] - boxA[1])\n",
    "                    boxBArea = (boxB[2] - boxB[0]) * (boxB[3] - boxB[1])\n",
    "\n",
    "                    iou = interArea / float(boxAArea + boxBArea - interArea)\n",
    "                    trigger = trigger and (iou < 0.1)\n",
    "                #print(f'Trigger: {trigger}')\n",
    "                if trigger == False:\n",
    "                    pass\n",
    "                    #print(f'No hay espacio vacio a la izquierda de {index_a}')\n",
    "                else:\n",
    "                    print(f'A la izquierda de {index_a} hay espacio vacio')\n",
    "                    \n",
    "                    list_of_voids.append(boxA)\n",
    "\n",
    "    return list_of_voids"
   ]
  },
  {
   "cell_type": "code",
   "execution_count": null,
   "metadata": {},
   "outputs": [],
   "source": [
    "# izquierda (-1)\n",
    "xA1 = df_predictions.loc[int(index_a)][0] - df_predictions.loc[int(index_a)][2]/2 - k * w_index_a\n",
    "yA1 = df_predictions.loc[int(index_a)][1] - df_predictions.loc[int(index_a)][3]/2\n",
    "xA2 = df_predictions.loc[int(index_a)][0] + df_predictions.loc[int(index_a)][2]/2 - k * w_index_a\n",
    "yA2 = df_predictions.loc[int(index_a)][1] + df_predictions.loc[int(index_a)][3]/2"
   ]
  },
  {
   "cell_type": "code",
   "execution_count": null,
   "metadata": {},
   "outputs": [],
   "source": [
    "# derecha (+1)\n",
    "xA1 = df_predictions.loc[int(index_a)][0] - df_predictions.loc[int(index_a)][2]/2 + k * w_index_a\n",
    "yA1 = df_predictions.loc[int(index_a)][1] - df_predictions.loc[int(index_a)][3]/2\n",
    "xA2 = df_predictions.loc[int(index_a)][0] + df_predictions.loc[int(index_a)][2]/2 + k * w_index_a\n",
    "yA2 = df_predictions.loc[int(index_a)][1] + df_predictions.loc[int(index_a)][3]/2"
   ]
  },
  {
   "cell_type": "code",
   "execution_count": null,
   "metadata": {},
   "outputs": [],
   "source": [
    "# arriba \n",
    "xA1 = df_predictions.loc[int(index_a)][0] - df_predictions.loc[int(index_a)][2]/2 \n",
    "yA1 = df_predictions.loc[int(index_a)][1] - df_predictions.loc[int(index_a)][3]/2 - h_index_a\n",
    "xA2 = df_predictions.loc[int(index_a)][0] + df_predictions.loc[int(index_a)][2]/2 \n",
    "yA2 = df_predictions.loc[int(index_a)][1] + df_predictions.loc[int(index_a)][3]/2 - h_index_a"
   ]
  },
  {
   "cell_type": "code",
   "execution_count": null,
   "metadata": {},
   "outputs": [],
   "source": [
    "# arriba \n",
    "xA1 = df_predictions.loc[int(index_a)][0] - df_predictions.loc[int(index_a)][2]/2 + k * w_index_a # Para izquierda: (-1) / Para derecha: (1) / Para arriba: 0\n",
    "yA1 = df_predictions.loc[int(index_a)][1] - df_predictions.loc[int(index_a)][3]/2 + k * h_index_a # Para izquierda: 0 / Para derecha: 0 / Para arriba: -1\n",
    "xA2 = df_predictions.loc[int(index_a)][0] + df_predictions.loc[int(index_a)][2]/2 + k * w_index_a # Para izquierda: (-1) / Para derecha: (1) / Para arriba: 0\n",
    "yA2 = df_predictions.loc[int(index_a)][1] + df_predictions.loc[int(index_a)][3]/2 + K * h_index_a # Para izquierda: 0 / Para derecha: 0 / Para arriba: -1"
   ]
  },
  {
   "cell_type": "code",
   "execution_count": 11,
   "metadata": {},
   "outputs": [],
   "source": [
    "img_path = '/home/cremerf/FinalProject/eudes-fede/test_imgs/test_7.jpg'"
   ]
  },
  {
   "cell_type": "code",
   "execution_count": 14,
   "metadata": {},
   "outputs": [],
   "source": [
    "list_of_dicts = get_neightbours(img_path= img_path, df_predictions= df_predictions)"
   ]
  },
  {
   "cell_type": "code",
   "execution_count": 241,
   "metadata": {},
   "outputs": [],
   "source": [
    "X_center_0 = df_predictions.loc[572][0]\n",
    "Y_center_0 = df_predictions.loc[572][1]\n",
    "INPUT_WH_YOLO = 640"
   ]
  },
  {
   "cell_type": "code",
   "execution_count": 232,
   "metadata": {},
   "outputs": [
    {
     "data": {
      "text/plain": [
       "381.5714416503906"
      ]
     },
     "execution_count": 232,
     "metadata": {},
     "output_type": "execute_result"
    }
   ],
   "source": [
    "X_center_0 + 160"
   ]
  },
  {
   "cell_type": "code",
   "execution_count": 221,
   "metadata": {},
   "outputs": [],
   "source": [
    "filter_1 = (df_predictions.loc[:, 'X_center'] > (X_center_0 - INPUT_WH_YOLO/4))"
   ]
  },
  {
   "cell_type": "code",
   "execution_count": 222,
   "metadata": {},
   "outputs": [],
   "source": [
    "filter_2 = ((df_predictions.loc[:, 'X_center'] < (X_center_0 + INPUT_WH_YOLO/4)))"
   ]
  },
  {
   "cell_type": "code",
   "execution_count": 223,
   "metadata": {},
   "outputs": [],
   "source": [
    "df_predictions_pre = df_predictions[filter_1]"
   ]
  },
  {
   "cell_type": "code",
   "execution_count": 225,
   "metadata": {},
   "outputs": [],
   "source": [
    "df_predictions_last =  df_predictions[filter_2]"
   ]
  },
  {
   "cell_type": "code",
   "execution_count": 242,
   "metadata": {},
   "outputs": [],
   "source": [
    "df_predictions_final = df_predictions[(df_predictions.loc[:, 'X_center'] < (X_center_0 + INPUT_WH_YOLO/8)) & (df_predictions.loc[:, 'X_center'] > (X_center_0 - INPUT_WH_YOLO/8)) & (df_predictions.loc[:, 'Y_center'] > (Y_center_0 - INPUT_WH_YOLO/8)) & (df_predictions.loc[:, 'Y_center'] < (Y_center_0 + INPUT_WH_YOLO/8))]"
   ]
  },
  {
   "cell_type": "code",
   "execution_count": 245,
   "metadata": {},
   "outputs": [],
   "source": [
    "filter_1 = (df_predictions.loc[:, 'X_center'] < (X_center_0 + INPUT_WH_YOLO/8))\n",
    "filter_2 = (df_predictions.loc[:, 'X_center'] > (X_center_0 - INPUT_WH_YOLO/8))\n",
    "filter_3 = (df_predictions.loc[:, 'Y_center'] > (Y_center_0 - INPUT_WH_YOLO/8))\n",
    "filter_4 = (df_predictions.loc[:, 'Y_center'] < (Y_center_0 + INPUT_WH_YOLO/8))\n",
    "filter_final = (filter_1 & filter_2) & (filter_3 & filter_4)"
   ]
  },
  {
   "cell_type": "code",
   "execution_count": 248,
   "metadata": {},
   "outputs": [],
   "source": [
    "df_predictions_final_2 = df_predictions[filter_final]"
   ]
  },
  {
   "cell_type": "code",
   "execution_count": 11,
   "metadata": {},
   "outputs": [],
   "source": [
    "def get_neightbours(df_predictions:pd.DataFrame, neightbour:str, index_it:int) -> dict:\n",
    "\n",
    "    dict_of_neightbours = {} \n",
    "\n",
    "    X_center_0 = df_predictions.loc[index_it][0]\n",
    "    Y_center_0 = df_predictions.loc[index_it][1]\n",
    "    Width_0 = df_predictions.loc[index_it][2]\n",
    "    height_0 = df_predictions.loc[index_it][3]\n",
    "    threshold_x_0 = 0.8 * Width_0\n",
    "    threshold_y_0 = 0.8 * height_0\n",
    "\n",
    "    INPUT_WH_YOLO = 640\n",
    "    filter_1 = (df_predictions.loc[:, 'X_center'] < (X_center_0 + INPUT_WH_YOLO/8))\n",
    "    filter_2 = (df_predictions.loc[:, 'X_center'] > (X_center_0 - INPUT_WH_YOLO/8))\n",
    "    filter_3 = (df_predictions.loc[:, 'Y_center'] > (Y_center_0 - INPUT_WH_YOLO/8))\n",
    "    filter_4 = (df_predictions.loc[:, 'Y_center'] < (Y_center_0 + INPUT_WH_YOLO/8))\n",
    "    filter_final = (filter_1 & filter_2) & (filter_3 & filter_4)\n",
    "\n",
    "    df_predictions_final_2 = df_predictions[filter_final]\n",
    "\n",
    "    for index_bb in df_predictions_final_2.index:\n",
    "\n",
    "        list_of_neightbours_l = []\n",
    "        list_of_neightbours_r = []\n",
    "        list_of_neightbours_h = [] \n",
    "        list_of_alones_l = []\n",
    "        list_of_alones_r = []\n",
    "        list_of_alones_h=[]\n",
    "\n",
    "        X_center_neightbour = df_predictions.loc[index_bb][0]\n",
    "        Y_center_neightbour = df_predictions.loc[index_bb][1]\n",
    "        a = 4\n",
    "        k = 1.2\n",
    "\n",
    "        ### Neightbor Left\n",
    "        if neightbour == 'left':\n",
    "            \n",
    "            x_min_l = X_center_0 - Width_0 - (a*threshold_x_0)\n",
    "            x_max_l = X_center_0 - Width_0 + (k*threshold_x_0)\n",
    "\n",
    "            y_min_l = Y_center_0 - (k*threshold_y_0)\n",
    "            y_max_l = Y_center_0 + (k*threshold_y_0)\n",
    "\n",
    "            if (x_min_l < X_center_neightbour < x_max_l and y_min_l < Y_center_neightbour < y_max_l )  :\n",
    "                list_of_neightbours_l.append([index_bb])\n",
    "                try:\n",
    "                    dict_of_neightbours[str(index_it)+'_l'].append(index_bb)\n",
    "                except KeyError:\n",
    "                    dict_of_neightbours[str(index_it)+'_l']= []\n",
    "                    dict_of_neightbours[str(index_it)+'_l'].append(index_bb)\n",
    "            else:\n",
    "                list_of_alones_l.append([index_bb])\n",
    "\n",
    "        ### Neightbor Right\n",
    "        elif neightbour == 'right':\n",
    "\n",
    "            x_min_r = X_center_0 + Width_0 - (k*threshold_x_0)\n",
    "            x_max_r = X_center_0 + Width_0 + (a*threshold_x_0)\n",
    "\n",
    "            y_min_r = Y_center_0 - (k*threshold_y_0)\n",
    "            y_max_r = Y_center_0 + (k*threshold_y_0)\n",
    "\n",
    "            if (x_min_r < X_center_neightbour < x_max_r and y_min_r < Y_center_neightbour < y_max_r ):\n",
    "                list_of_neightbours_r.append([index_bb])\n",
    "                try:\n",
    "                    dict_of_neightbours[str(index_it)+'_r'].append(index_bb)\n",
    "                except KeyError:\n",
    "                    dict_of_neightbours[str(index_it)+'_r']= []\n",
    "                    dict_of_neightbours[str(index_it)+'_r'].append(index_bb)\n",
    "            else:\n",
    "                list_of_alones_r.append([index_it, index_bb])\n",
    "\n",
    "        ### Neightbor High\n",
    "        else:\n",
    "            x_min_h = X_center_0 - (k*threshold_x_0)\n",
    "            x_max_h = X_center_0 + (2*k*threshold_x_0)\n",
    "\n",
    "            y_min_h = Y_center_0 + height_0 - (0.8*threshold_y_0)\n",
    "            y_max_h = Y_center_0 + height_0 + (2*a*threshold_y_0)\n",
    "\n",
    "            if (x_min_h < X_center_neightbour < x_max_h and y_min_h < Y_center_neightbour < y_max_h ):\n",
    "                list_of_neightbours_h.append([index_bb])\n",
    "                try:\n",
    "                    dict_of_neightbours[str(index_it)+'_h'].append(index_bb)\n",
    "                except KeyError:\n",
    "                    dict_of_neightbours[str(index_it)+'_h']= []\n",
    "                    dict_of_neightbours[str(index_it)+'_h'].append(index_bb)\n",
    "            else:\n",
    "                list_of_alones_h.append([index_it, index_bb])\n",
    "\n",
    "    return dict_of_neightbours"
   ]
  },
  {
   "cell_type": "code",
   "execution_count": 12,
   "metadata": {},
   "outputs": [],
   "source": [
    "pool = multiprocessing.Pool()\n",
    "neightbour = 'left'\n",
    "func = partial(get_neightbours, df_predictions, neightbour)\n",
    "dict_of_neightbours_left = pool.map(func, list(df_predictions.index))\n",
    "pool.close()\n",
    "pool.join()\n",
    "\n",
    "dict_of_neightbours_left = list(filter(None, dict_of_neightbours_left))\n",
    "\n",
    "pool = multiprocessing.Pool()\n",
    "neightbour = 'right'\n",
    "func = partial(get_neightbours, df_predictions, neightbour)\n",
    "dict_of_neightbours_right = pool.map(func, list(df_predictions.index))\n",
    "pool.close()\n",
    "pool.join()\n",
    "\n",
    "dict_of_neightbours_right = list(filter(None, dict_of_neightbours_right))\n",
    "\n",
    "pool = multiprocessing.Pool()\n",
    "neightbour = 'up'\n",
    "func = partial(get_neightbours, df_predictions, neightbour)\n",
    "dict_of_neightbours_up = pool.map(func, list(df_predictions.index))\n",
    "pool.close()\n",
    "pool.join()\n",
    "\n",
    "dict_of_neightbours_up = list(filter(None, dict_of_neightbours_up))"
   ]
  },
  {
   "cell_type": "code",
   "execution_count": 16,
   "metadata": {},
   "outputs": [],
   "source": [
    "h_image, w_image = image.shape[0:2]"
   ]
  },
  {
   "cell_type": "code",
   "execution_count": null,
   "metadata": {},
   "outputs": [],
   "source": [
    "dict_of_neightbours_left\n",
    "dict_of_neightbours_right\n",
    "dict_of_neightbours_up"
   ]
  },
  {
   "cell_type": "code",
   "execution_count": 13,
   "metadata": {},
   "outputs": [],
   "source": [
    "list2d = [dict_of_neightbours_left, dict_of_neightbours_right, dict_of_neightbours_up]\n",
    "merged = list(itertools.chain.from_iterable(list2d))"
   ]
  },
  {
   "cell_type": "code",
   "execution_count": 32,
   "metadata": {},
   "outputs": [],
   "source": [
    "def search_voids_bb_neightbours(df_predictions: pd.DataFrame, list_of_dicts: list, h_image:int, w_image:int) -> list:\n",
    "    \"\"\"_summary_\n",
    "\n",
    "    Args:\n",
    "        df_predictions (pd.DataFrame): _description_\n",
    "        list_of_dicts (list): _description_\n",
    "        h_image (int): _description_\n",
    "        w_image (int): _description_\n",
    "        img_path (_type_): _description_\n",
    "\n",
    "    Returns:\n",
    "        list: _description_\n",
    "    \"\"\"\n",
    "    \n",
    "    list_of_voids = []\n",
    "\n",
    "    k = 0\n",
    "    z = 0\n",
    "    void_number = 0\n",
    "    # iterate over all dicts in list\n",
    "    for dicts in list_of_dicts:\n",
    "        \n",
    "        # iterate over key and value pairs of dict (index_a = key // index_b = value pair)\n",
    "        for index_a, index_b in dicts.items():\n",
    "            \n",
    "            if index_a[-1] == 'l':\n",
    "                k = -1\n",
    "            elif index_a[-1] == 'r':\n",
    "                k = 1\n",
    "\n",
    "            index_a = index_a[0:-2]\n",
    "\n",
    "            #h_image, w_image = image.shape[0:2] # limits of the image\n",
    "            w_index_a = df_predictions.loc[int(index_a)][2]\n",
    "            h_index_a = df_predictions.loc[int(index_a)][3]\n",
    "            \n",
    "            # Virtual bounding box to evaluate from neightbours \n",
    "            xA1 = df_predictions.loc[int(index_a)][0] - df_predictions.loc[int(index_a)][2]/2 + (k * w_index_a) # Para izquierda: (-1) / Para derecha: 1 / Para arriba: 0\n",
    "            yA1 = df_predictions.loc[int(index_a)][1] - df_predictions.loc[int(index_a)][3]/2 \n",
    "            xA2 = df_predictions.loc[int(index_a)][0] + df_predictions.loc[int(index_a)][2]/2 + (k * w_index_a) # Para izquierda: (-1) / Para derecha: 1 / Para arriba: 0\n",
    "            yA2 = df_predictions.loc[int(index_a)][1] + df_predictions.loc[int(index_a)][3]/2 \n",
    "            boxA = [xA1, yA1, xA2, yA2]\n",
    "\n",
    "            X_center_A = df_predictions.loc[int(index_a)][0] - k * df_predictions.loc[int(index_a)][2]  # Left X_center - Width  // Right X_center + Width\n",
    "            Y_center_A = df_predictions.loc[int(index_a)][1]  - k * df_predictions.loc[int(index_a)][3]  # Left Y_center - Width // Right Y_center + Width\n",
    "\n",
    "            # Limits of the image\n",
    "            if 0 < xA1 < w_image and 0 < xA2 < w_image and 0 < yA1 < h_image and  0 < yA2 < h_image:\n",
    "                    trigger = True\n",
    "                    \n",
    "\n",
    "                    # Iterate over each neightbour: neightbour vs virtual bounding box\n",
    "                    for item in index_b:\n",
    "                        \n",
    "                        first_list = []\n",
    "                        xB1 = df_predictions.loc[item][0] - df_predictions.loc[item][2]/2\n",
    "                        yB1 = df_predictions.loc[item][1] - df_predictions.loc[item][3]/2\n",
    "                        xB2 = df_predictions.loc[item][0] + df_predictions.loc[item][2]/2\n",
    "                        yB2 = df_predictions.loc[item][1] + df_predictions.loc[item][3]/2\n",
    "                        boxB = [xB1, yB1,xB2, yB2]\n",
    "\n",
    "                        xA = max(boxA[0], boxB[0])\n",
    "                        yA = max(boxA[1], boxB[1])\n",
    "                        xB = min(boxA[2], boxB[2])\n",
    "                        yB = min(boxA[3], boxB[3])\n",
    "\n",
    "                        interArea = (xB - xA) * (yB - yA)\n",
    "\n",
    "                        boxAArea = (boxA[2] - boxA[0]) * (boxA[3] - boxA[1])\n",
    "                        boxBArea = (boxB[2] - boxB[0]) * (boxB[3] - boxB[1])\n",
    "\n",
    "                        iou = interArea / float(boxAArea + boxBArea - interArea)\n",
    "                        trigger = trigger and (iou < 0.1)\n",
    "\n",
    "                    if trigger == False:\n",
    "                        pass\n",
    "                    else:\n",
    "                        print(f'A la izquierda de {index_a} hay espacio vacio')\n",
    "                        void_number += 1\n",
    "                        void_text = f'{index_a} void #{void_number}'\n",
    "                        first_list.append(index_a)\n",
    "                        first_list.append(void_text)\n",
    "                        first_list.append(xA1)\n",
    "                        first_list.append(yA1)\n",
    "                        first_list.append(xA2)\n",
    "                        first_list.append(yA2)\n",
    "                        first_list.append(w_index_a)\n",
    "                        first_list.append(h_index_a)\n",
    "                        list_of_voids.append(first_list)\n",
    "\n",
    "    return list_of_voids"
   ]
  },
  {
   "cell_type": "code",
   "execution_count": 33,
   "metadata": {},
   "outputs": [
    {
     "name": "stdout",
     "output_type": "stream",
     "text": [
      "A la izquierda de 393 hay espacio vacio\n",
      "A la izquierda de 391 hay espacio vacio\n",
      "A la izquierda de 420 hay espacio vacio\n",
      "A la izquierda de 768 hay espacio vacio\n",
      "A la izquierda de 89 hay espacio vacio\n",
      "A la izquierda de 561 hay espacio vacio\n",
      "A la izquierda de 562 hay espacio vacio\n",
      "A la izquierda de 943 hay espacio vacio\n",
      "A la izquierda de 965 hay espacio vacio\n",
      "A la izquierda de 600 hay espacio vacio\n"
     ]
    }
   ],
   "source": [
    "list_of_voids = search_voids_bb_neightbours(df_predictions=df_predictions, list_of_dicts=merged, h_image=h_image, w_image=w_image)"
   ]
  },
  {
   "cell_type": "code",
   "execution_count": 36,
   "metadata": {},
   "outputs": [],
   "source": [
    "df_voids = pd.DataFrame(list_of_voids, columns=['Neightbour','Label','x1','y1','x2','y2', 'Width','Height'])"
   ]
  },
  {
   "cell_type": "code",
   "execution_count": 37,
   "metadata": {},
   "outputs": [
    {
     "data": {
      "text/html": [
       "<div>\n",
       "<style scoped>\n",
       "    .dataframe tbody tr th:only-of-type {\n",
       "        vertical-align: middle;\n",
       "    }\n",
       "\n",
       "    .dataframe tbody tr th {\n",
       "        vertical-align: top;\n",
       "    }\n",
       "\n",
       "    .dataframe thead th {\n",
       "        text-align: right;\n",
       "    }\n",
       "</style>\n",
       "<table border=\"1\" class=\"dataframe\">\n",
       "  <thead>\n",
       "    <tr style=\"text-align: right;\">\n",
       "      <th></th>\n",
       "      <th>Neightbour</th>\n",
       "      <th>Label</th>\n",
       "      <th>x1</th>\n",
       "      <th>y1</th>\n",
       "      <th>x2</th>\n",
       "      <th>y2</th>\n",
       "      <th>Width</th>\n",
       "      <th>Height</th>\n",
       "    </tr>\n",
       "  </thead>\n",
       "  <tbody>\n",
       "    <tr>\n",
       "      <th>0</th>\n",
       "      <td>393</td>\n",
       "      <td>393 void #1</td>\n",
       "      <td>1575.464939</td>\n",
       "      <td>2290.024667</td>\n",
       "      <td>1770.959368</td>\n",
       "      <td>2357.109402</td>\n",
       "      <td>195.494429</td>\n",
       "      <td>67.084735</td>\n",
       "    </tr>\n",
       "    <tr>\n",
       "      <th>1</th>\n",
       "      <td>391</td>\n",
       "      <td>391 void #2</td>\n",
       "      <td>1449.175397</td>\n",
       "      <td>2291.150212</td>\n",
       "      <td>1622.804498</td>\n",
       "      <td>2356.895906</td>\n",
       "      <td>173.629102</td>\n",
       "      <td>65.745694</td>\n",
       "    </tr>\n",
       "    <tr>\n",
       "      <th>2</th>\n",
       "      <td>420</td>\n",
       "      <td>420 void #3</td>\n",
       "      <td>1259.791166</td>\n",
       "      <td>2424.219517</td>\n",
       "      <td>1455.223125</td>\n",
       "      <td>2511.737850</td>\n",
       "      <td>195.431960</td>\n",
       "      <td>87.518334</td>\n",
       "    </tr>\n",
       "    <tr>\n",
       "      <th>3</th>\n",
       "      <td>768</td>\n",
       "      <td>768 void #4</td>\n",
       "      <td>1090.320600</td>\n",
       "      <td>2728.377701</td>\n",
       "      <td>1292.464675</td>\n",
       "      <td>2806.587802</td>\n",
       "      <td>202.144075</td>\n",
       "      <td>78.210100</td>\n",
       "    </tr>\n",
       "    <tr>\n",
       "      <th>4</th>\n",
       "      <td>89</td>\n",
       "      <td>89 void #5</td>\n",
       "      <td>1766.191532</td>\n",
       "      <td>2258.931440</td>\n",
       "      <td>1916.023254</td>\n",
       "      <td>2394.208763</td>\n",
       "      <td>149.831721</td>\n",
       "      <td>135.277323</td>\n",
       "    </tr>\n",
       "    <tr>\n",
       "      <th>5</th>\n",
       "      <td>561</td>\n",
       "      <td>561 void #6</td>\n",
       "      <td>587.345615</td>\n",
       "      <td>1382.521900</td>\n",
       "      <td>696.249605</td>\n",
       "      <td>1750.651769</td>\n",
       "      <td>108.903990</td>\n",
       "      <td>368.129869</td>\n",
       "    </tr>\n",
       "    <tr>\n",
       "      <th>6</th>\n",
       "      <td>562</td>\n",
       "      <td>562 void #7</td>\n",
       "      <td>665.838094</td>\n",
       "      <td>1388.161055</td>\n",
       "      <td>766.640690</td>\n",
       "      <td>1749.020958</td>\n",
       "      <td>100.802596</td>\n",
       "      <td>360.859902</td>\n",
       "    </tr>\n",
       "    <tr>\n",
       "      <th>7</th>\n",
       "      <td>943</td>\n",
       "      <td>943 void #8</td>\n",
       "      <td>1926.983928</td>\n",
       "      <td>2240.429894</td>\n",
       "      <td>2059.756581</td>\n",
       "      <td>2385.724574</td>\n",
       "      <td>132.772653</td>\n",
       "      <td>145.294680</td>\n",
       "    </tr>\n",
       "    <tr>\n",
       "      <th>8</th>\n",
       "      <td>965</td>\n",
       "      <td>965 void #9</td>\n",
       "      <td>2049.975786</td>\n",
       "      <td>2381.535893</td>\n",
       "      <td>2157.981736</td>\n",
       "      <td>2523.983962</td>\n",
       "      <td>108.005949</td>\n",
       "      <td>142.448070</td>\n",
       "    </tr>\n",
       "    <tr>\n",
       "      <th>9</th>\n",
       "      <td>600</td>\n",
       "      <td>600 void #10</td>\n",
       "      <td>910.415169</td>\n",
       "      <td>1465.027548</td>\n",
       "      <td>1017.968460</td>\n",
       "      <td>1765.828678</td>\n",
       "      <td>107.553291</td>\n",
       "      <td>300.801130</td>\n",
       "    </tr>\n",
       "  </tbody>\n",
       "</table>\n",
       "</div>"
      ],
      "text/plain": [
       "  Neightbour         Label           x1           y1           x2  \\\n",
       "0        393   393 void #1  1575.464939  2290.024667  1770.959368   \n",
       "1        391   391 void #2  1449.175397  2291.150212  1622.804498   \n",
       "2        420   420 void #3  1259.791166  2424.219517  1455.223125   \n",
       "3        768   768 void #4  1090.320600  2728.377701  1292.464675   \n",
       "4         89    89 void #5  1766.191532  2258.931440  1916.023254   \n",
       "5        561   561 void #6   587.345615  1382.521900   696.249605   \n",
       "6        562   562 void #7   665.838094  1388.161055   766.640690   \n",
       "7        943   943 void #8  1926.983928  2240.429894  2059.756581   \n",
       "8        965   965 void #9  2049.975786  2381.535893  2157.981736   \n",
       "9        600  600 void #10   910.415169  1465.027548  1017.968460   \n",
       "\n",
       "            y2       Width      Height  \n",
       "0  2357.109402  195.494429   67.084735  \n",
       "1  2356.895906  173.629102   65.745694  \n",
       "2  2511.737850  195.431960   87.518334  \n",
       "3  2806.587802  202.144075   78.210100  \n",
       "4  2394.208763  149.831721  135.277323  \n",
       "5  1750.651769  108.903990  368.129869  \n",
       "6  1749.020958  100.802596  360.859902  \n",
       "7  2385.724574  132.772653  145.294680  \n",
       "8  2523.983962  108.005949  142.448070  \n",
       "9  1765.828678  107.553291  300.801130  "
      ]
     },
     "execution_count": 37,
     "metadata": {},
     "output_type": "execute_result"
    }
   ],
   "source": [
    "df_voids"
   ]
  },
  {
   "cell_type": "code",
   "execution_count": 38,
   "metadata": {},
   "outputs": [
    {
     "data": {
      "text/plain": [
       "True"
      ]
     },
     "execution_count": 38,
     "metadata": {},
     "output_type": "execute_result"
    }
   ],
   "source": [
    "#image_path_bb = os.path.join(folder_path_final, filename)\n",
    "\n",
    "img_path = '/home/cremerf/FinalProject/scripts/test_neightbours2.jpg'\n",
    "# load the image\n",
    "image = cv2.imread(img_path)\n",
    "\n",
    "# loop over indexes and for each index plot the rectangles\n",
    "#for idx in df_voids.index:\n",
    "\n",
    "# get the coordinates for each index/rectangle\n",
    "for i in df_voids.index:\n",
    "    x1 = int(df_voids.loc[i][2]) \n",
    "    y1 = int(df_voids.loc[i][3]) \n",
    "    x2 = int(df_voids.loc[i][4])  \n",
    "    y2 = int(df_voids.loc[i][5])\n",
    "\n",
    "\n",
    "    # # Window name in which image is displayed\n",
    "    window_name = 'Object'\n",
    "    # represents the top left corner of rectangle\n",
    "    start_point=(x1, y1)\n",
    "\n",
    "    # represents the top right corner of rectangle\n",
    "    end_point=(x2,y2)\n",
    "\n",
    "    # # Blue color in BGR\n",
    "    color = (0, 0, 255)\n",
    "\n",
    "    # # Line thickness of 2 px\n",
    "    thickness = 5\n",
    "\n",
    "    # plot the rectangle over the image\n",
    "    image = cv2.rectangle(image, start_point, end_point, color, thickness)\n",
    "\n",
    "# save the img\n",
    "cv2.imwrite(filename='test_voids9.jpg', img=image)"
   ]
  }
 ],
 "metadata": {
  "kernelspec": {
   "display_name": "Python 3.6.9 64-bit",
   "language": "python",
   "name": "python3"
  },
  "language_info": {
   "codemirror_mode": {
    "name": "ipython",
    "version": 3
   },
   "file_extension": ".py",
   "mimetype": "text/x-python",
   "name": "python",
   "nbconvert_exporter": "python",
   "pygments_lexer": "ipython3",
   "version": "3.6.9"
  },
  "orig_nbformat": 4,
  "vscode": {
   "interpreter": {
    "hash": "31f2aee4e71d21fbe5cf8b01ff0e069b9275f58929596ceb00d14d90e3e16cd6"
   }
  }
 },
 "nbformat": 4,
 "nbformat_minor": 2
}
