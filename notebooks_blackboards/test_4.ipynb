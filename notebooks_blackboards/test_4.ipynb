{
 "cells": [
  {
   "cell_type": "code",
   "execution_count": 2,
   "metadata": {},
   "outputs": [],
   "source": [
    "import sys\n",
    "sys.path.append('../')"
   ]
  },
  {
   "cell_type": "code",
   "execution_count": 32,
   "metadata": {},
   "outputs": [
    {
     "name": "stdout",
     "output_type": "stream",
     "text": [
      "The autoreload extension is already loaded. To reload it, use:\n",
      "  %reload_ext autoreload\n"
     ]
    }
   ],
   "source": [
    "%load_ext autoreload\n",
    "%autoreload 2"
   ]
  },
  {
   "cell_type": "code",
   "execution_count": 66,
   "metadata": {},
   "outputs": [],
   "source": [
    "%reload_ext autoreload"
   ]
  },
  {
   "cell_type": "code",
   "execution_count": 3,
   "metadata": {},
   "outputs": [
    {
     "ename": "ModuleNotFoundError",
     "evalue": "No module named 'scripts'",
     "output_type": "error",
     "traceback": [
      "\u001b[0;31m---------------------------------------------------------------------------\u001b[0m",
      "\u001b[0;31mModuleNotFoundError\u001b[0m                       Traceback (most recent call last)",
      "\u001b[0;32m<ipython-input-3-dfddd91c950b>\u001b[0m in \u001b[0;36m<module>\u001b[0;34m\u001b[0m\n\u001b[0;32m----> 1\u001b[0;31m \u001b[0;32mfrom\u001b[0m \u001b[0mmodel\u001b[0m\u001b[0;34m.\u001b[0m\u001b[0mscripts\u001b[0m\u001b[0;34m.\u001b[0m\u001b[0mpackages\u001b[0m\u001b[0;34m.\u001b[0m\u001b[0mdetect_voids\u001b[0m \u001b[0;32mimport\u001b[0m \u001b[0mget_neightbours\u001b[0m\u001b[0;34m,\u001b[0m \u001b[0msearch_voids_bb_neightbours\u001b[0m\u001b[0;34m\u001b[0m\u001b[0;34m\u001b[0m\u001b[0m\n\u001b[0m\u001b[1;32m      2\u001b[0m \u001b[0;32mfrom\u001b[0m \u001b[0mmodel\u001b[0m\u001b[0;34m.\u001b[0m\u001b[0mscripts\u001b[0m\u001b[0;34m.\u001b[0m\u001b[0mpackages\u001b[0m\u001b[0;34m.\u001b[0m\u001b[0myolo_predict\u001b[0m \u001b[0;32mimport\u001b[0m \u001b[0mYOLO_Pred\u001b[0m\u001b[0;34m\u001b[0m\u001b[0;34m\u001b[0m\u001b[0m\n\u001b[1;32m      3\u001b[0m \u001b[0;32mfrom\u001b[0m \u001b[0mconcurrent\u001b[0m\u001b[0;34m.\u001b[0m\u001b[0mfutures\u001b[0m \u001b[0;32mimport\u001b[0m \u001b[0mThreadPoolExecutor\u001b[0m\u001b[0;34m\u001b[0m\u001b[0;34m\u001b[0m\u001b[0m\n\u001b[1;32m      4\u001b[0m \u001b[0;32mimport\u001b[0m \u001b[0mpandas\u001b[0m \u001b[0;32mas\u001b[0m \u001b[0mpd\u001b[0m\u001b[0;34m\u001b[0m\u001b[0;34m\u001b[0m\u001b[0m\n\u001b[1;32m      5\u001b[0m \u001b[0;32mimport\u001b[0m \u001b[0mcv2\u001b[0m\u001b[0;34m\u001b[0m\u001b[0;34m\u001b[0m\u001b[0m\n",
      "\u001b[0;32m~/FinalProject/model/scripts/packages/detect_voids.py\u001b[0m in \u001b[0;36m<module>\u001b[0;34m\u001b[0m\n\u001b[0;32m----> 1\u001b[0;31m \u001b[0;32mfrom\u001b[0m \u001b[0mscripts\u001b[0m\u001b[0;34m.\u001b[0m\u001b[0mpackages\u001b[0m\u001b[0;34m.\u001b[0m\u001b[0myolo_predict\u001b[0m \u001b[0;32mimport\u001b[0m \u001b[0mYOLO_Pred\u001b[0m\u001b[0;34m\u001b[0m\u001b[0;34m\u001b[0m\u001b[0m\n\u001b[0m\u001b[1;32m      2\u001b[0m \u001b[0;32mfrom\u001b[0m \u001b[0mscripts\u001b[0m\u001b[0;34m.\u001b[0m\u001b[0mpackages\u001b[0m\u001b[0;34m.\u001b[0m\u001b[0mpaths\u001b[0m \u001b[0;32mimport\u001b[0m \u001b[0mODISPaths\u001b[0m\u001b[0;34m\u001b[0m\u001b[0;34m\u001b[0m\u001b[0m\n\u001b[1;32m      3\u001b[0m \u001b[0;32mfrom\u001b[0m \u001b[0mconcurrent\u001b[0m\u001b[0;34m.\u001b[0m\u001b[0mfutures\u001b[0m \u001b[0;32mimport\u001b[0m \u001b[0mThreadPoolExecutor\u001b[0m\u001b[0;34m\u001b[0m\u001b[0;34m\u001b[0m\u001b[0m\n\u001b[1;32m      4\u001b[0m \u001b[0;32mimport\u001b[0m \u001b[0mpandas\u001b[0m \u001b[0;32mas\u001b[0m \u001b[0mpd\u001b[0m\u001b[0;34m\u001b[0m\u001b[0;34m\u001b[0m\u001b[0m\n\u001b[1;32m      5\u001b[0m \u001b[0;32mimport\u001b[0m \u001b[0mnumpy\u001b[0m \u001b[0;32mas\u001b[0m \u001b[0mnp\u001b[0m\u001b[0;34m\u001b[0m\u001b[0;34m\u001b[0m\u001b[0m\n",
      "\u001b[0;31mModuleNotFoundError\u001b[0m: No module named 'scripts'"
     ]
    }
   ],
   "source": [
    "from model.scripts.packages.detect_voids import get_neightbours, search_voids_bb_neightbours\n",
    "from model.scripts.packages.yolo_predict import YOLO_Pred\n",
    "from concurrent.futures import ThreadPoolExecutor\n",
    "import pandas as pd\n",
    "import cv2\n",
    "import multiprocessing\n",
    "from functools import partial\n",
    "import itertools\n",
    "import os"
   ]
  },
  {
   "cell_type": "code",
   "execution_count": 69,
   "metadata": {},
   "outputs": [],
   "source": [
    "yolo = YOLO_Pred('/home/cremerf/FinalProject/data/first_training/weights/bestnoft.onnx', '/home/cremerf/FinalProject/data/config_blmodel.yaml')"
   ]
  },
  {
   "cell_type": "code",
   "execution_count": 70,
   "metadata": {},
   "outputs": [],
   "source": [
    "img_path = '/home/cremerf/FinalProject/data/images/test/test_7.jpg'"
   ]
  },
  {
   "cell_type": "code",
   "execution_count": 71,
   "metadata": {},
   "outputs": [],
   "source": [
    "image = cv2.imread(img_path)\n",
    "h_image, w_image = image.shape[0:2] # limits of the image\n",
    "df_predictions = yolo.predictions(image=image)\n",
    "\n",
    "# Get neightbours from 3 ways (right / left / up)\n",
    "pool = multiprocessing.Pool()\n",
    "neightbour = 'left'\n",
    "func = partial(get_neightbours, df_predictions, neightbour)\n",
    "dict_of_neightbours_left = pool.map(func, list(df_predictions.index))\n",
    "pool.close()\n",
    "pool.join()\n",
    "\n",
    "# clean up empty positions\n",
    "dict_of_neightbours_left = list(filter(None, dict_of_neightbours_left))\n",
    "\n",
    "pool = multiprocessing.Pool()\n",
    "neightbour = 'right'\n",
    "func = partial(get_neightbours, df_predictions, neightbour)\n",
    "dict_of_neightbours_right = pool.map(func, list(df_predictions.index))\n",
    "pool.close()\n",
    "pool.join()\n",
    "\n",
    "dict_of_neightbours_right = list(filter(None, dict_of_neightbours_right))\n",
    "\n",
    "'''\n",
    "pool = multiprocessing.Pool()\n",
    "neightbour = 'up'\n",
    "func = partial(get_neightbours, df_predictions, neightbour)\n",
    "dict_of_neightbours_up = pool.map(func, list(df_predictions.index))\n",
    "pool.close()\n",
    "pool.join()\n",
    "\n",
    "dict_of_neightbours_up = list(filter(None, dict_of_neightbours_up))\n",
    "'''\n",
    "\n",
    "# Merged 3 separated list of dicts(left/right/high) into 1 list\n",
    "dicts_neightbours = [dict_of_neightbours_left, dict_of_neightbours_right]\n",
    "list_neightbours = list(itertools.chain.from_iterable(dicts_neightbours))\n",
    "\n",
    "# Get void neightbours \n",
    "list_of_voids = search_voids_bb_neightbours(df_predictions=df_predictions, list_of_dicts=list_neightbours, h_image=h_image, w_image=w_image, img_path= img_path)\n",
    "\n",
    "# Create dataframe with data(X_center/Y_center/Label) of voids\n",
    "df_voids = pd.DataFrame(list_of_voids, columns=['Neightbour','Label','x1','y1','x2','y2', 'Width','Height'])"
   ]
  },
  {
   "cell_type": "code",
   "execution_count": 72,
   "metadata": {},
   "outputs": [
    {
     "data": {
      "text/html": [
       "<div>\n",
       "<style scoped>\n",
       "    .dataframe tbody tr th:only-of-type {\n",
       "        vertical-align: middle;\n",
       "    }\n",
       "\n",
       "    .dataframe tbody tr th {\n",
       "        vertical-align: top;\n",
       "    }\n",
       "\n",
       "    .dataframe thead th {\n",
       "        text-align: right;\n",
       "    }\n",
       "</style>\n",
       "<table border=\"1\" class=\"dataframe\">\n",
       "  <thead>\n",
       "    <tr style=\"text-align: right;\">\n",
       "      <th></th>\n",
       "      <th>X_center</th>\n",
       "      <th>Y_center</th>\n",
       "      <th>Width</th>\n",
       "      <th>Height</th>\n",
       "    </tr>\n",
       "  </thead>\n",
       "  <tbody>\n",
       "    <tr>\n",
       "      <th>572</th>\n",
       "      <td>1130.014352</td>\n",
       "      <td>1566.114157</td>\n",
       "      <td>119.923841</td>\n",
       "      <td>347.048751</td>\n",
       "    </tr>\n",
       "    <tr>\n",
       "      <th>1059</th>\n",
       "      <td>1073.070552</td>\n",
       "      <td>1188.697504</td>\n",
       "      <td>125.808713</td>\n",
       "      <td>359.978320</td>\n",
       "    </tr>\n",
       "    <tr>\n",
       "      <th>581</th>\n",
       "      <td>1603.940973</td>\n",
       "      <td>1564.580640</td>\n",
       "      <td>83.080911</td>\n",
       "      <td>310.984321</td>\n",
       "    </tr>\n",
       "    <tr>\n",
       "      <th>585</th>\n",
       "      <td>1751.918793</td>\n",
       "      <td>1564.916821</td>\n",
       "      <td>83.728849</td>\n",
       "      <td>308.152010</td>\n",
       "    </tr>\n",
       "    <tr>\n",
       "      <th>1203</th>\n",
       "      <td>759.620471</td>\n",
       "      <td>2645.523212</td>\n",
       "      <td>138.472683</td>\n",
       "      <td>139.737216</td>\n",
       "    </tr>\n",
       "    <tr>\n",
       "      <th>...</th>\n",
       "      <td>...</td>\n",
       "      <td>...</td>\n",
       "      <td>...</td>\n",
       "      <td>...</td>\n",
       "    </tr>\n",
       "    <tr>\n",
       "      <th>1145</th>\n",
       "      <td>607.823254</td>\n",
       "      <td>2371.570038</td>\n",
       "      <td>127.150735</td>\n",
       "      <td>75.156188</td>\n",
       "    </tr>\n",
       "    <tr>\n",
       "      <th>712</th>\n",
       "      <td>2275.615549</td>\n",
       "      <td>2464.040222</td>\n",
       "      <td>214.330290</td>\n",
       "      <td>79.787421</td>\n",
       "    </tr>\n",
       "    <tr>\n",
       "      <th>310</th>\n",
       "      <td>2179.846271</td>\n",
       "      <td>1621.568875</td>\n",
       "      <td>53.256595</td>\n",
       "      <td>146.695816</td>\n",
       "    </tr>\n",
       "    <tr>\n",
       "      <th>600</th>\n",
       "      <td>856.638524</td>\n",
       "      <td>1615.428113</td>\n",
       "      <td>107.553291</td>\n",
       "      <td>300.801130</td>\n",
       "    </tr>\n",
       "    <tr>\n",
       "      <th>43</th>\n",
       "      <td>2351.414236</td>\n",
       "      <td>2002.874496</td>\n",
       "      <td>67.345986</td>\n",
       "      <td>99.002011</td>\n",
       "    </tr>\n",
       "  </tbody>\n",
       "</table>\n",
       "<p>161 rows × 4 columns</p>\n",
       "</div>"
      ],
      "text/plain": [
       "         X_center     Y_center       Width      Height\n",
       "572   1130.014352  1566.114157  119.923841  347.048751\n",
       "1059  1073.070552  1188.697504  125.808713  359.978320\n",
       "581   1603.940973  1564.580640   83.080911  310.984321\n",
       "585   1751.918793  1564.916821   83.728849  308.152010\n",
       "1203   759.620471  2645.523212  138.472683  139.737216\n",
       "...           ...          ...         ...         ...\n",
       "1145   607.823254  2371.570038  127.150735   75.156188\n",
       "712   2275.615549  2464.040222  214.330290   79.787421\n",
       "310   2179.846271  1621.568875   53.256595  146.695816\n",
       "600    856.638524  1615.428113  107.553291  300.801130\n",
       "43    2351.414236  2002.874496   67.345986   99.002011\n",
       "\n",
       "[161 rows x 4 columns]"
      ]
     },
     "execution_count": 72,
     "metadata": {},
     "output_type": "execute_result"
    }
   ],
   "source": [
    "df_predictions"
   ]
  },
  {
   "cell_type": "code",
   "execution_count": 73,
   "metadata": {},
   "outputs": [
    {
     "data": {
      "text/html": [
       "<div>\n",
       "<style scoped>\n",
       "    .dataframe tbody tr th:only-of-type {\n",
       "        vertical-align: middle;\n",
       "    }\n",
       "\n",
       "    .dataframe tbody tr th {\n",
       "        vertical-align: top;\n",
       "    }\n",
       "\n",
       "    .dataframe thead th {\n",
       "        text-align: right;\n",
       "    }\n",
       "</style>\n",
       "<table border=\"1\" class=\"dataframe\">\n",
       "  <thead>\n",
       "    <tr style=\"text-align: right;\">\n",
       "      <th></th>\n",
       "      <th>Neightbour</th>\n",
       "      <th>Label</th>\n",
       "      <th>x1</th>\n",
       "      <th>y1</th>\n",
       "      <th>x2</th>\n",
       "      <th>y2</th>\n",
       "      <th>Width</th>\n",
       "      <th>Height</th>\n",
       "    </tr>\n",
       "  </thead>\n",
       "  <tbody>\n",
       "    <tr>\n",
       "      <th>0</th>\n",
       "      <td>92</td>\n",
       "      <td>Void_1</td>\n",
       "      <td>1960.436034</td>\n",
       "      <td>2224.043330</td>\n",
       "      <td>2068.031620</td>\n",
       "      <td>2368.230877</td>\n",
       "      <td>107.595586</td>\n",
       "      <td>144.187547</td>\n",
       "    </tr>\n",
       "    <tr>\n",
       "      <th>1</th>\n",
       "      <td>1145</td>\n",
       "      <td>Void_2</td>\n",
       "      <td>417.097152</td>\n",
       "      <td>2333.991944</td>\n",
       "      <td>544.247887</td>\n",
       "      <td>2409.148132</td>\n",
       "      <td>127.150735</td>\n",
       "      <td>75.156188</td>\n",
       "    </tr>\n",
       "    <tr>\n",
       "      <th>2</th>\n",
       "      <td>943</td>\n",
       "      <td>Void_3</td>\n",
       "      <td>1926.983928</td>\n",
       "      <td>2240.429894</td>\n",
       "      <td>2059.756581</td>\n",
       "      <td>2385.724574</td>\n",
       "      <td>132.772653</td>\n",
       "      <td>145.294680</td>\n",
       "    </tr>\n",
       "  </tbody>\n",
       "</table>\n",
       "</div>"
      ],
      "text/plain": [
       "  Neightbour   Label           x1           y1           x2           y2  \\\n",
       "0         92  Void_1  1960.436034  2224.043330  2068.031620  2368.230877   \n",
       "1       1145  Void_2   417.097152  2333.991944   544.247887  2409.148132   \n",
       "2        943  Void_3  1926.983928  2240.429894  2059.756581  2385.724574   \n",
       "\n",
       "        Width      Height  \n",
       "0  107.595586  144.187547  \n",
       "1  127.150735   75.156188  \n",
       "2  132.772653  145.294680  "
      ]
     },
     "execution_count": 73,
     "metadata": {},
     "output_type": "execute_result"
    }
   ],
   "source": [
    "df_voids"
   ]
  },
  {
   "cell_type": "code",
   "execution_count": 48,
   "metadata": {},
   "outputs": [
    {
     "data": {
      "text/html": [
       "<div>\n",
       "<style scoped>\n",
       "    .dataframe tbody tr th:only-of-type {\n",
       "        vertical-align: middle;\n",
       "    }\n",
       "\n",
       "    .dataframe tbody tr th {\n",
       "        vertical-align: top;\n",
       "    }\n",
       "\n",
       "    .dataframe thead th {\n",
       "        text-align: right;\n",
       "    }\n",
       "</style>\n",
       "<table border=\"1\" class=\"dataframe\">\n",
       "  <thead>\n",
       "    <tr style=\"text-align: right;\">\n",
       "      <th></th>\n",
       "      <th>Neightbour</th>\n",
       "      <th>Label</th>\n",
       "      <th>x1</th>\n",
       "      <th>y1</th>\n",
       "      <th>x2</th>\n",
       "      <th>y2</th>\n",
       "      <th>Width</th>\n",
       "      <th>Height</th>\n",
       "    </tr>\n",
       "  </thead>\n",
       "  <tbody>\n",
       "    <tr>\n",
       "      <th>0</th>\n",
       "      <td>203</td>\n",
       "      <td>203 void #1</td>\n",
       "      <td>239.126488</td>\n",
       "      <td>1587.569778</td>\n",
       "      <td>346.302681</td>\n",
       "      <td>1724.415817</td>\n",
       "      <td>107.176193</td>\n",
       "      <td>136.846039</td>\n",
       "    </tr>\n",
       "    <tr>\n",
       "      <th>1</th>\n",
       "      <td>170</td>\n",
       "      <td>170 void #1</td>\n",
       "      <td>522.468880</td>\n",
       "      <td>1284.883480</td>\n",
       "      <td>606.483604</td>\n",
       "      <td>1410.608707</td>\n",
       "      <td>84.014725</td>\n",
       "      <td>125.725227</td>\n",
       "    </tr>\n",
       "  </tbody>\n",
       "</table>\n",
       "</div>"
      ],
      "text/plain": [
       "  Neightbour        Label          x1           y1          x2           y2  \\\n",
       "0        203  203 void #1  239.126488  1587.569778  346.302681  1724.415817   \n",
       "1        170  170 void #1  522.468880  1284.883480  606.483604  1410.608707   \n",
       "\n",
       "        Width      Height  \n",
       "0  107.176193  136.846039  \n",
       "1   84.014725  125.725227  "
      ]
     },
     "execution_count": 48,
     "metadata": {},
     "output_type": "execute_result"
    }
   ],
   "source": [
    "df_voids"
   ]
  },
  {
   "cell_type": "code",
   "execution_count": 49,
   "metadata": {},
   "outputs": [
    {
     "name": "stdout",
     "output_type": "stream",
     "text": [
      "203 void #1\n",
      "170 void #1\n"
     ]
    }
   ],
   "source": [
    "for i in df_voids.index:\n",
    "    x1 = int(df_voids.loc[i][2]) \n",
    "    y1 = int(df_voids.loc[i][3]) \n",
    "    x2 = int(df_voids.loc[i][4])  \n",
    "    y2 = int(df_voids.loc[i][5])\n",
    "    print(df_voids.loc[i][1])"
   ]
  },
  {
   "cell_type": "code",
   "execution_count": 63,
   "metadata": {},
   "outputs": [
    {
     "data": {
      "text/plain": [
       "True"
      ]
     },
     "execution_count": 63,
     "metadata": {},
     "output_type": "execute_result"
    }
   ],
   "source": [
    "#image_path_bb = os.path.join(folder_path_final, filename)\n",
    "\n",
    "img_path = '/home/cremerf/FinalProject/scripts/test_neightbours2.jpg'\n",
    "# load the image\n",
    "image = cv2.imread(img_path)\n",
    "\n",
    "# loop over indexes and for each index plot the rectangles\n",
    "#for idx in df_voids.index:\n",
    "\n",
    "# get the coordinates for each index/rectangle\n",
    "for i in df_voids.index:\n",
    "    x1 = int(df_voids.loc[i][2]) \n",
    "    y1 = int(df_voids.loc[i][3]) \n",
    "    x2 = int(df_voids.loc[i][4])  \n",
    "    y2 = int(df_voids.loc[i][5])\n",
    "\n",
    "\n",
    "    # # Window name in which image is displayed\n",
    "    window_name = 'Object'\n",
    "    # represents the top left corner of rectangle\n",
    "    start_point=(x1, y1)\n",
    "\n",
    "    # represents the top right corner of rectangle\n",
    "    end_point=(x2,y2)\n",
    "\n",
    "    # # Blue color in BGR\n",
    "    color = (0, 0, 255)\n",
    "\n",
    "    # # Line thickness of 2 px\n",
    "    thickness = 5\n",
    "\n",
    "    # plot the rectangle over the image\n",
    "    cv2.putText(image,str(df_voids.loc[i][1]),(x1,y1-10),cv2.FONT_HERSHEY_PLAIN,0.7,(0,0,0),1)\n",
    "    image = cv2.rectangle(image, start_point, end_point, color, thickness)\n",
    "\n",
    "# save the img\n",
    "cv2.imwrite(filename='test_voids5.jpg', img=image)"
   ]
  },
  {
   "cell_type": "code",
   "execution_count": null,
   "metadata": {},
   "outputs": [],
   "source": [
    "9\t424\t424 void #1\t785.095965\t1608.560190"
   ]
  },
  {
   "cell_type": "code",
   "execution_count": 17,
   "metadata": {},
   "outputs": [],
   "source": [
    "def image_mean(x, y, w, h, img_path):\n",
    "    \n",
    "    image = cv2.imread(img_path)\n",
    "    gray = cv2.cvtColor(image, cv2.COLOR_BGR2GRAY)\n",
    "    roi = np.mean(gray[y:y + h, x:x + w])\n",
    "\n",
    "    return roi"
   ]
  },
  {
   "cell_type": "code",
   "execution_count": 42,
   "metadata": {},
   "outputs": [
    {
     "data": {
      "text/plain": [
       "Neightbour            661\n",
       "Label         661 void #1\n",
       "x1                1658.43\n",
       "y1                1996.02\n",
       "x2                1831.77\n",
       "y2                2245.85\n",
       "Width              173.34\n",
       "Height            249.831\n",
       "Name: 6, dtype: object"
      ]
     },
     "execution_count": 42,
     "metadata": {},
     "output_type": "execute_result"
    }
   ],
   "source": [
    "df_voids.loc[6]"
   ]
  },
  {
   "cell_type": "code",
   "execution_count": 43,
   "metadata": {},
   "outputs": [],
   "source": [
    "roi = image_mean(x=1658,y=1996,w=173,h=249,img_path=img_path)"
   ]
  },
  {
   "cell_type": "code",
   "execution_count": 44,
   "metadata": {},
   "outputs": [
    {
     "data": {
      "text/plain": [
       "38.753441511711586"
      ]
     },
     "execution_count": 44,
     "metadata": {},
     "output_type": "execute_result"
    }
   ],
   "source": [
    "roi"
   ]
  },
  {
   "cell_type": "code",
   "execution_count": 45,
   "metadata": {},
   "outputs": [
    {
     "data": {
      "text/plain": [
       "X_center    1918.438461\n",
       "Y_center    2120.930679\n",
       "Width        173.339578\n",
       "Height       249.830856\n",
       "Name: 661, dtype: float64"
      ]
     },
     "execution_count": 45,
     "metadata": {},
     "output_type": "execute_result"
    }
   ],
   "source": [
    "df_predictions.loc[661]"
   ]
  },
  {
   "cell_type": "code",
   "execution_count": 46,
   "metadata": {},
   "outputs": [],
   "source": [
    "roi = image_mean(x=int((1918-173/2)),y=int((2120-249/2)),w=173,h=249,img_path=img_path)"
   ]
  },
  {
   "cell_type": "code",
   "execution_count": 47,
   "metadata": {},
   "outputs": [
    {
     "data": {
      "text/plain": [
       "91.66453095619472"
      ]
     },
     "execution_count": 47,
     "metadata": {},
     "output_type": "execute_result"
    }
   ],
   "source": [
    "roi"
   ]
  },
  {
   "cell_type": "code",
   "execution_count": null,
   "metadata": {},
   "outputs": [],
   "source": [
    "roi = image_mean(x=int((2083-145/2)),y=int((2518-320/2)),w=145,h=320,img_path=img_path)"
   ]
  },
  {
   "cell_type": "code",
   "execution_count": null,
   "metadata": {},
   "outputs": [],
   "source": []
  },
  {
   "cell_type": "code",
   "execution_count": null,
   "metadata": {},
   "outputs": [],
   "source": []
  }
 ],
 "metadata": {
  "kernelspec": {
   "display_name": "Python 3.6.9 64-bit",
   "language": "python",
   "name": "python3"
  },
  "language_info": {
   "codemirror_mode": {
    "name": "ipython",
    "version": 3
   },
   "file_extension": ".py",
   "mimetype": "text/x-python",
   "name": "python",
   "nbconvert_exporter": "python",
   "pygments_lexer": "ipython3",
   "version": "3.6.9 (default, Nov 25 2022, 14:10:45) \n[GCC 8.4.0]"
  },
  "orig_nbformat": 4,
  "vscode": {
   "interpreter": {
    "hash": "31f2aee4e71d21fbe5cf8b01ff0e069b9275f58929596ceb00d14d90e3e16cd6"
   }
  }
 },
 "nbformat": 4,
 "nbformat_minor": 2
}
