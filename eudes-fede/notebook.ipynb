{
 "cells": [
  {
   "cell_type": "code",
   "execution_count": 1,
   "metadata": {},
   "outputs": [],
   "source": [
    "import sys\n",
    "sys.path.append('../')"
   ]
  },
  {
   "cell_type": "code",
   "execution_count": 3,
   "metadata": {},
   "outputs": [],
   "source": [
    "from scripts.packages.yolo_predict import YOLO_Pred\n",
    "import cv2\n",
    "import yaml\n",
    "from yaml.loader import SafeLoader\n",
    "import numpy as np\n",
    "import pandas as pd"
   ]
  },
  {
   "cell_type": "code",
   "execution_count": 2,
   "metadata": {},
   "outputs": [],
   "source": [
    "%load_ext autoreload\n",
    "%autoreload 2"
   ]
  },
  {
   "cell_type": "code",
   "execution_count": 3,
   "metadata": {},
   "outputs": [],
   "source": [
    "%reload_ext autoreload"
   ]
  },
  {
   "cell_type": "code",
   "execution_count": 4,
   "metadata": {},
   "outputs": [
    {
     "name": "stdout",
     "output_type": "stream",
     "text": [
      "4.6.0\n"
     ]
    }
   ],
   "source": [
    "print(cv2.__version__)"
   ]
  },
  {
   "cell_type": "code",
   "execution_count": null,
   "metadata": {},
   "outputs": [],
   "source": [
    "yolo = YOLO_Pred('/home/cremerf/FinalProject/data/first_training/weights/bestnoft.onnx', '/home/cremerf/FinalProject/data/config_blmodel.yaml')"
   ]
  },
  {
   "cell_type": "code",
   "execution_count": 22,
   "metadata": {},
   "outputs": [
    {
     "name": "stdout",
     "output_type": "stream",
     "text": [
      "3264 2448\n",
      "5.1 3.825\n"
     ]
    }
   ],
   "source": [
    "df_predictions = yolo.predictions('C:/Users/admin/Downloads/eudes-fede/eudes-fede/test_8.jpg')\n",
    "\n",
    "image = cv2.imread('C:/Users/admin/Downloads/eudes-fede/eudes-fede/test_8.jpg')\n",
    "image_w, image_h = image.shape[:2]\n",
    "print(image_w, image_h )\n",
    "INPUT_WH_YOLO=640\n",
    "x_factor = image_w/INPUT_WH_YOLO\n",
    "y_factor = image_h/INPUT_WH_YOLO\n",
    "print(x_factor, y_factor)\n",
    "\n",
    "df_predictions[['Width']]=df_predictions[['Width']]/x_factor\n",
    "df_predictions[['Height']]=df_predictions[['Height']]/x_factor"
   ]
  },
  {
   "cell_type": "markdown",
   "metadata": {},
   "source": [
    "#### 1er algoritmo/heuristica\n",
    "\n",
    "\n",
    "    * Detecta bounding box vecino de la izquierda\n",
    "        * TODO --> mismos calculos pero para la derecha y arriba\n"
   ]
  },
  {
   "cell_type": "code",
   "execution_count": 48,
   "metadata": {},
   "outputs": [
    {
     "data": {
      "text/plain": [
       "Center_X    204.798553\n",
       "Center_Y    269.719086\n",
       "Width        37.879337\n",
       "Height       46.832764\n",
       "Name: 158, dtype: float64"
      ]
     },
     "execution_count": 48,
     "metadata": {},
     "output_type": "execute_result"
    }
   ],
   "source": [
    "df_predictions.loc[158]"
   ]
  },
  {
   "cell_type": "code",
   "execution_count": 40,
   "metadata": {},
   "outputs": [
    {
     "data": {
      "text/plain": [
       "Center_X    171.735123\n",
       "Center_Y    266.884888\n",
       "Width        29.631151\n",
       "Height       46.749153\n",
       "Name: 598, dtype: float64"
      ]
     },
     "execution_count": 40,
     "metadata": {},
     "output_type": "execute_result"
    }
   ],
   "source": [
    "df_predictions.loc[598 ]"
   ]
  },
  {
   "cell_type": "code",
   "execution_count": 60,
   "metadata": {},
   "outputs": [
    {
     "name": "stdout",
     "output_type": "stream",
     "text": [
      "El bounding box 694 tiene al bb 693 de vecino\n",
      "251.52227435392493 262.4385681152344 271.8318852368523 ___ 177.3695993460861 192.5100555419922 204.15035915000766\n"
     ]
    }
   ],
   "source": [
    "#df_predictions / \n",
    "dict_l_n = {  } # neigh left\n",
    "dict_r_n = { } # neigh right\n",
    "dict_h_n= {}  # alone right\n",
    "dict_a = { } # alone right\n",
    "\n",
    "\n",
    "for index_bb in df_predictions.index:\n",
    "    list_of_neightbours_l = []\n",
    "    list_of_neightbours_r = []\n",
    "    list_of_neightbours_h = [] \n",
    "    list_of_alones_l = []\n",
    "    list_of_alones_r = []\n",
    "    list_of_alones_h=[]\n",
    "    for index in df_predictions.index:\n",
    "        X_center_0 = df_predictions.loc[index_bb][0]\n",
    "        Y_center_0 = df_predictions.loc[index_bb][1]\n",
    "        Width_0 = df_predictions.loc[index_bb][2]\n",
    "        height_0 = df_predictions.loc[index_bb][3]\n",
    "        threshold_x_0 = 0.8* Width_0/x_factor\n",
    "        threshold_y_0 = 0.8 * height_0/y_factor\n",
    "\n",
    "        X_center_neightbour = df_predictions.loc[index][0]\n",
    "        Y_center_neightbour = df_predictions.loc[index][1]\n",
    "        a=4\n",
    "        k=1.2\n",
    "\n",
    "        ### Neightbor Left\n",
    "        x_min_l = X_center_0 - Width_0 - (a*threshold_x_0)\n",
    "        x_max_l = X_center_0 - Width_0 + (k*threshold_x_0)\n",
    "\n",
    "        y_min_l = Y_center_0 - (k*threshold_y_0)\n",
    "        y_max_l = Y_center_0 + (k*threshold_y_0)\n",
    "        \n",
    "        ### Neightbor Right\n",
    "        x_min_r = X_center_0 + Width_0 - (k*threshold_x_0)\n",
    "        x_max_r = X_center_0 + Width_0 + (a*threshold_x_0)\n",
    "\n",
    "        y_min_r = Y_center_0 - (k*threshold_y_0)\n",
    "        y_max_r = Y_center_0 + (k*threshold_y_0)\n",
    "        \n",
    "        ### Neightbor High\n",
    "        x_min_h = X_center_0 - (k*threshold_x_0)\n",
    "        x_max_h = X_center_0 + (2*k*threshold_x_0)\n",
    "\n",
    "        y_min_h = Y_center_0 + height_0 - (0.8*threshold_y_0)\n",
    "        y_max_h = Y_center_0 + height_0 + (2*a*threshold_y_0)\n",
    "        \n",
    "        ### Search neig left\n",
    "        if (x_min_l < X_center_neightbour < x_max_l and y_min_l < Y_center_neightbour < y_max_l )  :\n",
    "            None\n",
    "            if index_bb==694 and index==693:\n",
    "                print(f'El bounding box {index_bb} tiene al bb {index} de vecino')\n",
    "                print(x_min_l, X_center_neightbour, x_max_l, \"___\", y_min_l, Y_center_neightbour,y_max_l )\n",
    "            list_of_neightbours_l.append([index])\n",
    "            try:\n",
    "                dict_l_n[str(index_bb)].append(index)\n",
    "            except KeyError:\n",
    "                dict_l_n[str(index_bb)]=[]\n",
    "                dict_l_n[str(index_bb)].append(index)\n",
    "            \n",
    "        else:\n",
    "            if index_bb==288 and index==277:\n",
    "                print(f'El bounding box {index_bb} no tiene vencidad con {index}')\n",
    "                print(x_min_l, X_center_neightbour, x_max_l, \"___\", y_min_l, Y_center_neightbour,y_max_l )\n",
    "            list_of_alones_l.append([index])\n",
    "                # print(x_min, X_center_neightbour, x_max, \"___\", y_min, Y_center_neightbour,y_max )\n",
    "        ### Search neig right\n",
    "        if (x_min_r < X_center_neightbour < x_max_r and y_min_r < Y_center_neightbour < y_max_r ):\n",
    "            None\n",
    "            # if index_bb==1060:\n",
    "            #     print(f'El bounding box {index_bb} tiene al bb {index} de vecino')\n",
    "            #     print(x_min, X_center_neightbour, x_max, \"___\", y_min, Y_center_neightbour,y_max )\n",
    "            list_of_neightbours_r.append([index])\n",
    "            try:\n",
    "                dict_r_n[str(index_bb)].append(index)\n",
    "            except KeyError:\n",
    "                dict_r_n[str(index_bb)]=[]\n",
    "                dict_r_n[str(index_bb)].append(index)\n",
    "        else:\n",
    "            None\n",
    "            # if index_bb==1060 and index==1059:\n",
    "            #     print(f'El bounding box {index_bb} no tiene vecinos')\n",
    "            list_of_alones_r.append([index_bb, index])\n",
    "            \n",
    "        # Search neig hight    \n",
    "        if (x_min_h < X_center_neightbour < x_max_h and y_min_h < Y_center_neightbour < y_max_h ):\n",
    "            None\n",
    "            # if index_bb==1060:\n",
    "            #     print(f'El bounding box {index_bb} tiene al bb {index} de vecino')\n",
    "            #     print(x_min, X_center_neightbour, x_max, \"___\", y_min, Y_center_neightbour,y_max )\n",
    "            list_of_neightbours_h.append([index])\n",
    "            try:\n",
    "                dict_h_n[str(index_bb)].append(index)\n",
    "            except KeyError:\n",
    "                dict_h_n[str(index_bb)]=[]\n",
    "                dict_h_n[str(index_bb)].append(index)\n",
    "        else:\n",
    "            None\n",
    "            # if index_bb==1060 and index==1059:\n",
    "            #     print(f'El bounding box {index_bb} no tiene vecinos')\n",
    "            list_of_alones_h.append([index_bb, index])\n",
    "    # try:\n",
    "    #     dict_a[str(index_bb)].append(index)\n",
    "    # except KeyError:\n",
    "    #     dict_a[str(index_bb)]=indexSSS\n",
    "    #             # print(x_min, X_center_neightbour, x_max, \"___\", y_min, Y_center_neightbour,y_max )\n",
    "    "
   ]
  },
  {
   "cell_type": "code",
   "execution_count": 69,
   "metadata": {},
   "outputs": [
    {
     "name": "stdout",
     "output_type": "stream",
     "text": [
      "55\n"
     ]
    },
    {
     "data": {
      "text/plain": [
       "[368]"
      ]
     },
     "execution_count": 69,
     "metadata": {},
     "output_type": "execute_result"
    }
   ],
   "source": [
    "print(len(dict_r_n))\n",
    "dict_r_n['664']"
   ]
  },
  {
   "cell_type": "code",
   "execution_count": null,
   "metadata": {},
   "outputs": [
    {
     "data": {
      "text/plain": [
       "{'303': [606],\n",
       " '368': [664],\n",
       " '333': [176],\n",
       " '288': [277],\n",
       " '693': [576],\n",
       " '277': [276],\n",
       " '694': [693],\n",
       " '594': [309],\n",
       " '370': [368],\n",
       " '341': [494],\n",
       " '276': [126],\n",
       " '576': [288],\n",
       " '606': [141, 319],\n",
       " '602': [158],\n",
       " '609': [608],\n",
       " '158': [598],\n",
       " '598': [315, 748],\n",
       " '126': [274, 422],\n",
       " '349': [336],\n",
       " '207': [537],\n",
       " '374': [215],\n",
       " '245': [77],\n",
       " '268': [694],\n",
       " '102': [5],\n",
       " '608': [303],\n",
       " '272': [112],\n",
       " '283': [268],\n",
       " '5': [4],\n",
       " '376': [374],\n",
       " '400': [677],\n",
       " '494': [493],\n",
       " '688': [80],\n",
       " '84': [93, 688],\n",
       " '261': [96, 97],\n",
       " '336': [333],\n",
       " '461': [594],\n",
       " '360': [514],\n",
       " '699': [283],\n",
       " '325': [175],\n",
       " '630': [36],\n",
       " '94': [409],\n",
       " '502': [171],\n",
       " '274': [272],\n",
       " '748': [461],\n",
       " '42': [502],\n",
       " '551': [684],\n",
       " '200': [199],\n",
       " '149': [609],\n",
       " '96': [103],\n",
       " '403': [551],\n",
       " '215': [372],\n",
       " '4': [2],\n",
       " '179': [333, 176],\n",
       " '493': [757],\n",
       " '409': [84],\n",
       " '97': [103],\n",
       " '103': [7],\n",
       " '319': [602],\n",
       " '67': [391]}"
      ]
     },
     "execution_count": 90,
     "metadata": {},
     "output_type": "execute_result"
    },
    {
     "name": "stdout",
     "output_type": "stream",
     "text": [
      "ERROR! Session/line number was not unique in database. History logging moved to new session 512\n"
     ]
    }
   ],
   "source": [
    "dict_l_n"
   ]
  },
  {
   "cell_type": "code",
   "execution_count": 31,
   "metadata": {},
   "outputs": [
    {
     "data": {
      "text/plain": [
       "{'594': [336],\n",
       " '276': [748],\n",
       " '84': [694],\n",
       " '699': [149],\n",
       " '757': [372],\n",
       " '215': [224],\n",
       " '243': [276],\n",
       " '80': [576],\n",
       " '224': [390],\n",
       " '199': [222]}"
      ]
     },
     "execution_count": 31,
     "metadata": {},
     "output_type": "execute_result"
    }
   ],
   "source": [
    "dict_h_n"
   ]
  },
  {
   "cell_type": "code",
   "execution_count": 133,
   "metadata": {},
   "outputs": [
    {
     "name": "stdout",
     "output_type": "stream",
     "text": [
      "11 17\n"
     ]
    }
   ],
   "source": [
    "print(len(list_of_neightbours_l), len(list_of_neightbours_r))"
   ]
  },
  {
   "cell_type": "code",
   "execution_count": 138,
   "metadata": {},
   "outputs": [
    {
     "name": "stdout",
     "output_type": "stream",
     "text": [
      "list_of_alones_l:  True\n",
      "list_of_neightbours_l False\n",
      "list_of_alones_r:  False\n",
      "list_of_neightbours_r False\n"
     ]
    }
   ],
   "source": [
    "i=757\n",
    "print(\"list_of_alones_l: \", i in list_of_alones_l)\n",
    "print(\"list_of_neightbours_l\", i in list_of_neightbours_l)\n",
    "print(\"list_of_alones_r: \", i in list_of_alones_r)\n",
    "print(\"list_of_neightbours_r\", i in list_of_neightbours_r)\n"
   ]
  },
  {
   "cell_type": "code",
   "execution_count": 149,
   "metadata": {},
   "outputs": [
    {
     "data": {
      "text/plain": [
       "[333,\n",
       " 333,\n",
       " 693,\n",
       " 693,\n",
       " 310,\n",
       " 309,\n",
       " 36,\n",
       " 694,\n",
       " 276,\n",
       " 576,\n",
       " 606,\n",
       " 609,\n",
       " 598,\n",
       " 207,\n",
       " 374,\n",
       " 268,\n",
       " 272,\n",
       " 5,\n",
       " 5,\n",
       " 494,\n",
       " 461,\n",
       " 360,\n",
       " 748,\n",
       " 748,\n",
       " 757,\n",
       " 42,\n",
       " 96,\n",
       " 67]"
      ]
     },
     "execution_count": 149,
     "metadata": {},
     "output_type": "execute_result"
    }
   ],
   "source": [
    "list_of_neightbours"
   ]
  },
  {
   "cell_type": "code",
   "execution_count": 33,
   "metadata": {},
   "outputs": [
    {
     "data": {
      "text/plain": [
       "True"
      ]
     },
     "execution_count": 33,
     "metadata": {},
     "output_type": "execute_result"
    }
   ],
   "source": [
    "## Plot Neighbors\n",
    "\n",
    "for ind in [158,319, 315, 748]:\n",
    "    # extract bounding box\n",
    "    x,y,w,h = boxes_np[ind]\n",
    "    # bb_conf = int(confidences_np[ind]*100)\n",
    "    # classes_id = classes[ind]\n",
    "    # class_name = self.labels[classes_id]\n",
    "    colors = (255, 0, 0)\n",
    "\n",
    "    # text = f'{class_name}: {bb_conf}%'\n",
    "\n",
    "    cv2.rectangle(image,(x,y),(x+w,y+h),colors,2)\n",
    "    cv2.rectangle(image,(x,y-30),(x+w,y),colors,-1)\n",
    "\n",
    "    cv2.putText(image,str(ind),(x,y-10),cv2.FONT_HERSHEY_PLAIN,0.7,(0,0,0),1)\n",
    "cv2.imwrite(filename='test_neightbours_r.jpg',img=image)"
   ]
  },
  {
   "cell_type": "markdown",
   "metadata": {},
   "source": [
    "### IoU"
   ]
  },
  {
   "cell_type": "code",
   "execution_count": 88,
   "metadata": {},
   "outputs": [],
   "source": [
    "a=276\n",
    "xA1=df_predictions.loc[a][0]-df_predictions.loc[a][2]/2\n",
    "yA1=df_predictions.loc[a][1]+df_predictions.loc[a][3]/2\n",
    "xA2=df_predictions.loc[a][0]+df_predictions.loc[a][2]/2\n",
    "yA2=df_predictions.loc[a][1]-df_predictions.loc[a][3]/2\n",
    "boxA=[xA1, yA1, xA2, yA2 ]\n",
    "\n",
    "b=277\n",
    "xB1=df_predictions.loc[b][0]-df_predictions.loc[b][2]/2\n",
    "yB1=df_predictions.loc[b][1]+df_predictions.loc[b][3]/2\n",
    "xB2=df_predictions.loc[b][0]+df_predictions.loc[b][2]/2\n",
    "yB2=df_predictions.loc[b][1]-df_predictions.loc[b][3]/2\n",
    "boxB=[xB1, yB1,xB2, yB2 ]\n"
   ]
  },
  {
   "cell_type": "code",
   "execution_count": 80,
   "metadata": {},
   "outputs": [],
   "source": [
    "# import the necessary packages\n",
    "from collections import namedtuple\n",
    "import numpy as np\n",
    "import cv2\n",
    "\n",
    "# define the Detection object\n",
    "Detection = namedtuple(\"Detection\", [\"image_path\", \"gt\", \"pred\"])\n",
    "\n",
    "def bb_intersection_over_union(boxA, boxB):\n",
    "    # determine the (x, y)-coordinates of the intersection rectangle\n",
    "    xA = max(boxA[0], boxB[0])\n",
    "    yA = max(boxA[1], boxB[1])\n",
    "    xB = min(boxA[2], boxB[2])\n",
    "    yB = min(boxA[3], boxB[3])\n",
    "\n",
    "\n",
    "    # compute the area of intersection rectangle\n",
    "    interArea = (xB - xA) * (yB - yA)\n",
    "\n",
    "    # compute the area of both the prediction and ground-truth\n",
    "    # rectangles\n",
    "    boxAArea = (boxA[2] - boxA[0]) * (boxA[3] - boxA[1])\n",
    "    boxBArea = (boxB[2] - boxB[0]) * (boxB[3] - boxB[1])\n",
    "\n",
    "    # compute the intersection over union by taking the intersection\n",
    "    # area and dividing it by the sum of prediction + ground-truth\n",
    "    # areas - the interesection area\n",
    "    iou = interArea / float(boxAArea + boxBArea - interArea)\n",
    "\n",
    "    # return the intersection over union value\n",
    "    return iou"
   ]
  },
  {
   "cell_type": "code",
   "execution_count": 89,
   "metadata": {},
   "outputs": [
    {
     "data": {
      "text/plain": [
       "-0.012425531609167425"
      ]
     },
     "execution_count": 89,
     "metadata": {},
     "output_type": "execute_result"
    }
   ],
   "source": [
    "bb_intersection_over_union(boxA, boxB)"
   ]
  },
  {
   "cell_type": "code",
   "execution_count": null,
   "metadata": {},
   "outputs": [],
   "source": [
    "left\n",
    "X_c_e=X_c-w\n",
    "Y_c_e=Y_c\n",
    "\n",
    "Right\n",
    "X_c_e=X_c+w\n",
    "Y_c_e=Y_c"
   ]
  }
 ],
 "metadata": {
  "kernelspec": {
   "display_name": "Python 3.6.9 64-bit",
   "language": "python",
   "name": "python3"
  },
  "language_info": {
   "codemirror_mode": {
    "name": "ipython",
    "version": 3
   },
   "file_extension": ".py",
   "mimetype": "text/x-python",
   "name": "python",
   "nbconvert_exporter": "python",
   "pygments_lexer": "ipython3",
   "version": "3.6.9"
  },
  "orig_nbformat": 4,
  "vscode": {
   "interpreter": {
    "hash": "31f2aee4e71d21fbe5cf8b01ff0e069b9275f58929596ceb00d14d90e3e16cd6"
   }
  }
 },
 "nbformat": 4,
 "nbformat_minor": 2
}
