{
 "cells": [
  {
   "cell_type": "code",
   "execution_count": 150,
   "metadata": {},
   "outputs": [],
   "source": [
    "from yolo_predict import YOLO_Pred\n",
    "import cv2\n",
    "import yaml\n",
    "from yaml.loader import SafeLoader\n",
    "import numpy as np\n",
    "import pandas as pd"
   ]
  },
  {
   "cell_type": "code",
   "execution_count": 2,
   "metadata": {},
   "outputs": [],
   "source": [
    "%load_ext autoreload\n",
    "%autoreload 2"
   ]
  },
  {
   "cell_type": "code",
   "execution_count": 3,
   "metadata": {},
   "outputs": [],
   "source": [
    "%reload_ext autoreload"
   ]
  },
  {
   "cell_type": "code",
   "execution_count": 4,
   "metadata": {},
   "outputs": [
    {
     "name": "stdout",
     "output_type": "stream",
     "text": [
      "4.6.0\n"
     ]
    }
   ],
   "source": [
    "print(cv2.__version__)"
   ]
  },
  {
   "cell_type": "code",
   "execution_count": 151,
   "metadata": {},
   "outputs": [],
   "source": [
    "yolo = YOLO_Pred('/home/cremerf/FinalProject/detect/best.onnx', 'data.yaml')"
   ]
  },
  {
   "cell_type": "code",
   "execution_count": 152,
   "metadata": {},
   "outputs": [],
   "source": [
    "df_predictions = yolo.predictions('/home/cremerf/FinalProject/data/images/test/test_7.jpg')"
   ]
  },
  {
   "cell_type": "code",
   "execution_count": 153,
   "metadata": {},
   "outputs": [
    {
     "data": {
      "text/html": [
       "<div>\n",
       "<style scoped>\n",
       "    .dataframe tbody tr th:only-of-type {\n",
       "        vertical-align: middle;\n",
       "    }\n",
       "\n",
       "    .dataframe tbody tr th {\n",
       "        vertical-align: top;\n",
       "    }\n",
       "\n",
       "    .dataframe thead th {\n",
       "        text-align: right;\n",
       "    }\n",
       "</style>\n",
       "<table border=\"1\" class=\"dataframe\">\n",
       "  <thead>\n",
       "    <tr style=\"text-align: right;\">\n",
       "      <th></th>\n",
       "      <th>Center_X</th>\n",
       "      <th>Center_Y</th>\n",
       "      <th>Width</th>\n",
       "      <th>Height</th>\n",
       "      <th>Confidence</th>\n",
       "      <th>ProbabilityScore</th>\n",
       "    </tr>\n",
       "  </thead>\n",
       "  <tbody>\n",
       "    <tr>\n",
       "      <th>572</th>\n",
       "      <td>98.517586</td>\n",
       "      <td>58.344646</td>\n",
       "      <td>19.973438</td>\n",
       "      <td>24.347050</td>\n",
       "      <td>0.001154</td>\n",
       "      <td>0.999977</td>\n",
       "    </tr>\n",
       "    <tr>\n",
       "      <th>1059</th>\n",
       "      <td>155.107376</td>\n",
       "      <td>107.543571</td>\n",
       "      <td>17.532705</td>\n",
       "      <td>13.032552</td>\n",
       "      <td>0.000142</td>\n",
       "      <td>0.999990</td>\n",
       "    </tr>\n",
       "    <tr>\n",
       "      <th>581</th>\n",
       "      <td>174.102814</td>\n",
       "      <td>61.129448</td>\n",
       "      <td>22.131855</td>\n",
       "      <td>16.180351</td>\n",
       "      <td>0.000332</td>\n",
       "      <td>0.999981</td>\n",
       "    </tr>\n",
       "    <tr>\n",
       "      <th>585</th>\n",
       "      <td>204.683701</td>\n",
       "      <td>56.656437</td>\n",
       "      <td>18.419516</td>\n",
       "      <td>10.686930</td>\n",
       "      <td>0.000040</td>\n",
       "      <td>0.999977</td>\n",
       "    </tr>\n",
       "    <tr>\n",
       "      <th>1203</th>\n",
       "      <td>24.865353</td>\n",
       "      <td>126.568062</td>\n",
       "      <td>22.158545</td>\n",
       "      <td>29.920956</td>\n",
       "      <td>0.008113</td>\n",
       "      <td>0.999988</td>\n",
       "    </tr>\n",
       "    <tr>\n",
       "      <th>...</th>\n",
       "      <td>...</td>\n",
       "      <td>...</td>\n",
       "      <td>...</td>\n",
       "      <td>...</td>\n",
       "      <td>...</td>\n",
       "      <td>...</td>\n",
       "    </tr>\n",
       "    <tr>\n",
       "      <th>1145</th>\n",
       "      <td>203.527283</td>\n",
       "      <td>115.974922</td>\n",
       "      <td>23.511864</td>\n",
       "      <td>17.438477</td>\n",
       "      <td>0.002097</td>\n",
       "      <td>0.999991</td>\n",
       "    </tr>\n",
       "    <tr>\n",
       "      <th>712</th>\n",
       "      <td>573.866516</td>\n",
       "      <td>65.199333</td>\n",
       "      <td>29.849636</td>\n",
       "      <td>8.114309</td>\n",
       "      <td>0.000128</td>\n",
       "      <td>0.999991</td>\n",
       "    </tr>\n",
       "    <tr>\n",
       "      <th>310</th>\n",
       "      <td>557.077026</td>\n",
       "      <td>26.599327</td>\n",
       "      <td>32.811779</td>\n",
       "      <td>24.781599</td>\n",
       "      <td>0.000061</td>\n",
       "      <td>0.999990</td>\n",
       "    </tr>\n",
       "    <tr>\n",
       "      <th>600</th>\n",
       "      <td>323.434723</td>\n",
       "      <td>56.862175</td>\n",
       "      <td>22.192471</td>\n",
       "      <td>12.150562</td>\n",
       "      <td>0.000072</td>\n",
       "      <td>0.999977</td>\n",
       "    </tr>\n",
       "    <tr>\n",
       "      <th>43</th>\n",
       "      <td>350.552216</td>\n",
       "      <td>4.484421</td>\n",
       "      <td>25.991859</td>\n",
       "      <td>8.640669</td>\n",
       "      <td>0.000985</td>\n",
       "      <td>0.999969</td>\n",
       "    </tr>\n",
       "  </tbody>\n",
       "</table>\n",
       "<p>161 rows × 6 columns</p>\n",
       "</div>"
      ],
      "text/plain": [
       "        Center_X    Center_Y      Width     Height  Confidence  \\\n",
       "572    98.517586   58.344646  19.973438  24.347050    0.001154   \n",
       "1059  155.107376  107.543571  17.532705  13.032552    0.000142   \n",
       "581   174.102814   61.129448  22.131855  16.180351    0.000332   \n",
       "585   204.683701   56.656437  18.419516  10.686930    0.000040   \n",
       "1203   24.865353  126.568062  22.158545  29.920956    0.008113   \n",
       "...          ...         ...        ...        ...         ...   \n",
       "1145  203.527283  115.974922  23.511864  17.438477    0.002097   \n",
       "712   573.866516   65.199333  29.849636   8.114309    0.000128   \n",
       "310   557.077026   26.599327  32.811779  24.781599    0.000061   \n",
       "600   323.434723   56.862175  22.192471  12.150562    0.000072   \n",
       "43    350.552216    4.484421  25.991859   8.640669    0.000985   \n",
       "\n",
       "      ProbabilityScore  \n",
       "572           0.999977  \n",
       "1059          0.999990  \n",
       "581           0.999981  \n",
       "585           0.999977  \n",
       "1203          0.999988  \n",
       "...                ...  \n",
       "1145          0.999991  \n",
       "712           0.999991  \n",
       "310           0.999990  \n",
       "600           0.999977  \n",
       "43            0.999969  \n",
       "\n",
       "[161 rows x 6 columns]"
      ]
     },
     "execution_count": 153,
     "metadata": {},
     "output_type": "execute_result"
    }
   ],
   "source": [
    "df_predictions"
   ]
  },
  {
   "cell_type": "code",
   "execution_count": 93,
   "metadata": {},
   "outputs": [],
   "source": [
    "img=cv2.imread('/home/cremerf/FinalProject/data/images/test/test_7.jpg')\n",
    "\n",
    "# cv2.waitKey(0)\n",
    "# cv2.destroyAllWindows()"
   ]
  },
  {
   "cell_type": "code",
   "execution_count": 94,
   "metadata": {},
   "outputs": [
    {
     "name": "stdout",
     "output_type": "stream",
     "text": [
      "['object']\n"
     ]
    }
   ],
   "source": [
    "# load YAML\n",
    "with open('/home/cremerf/FinalProject/detect/data.yaml', mode='r') as f:\n",
    "    data_yaml = yaml.load(f,Loader=SafeLoader)\n",
    "    \n",
    "labels = data_yaml['names']\n",
    "print(labels)"
   ]
  },
  {
   "cell_type": "code",
   "execution_count": 95,
   "metadata": {},
   "outputs": [],
   "source": [
    "# load YOLO model\n",
    "yolo = cv2.dnn.readNetFromONNX('/home/cremerf/FinalProject/detect/best.onnx')\n",
    "yolo.setPreferableBackend(cv2.dnn.DNN_BACKEND_OPENCV)\n",
    "yolo.setPreferableTarget(cv2.dnn.DNN_TARGET_CPU)\n",
    "\n",
    "# load the image\n",
    "img = cv2.imread('/home/cremerf/FinalProject/data/images/test/test_7.jpg')\n",
    "image = img.copy()\n",
    "row, col, d = image.shape\n",
    "\n",
    "# get the YOLO prediction from the the image\n",
    "# step-1 convert image into square image (array)\n",
    "max_rc = max(row,col)\n",
    "input_image = np.zeros((max_rc,max_rc,3),dtype=np.uint8)\n",
    "input_image[0:row,0:col] = image\n",
    "\n",
    "# step-2: get prediction from square array\n",
    "INPUT_WH_YOLO = 640\n",
    "blob = cv2.dnn.blobFromImage(input_image,1/255,(INPUT_WH_YOLO,INPUT_WH_YOLO),swapRB=True,crop=False)\n",
    "yolo.setInput(blob)\n",
    "preds = yolo.forward() # detection or prediction from YOLO"
   ]
  },
  {
   "cell_type": "code",
   "execution_count": 96,
   "metadata": {},
   "outputs": [],
   "source": [
    "labels = pd.DataFrame(preds[0])\n",
    "labels.columns = ['Center_X','Center_Y','Width','Height', 'Confidence','ProbabilityScore']"
   ]
  },
  {
   "cell_type": "code",
   "execution_count": 139,
   "metadata": {},
   "outputs": [],
   "source": [
    "# Non Maximum Supression\n",
    "# step-1: filter detection based on confidence (0.4) and probability score (0.25)\n",
    "detections = preds[0]\n",
    "boxes = []\n",
    "confidences = []\n",
    "classes = []\n",
    "\n",
    "# widht and height of the image (input_image)\n",
    "image_w, image_h = input_image.shape[:2]\n",
    "x_factor = image_w/INPUT_WH_YOLO\n",
    "y_factor = image_h/INPUT_WH_YOLO\n",
    "\n",
    "for i in range(len(detections)):\n",
    "    row = detections[i]\n",
    "    confidence = row[4] # confidence of detection an object\n",
    "    if confidence > 0.4:\n",
    "        class_score = row[5:].max() # maximum probability from 20 objects\n",
    "        class_id = row[5:].argmax() # get the index position at which max probabilty occur\n",
    "        \n",
    "        if class_score > 0.25:\n",
    "            cx, cy, w, h = row[0:4]\n",
    "            # construct bounding from four values\n",
    "            # left, top, width and height\n",
    "            left = int((cx - 0.5*w)*x_factor)\n",
    "            top = int((cy - 0.5*h)*y_factor)\n",
    "            width = int(w*x_factor)\n",
    "            height = int(h*y_factor)\n",
    "            \n",
    "            box = np.array([left,top,width,height])\n",
    "            \n",
    "            # append values into the list\n",
    "            confidences.append(confidence)\n",
    "            boxes.append(box)\n",
    "            classes.append(class_id)\n",
    "            \n",
    "# clean\n",
    "boxes_np = np.array(boxes).tolist()\n",
    "confidences_np = np.array(confidences).tolist()\n",
    "\n",
    "# NMS\n",
    "index = np.array(cv2.dnn.NMSBoxes(boxes_np,confidences_np,0.25,0.45)).flatten()"
   ]
  },
  {
   "cell_type": "code",
   "execution_count": null,
   "metadata": {},
   "outputs": [],
   "source": [
    "# Draw the Bounding\n",
    "for ind in index:\n",
    "    # extract bounding box\n",
    "    x,y,w,h = boxes_np[ind]\n",
    "    bb_conf = int(confidences_np[ind]*100)\n",
    "    \n",
    "    \n",
    "    cv2.rectangle(image,(x,y),(x+w,y+h),(0,255,0),2)\n",
    "    cv2.rectangle(image,(x,y-30),(x+w,y),(255,255,255),-1)\n",
    "    \n",
    "    cv2.putText(image,str(ind),(x,y-10),cv2.FONT_HERSHEY_PLAIN,2,(0,0,0),1)"
   ]
  },
  {
   "cell_type": "code",
   "execution_count": null,
   "metadata": {},
   "outputs": [],
   "source": [
    "cv2.imwrite(filename='test_neightbours.jpg',img=image)"
   ]
  },
  {
   "cell_type": "markdown",
   "metadata": {},
   "source": [
    "#### 1er algoritmo/heuristica\n",
    "\n",
    "\n",
    "    * Detecta bounding box vecino de la izquierda\n",
    "        * TODO --> mismos calculos pero para la derecha y arriba\n"
   ]
  },
  {
   "cell_type": "code",
   "execution_count": null,
   "metadata": {},
   "outputs": [],
   "source": [
    "df_predictions.head(5)"
   ]
  },
  {
   "cell_type": "code",
   "execution_count": 65,
   "metadata": {},
   "outputs": [
    {
     "data": {
      "text/plain": [
       "58.344646"
      ]
     },
     "execution_count": 65,
     "metadata": {},
     "output_type": "execute_result"
    }
   ],
   "source": [
    "df_predictions.iloc[0][1]"
   ]
  },
  {
   "cell_type": "code",
   "execution_count": 61,
   "metadata": {},
   "outputs": [],
   "source": [
    "X_center_0 = df_predictions.iloc[0][0]\n",
    "Y_center_0 = df_predictions.iloc[0][1]\n",
    "Width_0 = df_predictions.iloc[0][2]\n",
    "height_0 = df_predictions.iloc[0][3]\n",
    "threshold_x_0 = 0.2 * Width_0\n",
    "threshold_y_0 = 0.2 * height_0\n"
   ]
  },
  {
   "cell_type": "code",
   "execution_count": null,
   "metadata": {},
   "outputs": [],
   "source": [
    "x_min = X_center_0 - Width_0 - (0.5*threshold_x_0)"
   ]
  },
  {
   "cell_type": "code",
   "execution_count": null,
   "metadata": {},
   "outputs": [],
   "source": [
    "x_max = X_center_0 - Width_0 + (0.5*threshold_x_0)"
   ]
  },
  {
   "cell_type": "code",
   "execution_count": null,
   "metadata": {},
   "outputs": [],
   "source": [
    "y_min = Y_center_0 - (0.5*threshold_x_0)"
   ]
  },
  {
   "cell_type": "code",
   "execution_count": null,
   "metadata": {},
   "outputs": [],
   "source": [
    "y_max = Y_center_0 + (0.5*threshold_x_0)"
   ]
  },
  {
   "cell_type": "code",
   "execution_count": null,
   "metadata": {},
   "outputs": [],
   "source": [
    "df_predictions.iloc[1][0]"
   ]
  },
  {
   "cell_type": "code",
   "execution_count": 146,
   "metadata": {},
   "outputs": [
    {
     "data": {
      "text/plain": [
       "Center_X            473.648102\n",
       "Center_Y             33.051300\n",
       "Width                23.014057\n",
       "Height               11.927161\n",
       "Confidence            0.000122\n",
       "ProbabilityScore      0.999982\n",
       "Name: 379, dtype: float32"
      ]
     },
     "execution_count": 146,
     "metadata": {},
     "output_type": "execute_result"
    }
   ],
   "source": [
    "df_predictions.loc[379]"
   ]
  },
  {
   "cell_type": "code",
   "execution_count": 145,
   "metadata": {},
   "outputs": [
    {
     "data": {
      "text/plain": [
       "Center_X             50.824856\n",
       "Center_Y            112.998108\n",
       "Width                11.555897\n",
       "Height               10.522651\n",
       "Confidence            0.000614\n",
       "ProbabilityScore      0.999992\n",
       "Name: 1126, dtype: float32"
      ]
     },
     "execution_count": 145,
     "metadata": {},
     "output_type": "execute_result"
    }
   ],
   "source": [
    "df_predictions.loc[1126]"
   ]
  },
  {
   "cell_type": "code",
   "execution_count": null,
   "metadata": {},
   "outputs": [],
   "source": [
    "list_of_neightbours = []\n",
    "list_of_alones = []\n",
    "for index_bb in df_predictions.index:\n",
    "    for index in df_predictions.index:\n",
    "        X_center_0 = df_predictions.loc[index_bb][0]\n",
    "        Y_center_0 = df_predictions.loc[index_bb][1]\n",
    "        Width_0 = df_predictions.loc[index_bb][2]\n",
    "        height_0 = df_predictions.loc[index_bb][3]\n",
    "        threshold_x_0 = 0.5 * Width_0\n",
    "        threshold_y_0 = 0.5 * height_0\n",
    "\n",
    "        X_center_neightbour = df_predictions.loc[index][0]\n",
    "        Y_center_neightbour = df_predictions.loc[index][1]\n",
    "\n",
    "\n",
    "        x_min = X_center_0 - Width_0 - (0.5*threshold_x_0)\n",
    "        x_max = X_center_0 - Width_0 + (0.5*threshold_x_0)\n",
    "\n",
    "\n",
    "        y_min = Y_center_0 - (0.5*threshold_y_0)\n",
    "\n",
    "        y_max = Y_center_0 + (0.5*threshold_y_0)\n",
    "    \n",
    "        if x_min < X_center_neightbour < x_max and y_min < Y_center_neightbour < y_max:\n",
    "            print(f'El bounding box {index_bb} tiene al bb {index} de vecino')\n",
    "            list_of_neightbours.append(index_bb)\n",
    "        else:\n",
    "            print(f'El bounding box {index_bb} no tiene vecinos')\n",
    "            list_of_alones.append(index_bb)\n",
    "\n",
    "    "
   ]
  },
  {
   "cell_type": "code",
   "execution_count": 135,
   "metadata": {},
   "outputs": [
    {
     "data": {
      "text/plain": [
       "55"
      ]
     },
     "execution_count": 135,
     "metadata": {},
     "output_type": "execute_result"
    }
   ],
   "source": [
    "len(list_of_neightbours)"
   ]
  },
  {
   "cell_type": "code",
   "execution_count": 140,
   "metadata": {},
   "outputs": [
    {
     "data": {
      "text/plain": [
       "[585,\n",
       " 576,\n",
       " 577,\n",
       " 583,\n",
       " 574,\n",
       " 580,\n",
       " 1297,\n",
       " 496,\n",
       " 1235,\n",
       " 579,\n",
       " 579,\n",
       " 430,\n",
       " 230,\n",
       " 1174,\n",
       " 66,\n",
       " 587,\n",
       " 273,\n",
       " 143,\n",
       " 143,\n",
       " 422,\n",
       " 225,\n",
       " 277,\n",
       " 185,\n",
       " 1318,\n",
       " 397,\n",
       " 187,\n",
       " 317,\n",
       " 1176,\n",
       " 303,\n",
       " 303,\n",
       " 304,\n",
       " 149,\n",
       " 177,\n",
       " 1055,\n",
       " 229,\n",
       " 299,\n",
       " 227,\n",
       " 227,\n",
       " 227,\n",
       " 1152,\n",
       " 234,\n",
       " 234,\n",
       " 92,\n",
       " 461,\n",
       " 838,\n",
       " 616,\n",
       " 298,\n",
       " 298,\n",
       " 631,\n",
       " 330,\n",
       " 632,\n",
       " 59,\n",
       " 1320,\n",
       " 836,\n",
       " 23]"
      ]
     },
     "execution_count": 140,
     "metadata": {},
     "output_type": "execute_result"
    }
   ],
   "source": [
    "list_of_neightbours"
   ]
  },
  {
   "cell_type": "code",
   "execution_count": 132,
   "metadata": {},
   "outputs": [
    {
     "data": {
      "text/plain": [
       "25866"
      ]
     },
     "execution_count": 132,
     "metadata": {},
     "output_type": "execute_result"
    }
   ],
   "source": [
    "len(list_of_alones)"
   ]
  },
  {
   "cell_type": "code",
   "execution_count": null,
   "metadata": {},
   "outputs": [],
   "source": [
    "yolo.predct"
   ]
  },
  {
   "cell_type": "code",
   "execution_count": null,
   "metadata": {},
   "outputs": [],
   "source": [
    "df_predictions.loc[list_of_neightbours]"
   ]
  }
 ],
 "metadata": {
  "kernelspec": {
   "display_name": "Python 3.6.9 64-bit",
   "language": "python",
   "name": "python3"
  },
  "language_info": {
   "codemirror_mode": {
    "name": "ipython",
    "version": 3
   },
   "file_extension": ".py",
   "mimetype": "text/x-python",
   "name": "python",
   "nbconvert_exporter": "python",
   "pygments_lexer": "ipython3",
   "version": "3.6.9"
  },
  "orig_nbformat": 4,
  "vscode": {
   "interpreter": {
    "hash": "31f2aee4e71d21fbe5cf8b01ff0e069b9275f58929596ceb00d14d90e3e16cd6"
   }
  }
 },
 "nbformat": 4,
 "nbformat_minor": 2
}
